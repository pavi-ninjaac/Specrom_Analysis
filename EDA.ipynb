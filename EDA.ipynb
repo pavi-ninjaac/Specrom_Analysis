{
  "nbformat": 4,
  "nbformat_minor": 0,
  "metadata": {
    "colab": {
      "name": "EDA",
      "provenance": [],
      "mount_file_id": "1-eJviVrsSCkBDiQBfE4nhRxiuIYTAMUj",
      "authorship_tag": "ABX9TyOc9USVtjGVBVTz1GjTDoI4",
      "include_colab_link": true
    },
    "kernelspec": {
      "name": "python3",
      "display_name": "Python 3"
    }
  },
  "cells": [
    {
      "cell_type": "markdown",
      "metadata": {
        "id": "view-in-github",
        "colab_type": "text"
      },
      "source": [
        "<a href=\"https://colab.research.google.com/github/pavi-ninjaac/Specrom_Analysis/blob/main/EDA.ipynb\" target=\"_parent\"><img src=\"https://colab.research.google.com/assets/colab-badge.svg\" alt=\"Open In Colab\"/></a>"
      ]
    },
    {
      "cell_type": "code",
      "metadata": {
        "id": "Iw9xv_VRomrK"
      },
      "source": [
        "#import the libraries\r\n",
        "import pandas as pd\r\n",
        "import numpy as np\r\n",
        "import os\r\n",
        "import time\r\n",
        "import json\r\n"
      ],
      "execution_count": 1,
      "outputs": []
    },
    {
      "cell_type": "code",
      "metadata": {
        "colab": {
          "base_uri": "https://localhost:8080/"
        },
        "id": "RQtlcBi4qHEY",
        "outputId": "aac8711d-dc64-43a2-957f-d11b873fe5a2"
      },
      "source": [
        "!pip install fasttext"
      ],
      "execution_count": 3,
      "outputs": [
        {
          "output_type": "stream",
          "text": [
            "Collecting fasttext\n",
            "\u001b[?25l  Downloading https://files.pythonhosted.org/packages/f8/85/e2b368ab6d3528827b147fdb814f8189acc981a4bc2f99ab894650e05c40/fasttext-0.9.2.tar.gz (68kB)\n",
            "\u001b[K     |████████████████████████████████| 71kB 2.9MB/s \n",
            "\u001b[?25hRequirement already satisfied: pybind11>=2.2 in /usr/local/lib/python3.6/dist-packages (from fasttext) (2.6.1)\n",
            "Requirement already satisfied: setuptools>=0.7.0 in /usr/local/lib/python3.6/dist-packages (from fasttext) (51.0.0)\n",
            "Requirement already satisfied: numpy in /usr/local/lib/python3.6/dist-packages (from fasttext) (1.19.4)\n",
            "Building wheels for collected packages: fasttext\n",
            "  Building wheel for fasttext (setup.py) ... \u001b[?25l\u001b[?25hdone\n",
            "  Created wheel for fasttext: filename=fasttext-0.9.2-cp36-cp36m-linux_x86_64.whl size=3040988 sha256=0048a076ab6e31171dba9e089ec61c0445d370adbf47ba8ab97da5aa992cee0a\n",
            "  Stored in directory: /root/.cache/pip/wheels/98/ba/7f/b154944a1cf5a8cee91c154b75231136cc3a3321ab0e30f592\n",
            "Successfully built fasttext\n",
            "Installing collected packages: fasttext\n",
            "Successfully installed fasttext-0.9.2\n"
          ],
          "name": "stdout"
        }
      ]
    },
    {
      "cell_type": "code",
      "metadata": {
        "id": "jnQpBI5EqNxq"
      },
      "source": [
        "import fasttext"
      ],
      "execution_count": 4,
      "outputs": []
    },
    {
      "cell_type": "code",
      "metadata": {
        "colab": {
          "base_uri": "https://localhost:8080/"
        },
        "id": "QlU3am4TqjVu",
        "outputId": "bbfd54b9-d966-4aa3-c631-7615e0bf806c"
      },
      "source": [
        "from google.colab import drive\r\n",
        "drive.mount('/gdrive')\r\n",
        "%cd /gdrive"
      ],
      "execution_count": 5,
      "outputs": [
        {
          "output_type": "stream",
          "text": [
            "Mounted at /gdrive\n",
            "/gdrive\n"
          ],
          "name": "stdout"
        }
      ]
    },
    {
      "cell_type": "code",
      "metadata": {
        "colab": {
          "base_uri": "https://localhost:8080/"
        },
        "id": "9m5jZfEisE1g",
        "outputId": "338a17ed-a8e2-4ba4-9e75-1e33dc2b90c8"
      },
      "source": [
        "# load the data files\r\n",
        "df1 = pd.read_csv('/content/drive/MyDrive/Colab Notebooks/dataFiles/111778997-2020-12-23.csv')\r\n",
        "df2 = pd.read_csv('/content/drive/MyDrive/Colab Notebooks/dataFiles/395563332-2020-12-24.csv')\r\n",
        "print(\"The size of the dataset 1---->\",df1.shape)\r\n",
        "print(\"The size of the dataset 2---->\",df2.shape)"
      ],
      "execution_count": 14,
      "outputs": [
        {
          "output_type": "stream",
          "text": [
            "The size of the dataset 1----> (49350, 13)\n",
            "The size of the dataset 2----> (138448, 13)\n"
          ],
          "name": "stdout"
        },
        {
          "output_type": "stream",
          "text": [
            "/usr/local/lib/python3.6/dist-packages/IPython/core/interactiveshell.py:2718: DtypeWarning: Columns (1,2,3,4,5,6,7,8,9,10,11,12) have mixed types.Specify dtype option on import or set low_memory=False.\n",
            "  interactivity=interactivity, compiler=compiler, result=result)\n"
          ],
          "name": "stderr"
        }
      ]
    },
    {
      "cell_type": "code",
      "metadata": {
        "colab": {
          "base_uri": "https://localhost:8080/"
        },
        "id": "Azhwk07ttlVl",
        "outputId": "ef7ce256-9df0-4cc1-b8cd-f87aa5599c56"
      },
      "source": [
        "#add those to dataframe into one using the pandas append method\r\n",
        "data = df1.append(df2 , ignore_index = True)\r\n",
        "print(\"The shape of the whole dataset--->\",data.shape)"
      ],
      "execution_count": 15,
      "outputs": [
        {
          "output_type": "stream",
          "text": [
            "The shape of the whole dataset---> (187798, 13)\n"
          ],
          "name": "stdout"
        }
      ]
    },
    {
      "cell_type": "code",
      "metadata": {
        "colab": {
          "base_uri": "https://localhost:8080/"
        },
        "id": "-wms7xM245rQ",
        "outputId": "07c9188c-163d-45c7-bf41-0b997a255a89"
      },
      "source": [
        "# columns \r\n",
        "columns = data.columns\r\n",
        "print(columns)"
      ],
      "execution_count": 17,
      "outputs": [
        {
          "output_type": "stream",
          "text": [
            "Index(['author', 'crawl_date', 'crawl_desc', 'crawl_url', 'date',\n",
            "       'description', 'full_text', 'img_url', 'site_name', 'title', 'topic',\n",
            "       'url', 'webpage_source'],\n",
            "      dtype='object')\n"
          ],
          "name": "stdout"
        }
      ]
    },
    {
      "cell_type": "markdown",
      "metadata": {
        "id": "S1OXxoCX4cuj"
      },
      "source": [
        "### Find the Dublicate based on the 'title' column and remve the dublicate (dedublication)"
      ]
    },
    {
      "cell_type": "code",
      "metadata": {
        "colab": {
          "base_uri": "https://localhost:8080/"
        },
        "id": "cQB3mKegtnlF",
        "outputId": "21baabbf-eb2f-4a9a-e0d3-90406f0061fb"
      },
      "source": [
        "# find the dublicate using the dublicate function in pandas\r\n",
        "dublicate = data[data.duplicated('title')]\r\n",
        "print(\"the number of deblicated samples in the dataset-->\",len(dublicate))"
      ],
      "execution_count": 23,
      "outputs": [
        {
          "output_type": "stream",
          "text": [
            "the number of deblicated samples in the dataset--> 104956\n"
          ],
          "name": "stdout"
        }
      ]
    },
    {
      "cell_type": "code",
      "metadata": {
        "colab": {
          "base_uri": "https://localhost:8080/"
        },
        "id": "YC3gvai55ETB",
        "outputId": "eb12e757-3789-4e24-d97f-59f019216f21"
      },
      "source": [
        "#removing the dublicates from the dataset\r\n",
        "data2 = data[~data.duplicated('title')]\r\n",
        "print(\"The shape of the Resultant dataset----->\",data2.shape)"
      ],
      "execution_count": 66,
      "outputs": [
        {
          "output_type": "stream",
          "text": [
            "The shape of the Resultant dataset-----> (82842, 13)\n"
          ],
          "name": "stdout"
        }
      ]
    },
    {
      "cell_type": "markdown",
      "metadata": {
        "id": "j7oXvy_4LHrT"
      },
      "source": [
        "#### remove null values "
      ]
    },
    {
      "cell_type": "code",
      "metadata": {
        "colab": {
          "base_uri": "https://localhost:8080/",
          "height": 653
        },
        "id": "OznRvmkjLHOw",
        "outputId": "edc17ca7-c408-4e1b-f4fc-4031d16a23e6"
      },
      "source": [
        "print(\"The shape of the  dataset before dropna----->\",data2.shape)\r\n",
        "data2 = data2.dropna(subset = ['full_text'])\r\n",
        "print(\"The shape of the  dataset after dropna----->\",data2.shape)\r\n",
        "data2.head()"
      ],
      "execution_count": 67,
      "outputs": [
        {
          "output_type": "stream",
          "text": [
            "The shape of the  dataset before dropna-----> (82842, 13)\n",
            "The shape of the  dataset after dropna-----> (36619, 13)\n"
          ],
          "name": "stdout"
        },
        {
          "output_type": "execute_result",
          "data": {
            "text/html": [
              "<div>\n",
              "<style scoped>\n",
              "    .dataframe tbody tr th:only-of-type {\n",
              "        vertical-align: middle;\n",
              "    }\n",
              "\n",
              "    .dataframe tbody tr th {\n",
              "        vertical-align: top;\n",
              "    }\n",
              "\n",
              "    .dataframe thead th {\n",
              "        text-align: right;\n",
              "    }\n",
              "</style>\n",
              "<table border=\"1\" class=\"dataframe\">\n",
              "  <thead>\n",
              "    <tr style=\"text-align: right;\">\n",
              "      <th></th>\n",
              "      <th>author</th>\n",
              "      <th>crawl_date</th>\n",
              "      <th>crawl_desc</th>\n",
              "      <th>crawl_url</th>\n",
              "      <th>date</th>\n",
              "      <th>description</th>\n",
              "      <th>full_text</th>\n",
              "      <th>img_url</th>\n",
              "      <th>site_name</th>\n",
              "      <th>title</th>\n",
              "      <th>topic</th>\n",
              "      <th>url</th>\n",
              "      <th>webpage_source</th>\n",
              "    </tr>\n",
              "  </thead>\n",
              "  <tbody>\n",
              "    <tr>\n",
              "      <th>0</th>\n",
              "      <td>[]</td>\n",
              "      <td>2020-12-23</td>\n",
              "      <td>news cc-crawl</td>\n",
              "      <td>crawl-data/CC-NEWS/2020/12/CC-NEWS-20201223000...</td>\n",
              "      <td>2020-12-23</td>\n",
              "      <td>2018 champion Rob Cross became the highest-pro...</td>\n",
              "      <td>Watch live coverage of the last two sessions ...</td>\n",
              "      <td>https://e2.365dm.com/20/12/1600x900/skysports-...</td>\n",
              "      <td>Sky Sports</td>\n",
              "      <td>PDC World Darts Championship, 2020/21: Dirk va...</td>\n",
              "      <td>sport</td>\n",
              "      <td>https://www.skysports.com/darts/news/12288/121...</td>\n",
              "      <td>skysports.com</td>\n",
              "    </tr>\n",
              "    <tr>\n",
              "      <th>4</th>\n",
              "      <td>[\"Liz Josaitis, Michigan State University Exte...</td>\n",
              "      <td>2020-12-23</td>\n",
              "      <td>news cc-crawl</td>\n",
              "      <td>crawl-data/CC-NEWS/2020/12/CC-NEWS-20201223000...</td>\n",
              "      <td>2020-12-23</td>\n",
              "      <td>The Food and Drug Administration has offered a...</td>\n",
              "      <td>A few examples include the offering of anti-a...</td>\n",
              "      <td>https://www.westernjournal.com/wp-content/uplo...</td>\n",
              "      <td>The Western Journal</td>\n",
              "      <td>Health Scammers Prey on the Elderly, Here's Ho...</td>\n",
              "      <td>politics</td>\n",
              "      <td>https://www.westernjournal.com/health-scammers...</td>\n",
              "      <td>westernjournal.com</td>\n",
              "    </tr>\n",
              "    <tr>\n",
              "      <th>6</th>\n",
              "      <td>[\"Aja Styles\"]</td>\n",
              "      <td>2020-12-23</td>\n",
              "      <td>news cc-crawl</td>\n",
              "      <td>crawl-data/CC-NEWS/2020/12/CC-NEWS-20201223000...</td>\n",
              "      <td>2020-12-23</td>\n",
              "      <td>Perth mother Clare has found herself mostly co...</td>\n",
              "      <td>Perth mother Clare* has found herself mostly ...</td>\n",
              "      <td>https://static.ffx.io/images/$zoom_0.3431%2C$m...</td>\n",
              "      <td>Brisbane Times</td>\n",
              "      <td>'Pack Lego': Perth family caught in hard borde...</td>\n",
              "      <td>entertainment</td>\n",
              "      <td>https://www.brisbanetimes.com.au/national/west...</td>\n",
              "      <td>brisbanetimes.com.au</td>\n",
              "    </tr>\n",
              "    <tr>\n",
              "      <th>8</th>\n",
              "      <td>[]</td>\n",
              "      <td>2020-12-23</td>\n",
              "      <td>news cc-crawl</td>\n",
              "      <td>crawl-data/CC-NEWS/2020/12/CC-NEWS-20201223000...</td>\n",
              "      <td>2020-12-23</td>\n",
              "      <td>Jonny Evans joined Leicester from West Brom in...</td>\n",
              "      <td>Africa Cup of Nations Jonny Evans joined Leic...</td>\n",
              "      <td>https://e0.365dm.com/20/12/768x432/skysports-j...</td>\n",
              "      <td>Sky Sports</td>\n",
              "      <td>Jonny Evans 'close' to signing new Leicester c...</td>\n",
              "      <td>sport</td>\n",
              "      <td>https://www.skysports.com/football/news/11712/...</td>\n",
              "      <td>skysports.com</td>\n",
              "    </tr>\n",
              "    <tr>\n",
              "      <th>11</th>\n",
              "      <td>[\"Jake Johnson\"]</td>\n",
              "      <td>2020-12-23</td>\n",
              "      <td>news cc-crawl</td>\n",
              "      <td>crawl-data/CC-NEWS/2020/12/CC-NEWS-20201223000...</td>\n",
              "      <td>2020-12-23</td>\n",
              "      <td>The billâs gifts to the wealthy underscore t...</td>\n",
              "      <td>In late-night votes just hours after nearly 5...</td>\n",
              "      <td>https://truthout.org/wp-content/uploads/2020/1...</td>\n",
              "      <td>Truthout</td>\n",
              "      <td>Congress Passes COVID Relief With Billions in ...</td>\n",
              "      <td>politics</td>\n",
              "      <td>https://truthout.org/articles/congress-passes-...</td>\n",
              "      <td>truthout.org</td>\n",
              "    </tr>\n",
              "  </tbody>\n",
              "</table>\n",
              "</div>"
            ],
            "text/plain": [
              "                                               author  ...        webpage_source\n",
              "0                                                  []  ...         skysports.com\n",
              "4   [\"Liz Josaitis, Michigan State University Exte...  ...    westernjournal.com\n",
              "6                                      [\"Aja Styles\"]  ...  brisbanetimes.com.au\n",
              "8                                                  []  ...         skysports.com\n",
              "11                                   [\"Jake Johnson\"]  ...          truthout.org\n",
              "\n",
              "[5 rows x 13 columns]"
            ]
          },
          "metadata": {
            "tags": []
          },
          "execution_count": 67
        }
      ]
    },
    {
      "cell_type": "markdown",
      "metadata": {
        "id": "4wzfmaLGMVvG"
      },
      "source": [
        "## Remove Newline charecter in 'full_text'\r\n",
        "otherwise make error in fattext language detection\r\n",
        "error-----> '  predict processes one line at a time (remove '\\n') '"
      ]
    },
    {
      "cell_type": "code",
      "metadata": {
        "colab": {
          "base_uri": "https://localhost:8080/"
        },
        "id": "Tg7c4peEMVVd",
        "outputId": "9dc38602-94d0-4127-e9b9-e13e0a7e54c3"
      },
      "source": [
        "#remove newline charecter \r\n",
        "#helper function\r\n",
        "def clean_fulltext(text):\r\n",
        "  text = text.lower()\r\n",
        "  text = text.replace('\\n',' ')\r\n",
        "  return text\r\n",
        "\r\n",
        "print(clean_fulltext('hi iam Mehana \\n from the new chareter'))"
      ],
      "execution_count": 73,
      "outputs": [
        {
          "output_type": "stream",
          "text": [
            "hi iam mehana   from the new chareter\n"
          ],
          "name": "stdout"
        }
      ]
    },
    {
      "cell_type": "code",
      "metadata": {
        "colab": {
          "base_uri": "https://localhost:8080/",
          "height": 521
        },
        "id": "ZVY62h_VNwP9",
        "outputId": "23deb28f-1972-422a-c747-6fdce35de155"
      },
      "source": [
        "data2['full_text'] = data2.apply(lambda row : clean_fulltext(row['full_text']) , axis = 1)\r\n",
        "data2.head(4)"
      ],
      "execution_count": 74,
      "outputs": [
        {
          "output_type": "execute_result",
          "data": {
            "text/html": [
              "<div>\n",
              "<style scoped>\n",
              "    .dataframe tbody tr th:only-of-type {\n",
              "        vertical-align: middle;\n",
              "    }\n",
              "\n",
              "    .dataframe tbody tr th {\n",
              "        vertical-align: top;\n",
              "    }\n",
              "\n",
              "    .dataframe thead th {\n",
              "        text-align: right;\n",
              "    }\n",
              "</style>\n",
              "<table border=\"1\" class=\"dataframe\">\n",
              "  <thead>\n",
              "    <tr style=\"text-align: right;\">\n",
              "      <th></th>\n",
              "      <th>author</th>\n",
              "      <th>crawl_date</th>\n",
              "      <th>crawl_desc</th>\n",
              "      <th>crawl_url</th>\n",
              "      <th>date</th>\n",
              "      <th>description</th>\n",
              "      <th>full_text</th>\n",
              "      <th>img_url</th>\n",
              "      <th>site_name</th>\n",
              "      <th>title</th>\n",
              "      <th>topic</th>\n",
              "      <th>url</th>\n",
              "      <th>webpage_source</th>\n",
              "    </tr>\n",
              "  </thead>\n",
              "  <tbody>\n",
              "    <tr>\n",
              "      <th>0</th>\n",
              "      <td>[]</td>\n",
              "      <td>2020-12-23</td>\n",
              "      <td>news cc-crawl</td>\n",
              "      <td>crawl-data/CC-NEWS/2020/12/CC-NEWS-20201223000...</td>\n",
              "      <td>2020-12-23</td>\n",
              "      <td>2018 champion Rob Cross became the highest-pro...</td>\n",
              "      <td>watch live coverage of the last two sessions ...</td>\n",
              "      <td>https://e2.365dm.com/20/12/1600x900/skysports-...</td>\n",
              "      <td>Sky Sports</td>\n",
              "      <td>PDC World Darts Championship, 2020/21: Dirk va...</td>\n",
              "      <td>sport</td>\n",
              "      <td>https://www.skysports.com/darts/news/12288/121...</td>\n",
              "      <td>skysports.com</td>\n",
              "    </tr>\n",
              "    <tr>\n",
              "      <th>4</th>\n",
              "      <td>[\"Liz Josaitis, Michigan State University Exte...</td>\n",
              "      <td>2020-12-23</td>\n",
              "      <td>news cc-crawl</td>\n",
              "      <td>crawl-data/CC-NEWS/2020/12/CC-NEWS-20201223000...</td>\n",
              "      <td>2020-12-23</td>\n",
              "      <td>The Food and Drug Administration has offered a...</td>\n",
              "      <td>a few examples include the offering of anti-a...</td>\n",
              "      <td>https://www.westernjournal.com/wp-content/uplo...</td>\n",
              "      <td>The Western Journal</td>\n",
              "      <td>Health Scammers Prey on the Elderly, Here's Ho...</td>\n",
              "      <td>politics</td>\n",
              "      <td>https://www.westernjournal.com/health-scammers...</td>\n",
              "      <td>westernjournal.com</td>\n",
              "    </tr>\n",
              "    <tr>\n",
              "      <th>6</th>\n",
              "      <td>[\"Aja Styles\"]</td>\n",
              "      <td>2020-12-23</td>\n",
              "      <td>news cc-crawl</td>\n",
              "      <td>crawl-data/CC-NEWS/2020/12/CC-NEWS-20201223000...</td>\n",
              "      <td>2020-12-23</td>\n",
              "      <td>Perth mother Clare has found herself mostly co...</td>\n",
              "      <td>perth mother clare* has found herself mostly ...</td>\n",
              "      <td>https://static.ffx.io/images/$zoom_0.3431%2C$m...</td>\n",
              "      <td>Brisbane Times</td>\n",
              "      <td>'Pack Lego': Perth family caught in hard borde...</td>\n",
              "      <td>entertainment</td>\n",
              "      <td>https://www.brisbanetimes.com.au/national/west...</td>\n",
              "      <td>brisbanetimes.com.au</td>\n",
              "    </tr>\n",
              "    <tr>\n",
              "      <th>8</th>\n",
              "      <td>[]</td>\n",
              "      <td>2020-12-23</td>\n",
              "      <td>news cc-crawl</td>\n",
              "      <td>crawl-data/CC-NEWS/2020/12/CC-NEWS-20201223000...</td>\n",
              "      <td>2020-12-23</td>\n",
              "      <td>Jonny Evans joined Leicester from West Brom in...</td>\n",
              "      <td>africa cup of nations jonny evans joined leic...</td>\n",
              "      <td>https://e0.365dm.com/20/12/768x432/skysports-j...</td>\n",
              "      <td>Sky Sports</td>\n",
              "      <td>Jonny Evans 'close' to signing new Leicester c...</td>\n",
              "      <td>sport</td>\n",
              "      <td>https://www.skysports.com/football/news/11712/...</td>\n",
              "      <td>skysports.com</td>\n",
              "    </tr>\n",
              "  </tbody>\n",
              "</table>\n",
              "</div>"
            ],
            "text/plain": [
              "                                              author  ...        webpage_source\n",
              "0                                                 []  ...         skysports.com\n",
              "4  [\"Liz Josaitis, Michigan State University Exte...  ...    westernjournal.com\n",
              "6                                     [\"Aja Styles\"]  ...  brisbanetimes.com.au\n",
              "8                                                 []  ...         skysports.com\n",
              "\n",
              "[4 rows x 13 columns]"
            ]
          },
          "metadata": {
            "tags": []
          },
          "execution_count": 74
        }
      ]
    },
    {
      "cell_type": "markdown",
      "metadata": {
        "id": "2R93o70R6lr1"
      },
      "source": [
        "### Detect the Language using the fasttext"
      ]
    },
    {
      "cell_type": "code",
      "metadata": {
        "colab": {
          "base_uri": "https://localhost:8080/",
          "height": 53
        },
        "id": "MlJ1oECF58D0",
        "outputId": "9628f314-b54b-432b-d226-4d7a90aaddf2"
      },
      "source": [
        "# need to extract the language on the basis of full_text\r\n",
        "# Here I am using the fasttext to detect the language , more words will give more accurate result\r\n",
        "\r\n",
        "import fasttext\r\n",
        "\r\n",
        "pretrained_model_facebook_path = '/content/drive/MyDrive/Colab Notebooks/dataFiles/lid.176.bin' #store some where in your local machine and use it\r\n",
        "model = fasttext.load_model(pretrained_model_facebook_path)\r\n",
        "#helper function\r\n",
        "def lang_detect(text):\r\n",
        "  result = model.predict(text,1)\r\n",
        "  return result[0][0][-2:]\r\n",
        "\r\n",
        "lang_detect('hello')"
      ],
      "execution_count": 62,
      "outputs": [
        {
          "output_type": "stream",
          "text": [
            "Warning : `load_model` does not return WordVectorModel or SupervisedModel any more, but a `FastText` object which is very similar.\n"
          ],
          "name": "stderr"
        },
        {
          "output_type": "execute_result",
          "data": {
            "application/vnd.google.colaboratory.intrinsic+json": {
              "type": "string"
            },
            "text/plain": [
              "'en'"
            ]
          },
          "metadata": {
            "tags": []
          },
          "execution_count": 62
        }
      ]
    },
    {
      "cell_type": "code",
      "metadata": {
        "colab": {
          "base_uri": "https://localhost:8080/",
          "height": 617
        },
        "id": "gJP7BW75GTaW",
        "outputId": "7617c373-5fa0-4273-a9e7-beb165cb0a41"
      },
      "source": [
        "data2['language'] = data2.apply(lambda row : lang_detect(row['full_text']) , axis = 1)\r\n",
        "data2.head(5)"
      ],
      "execution_count": 75,
      "outputs": [
        {
          "output_type": "execute_result",
          "data": {
            "text/html": [
              "<div>\n",
              "<style scoped>\n",
              "    .dataframe tbody tr th:only-of-type {\n",
              "        vertical-align: middle;\n",
              "    }\n",
              "\n",
              "    .dataframe tbody tr th {\n",
              "        vertical-align: top;\n",
              "    }\n",
              "\n",
              "    .dataframe thead th {\n",
              "        text-align: right;\n",
              "    }\n",
              "</style>\n",
              "<table border=\"1\" class=\"dataframe\">\n",
              "  <thead>\n",
              "    <tr style=\"text-align: right;\">\n",
              "      <th></th>\n",
              "      <th>author</th>\n",
              "      <th>crawl_date</th>\n",
              "      <th>crawl_desc</th>\n",
              "      <th>crawl_url</th>\n",
              "      <th>date</th>\n",
              "      <th>description</th>\n",
              "      <th>full_text</th>\n",
              "      <th>img_url</th>\n",
              "      <th>site_name</th>\n",
              "      <th>title</th>\n",
              "      <th>topic</th>\n",
              "      <th>url</th>\n",
              "      <th>webpage_source</th>\n",
              "      <th>language</th>\n",
              "    </tr>\n",
              "  </thead>\n",
              "  <tbody>\n",
              "    <tr>\n",
              "      <th>0</th>\n",
              "      <td>[]</td>\n",
              "      <td>2020-12-23</td>\n",
              "      <td>news cc-crawl</td>\n",
              "      <td>crawl-data/CC-NEWS/2020/12/CC-NEWS-20201223000...</td>\n",
              "      <td>2020-12-23</td>\n",
              "      <td>2018 champion Rob Cross became the highest-pro...</td>\n",
              "      <td>watch live coverage of the last two sessions ...</td>\n",
              "      <td>https://e2.365dm.com/20/12/1600x900/skysports-...</td>\n",
              "      <td>Sky Sports</td>\n",
              "      <td>PDC World Darts Championship, 2020/21: Dirk va...</td>\n",
              "      <td>sport</td>\n",
              "      <td>https://www.skysports.com/darts/news/12288/121...</td>\n",
              "      <td>skysports.com</td>\n",
              "      <td>en</td>\n",
              "    </tr>\n",
              "    <tr>\n",
              "      <th>4</th>\n",
              "      <td>[\"Liz Josaitis, Michigan State University Exte...</td>\n",
              "      <td>2020-12-23</td>\n",
              "      <td>news cc-crawl</td>\n",
              "      <td>crawl-data/CC-NEWS/2020/12/CC-NEWS-20201223000...</td>\n",
              "      <td>2020-12-23</td>\n",
              "      <td>The Food and Drug Administration has offered a...</td>\n",
              "      <td>a few examples include the offering of anti-a...</td>\n",
              "      <td>https://www.westernjournal.com/wp-content/uplo...</td>\n",
              "      <td>The Western Journal</td>\n",
              "      <td>Health Scammers Prey on the Elderly, Here's Ho...</td>\n",
              "      <td>politics</td>\n",
              "      <td>https://www.westernjournal.com/health-scammers...</td>\n",
              "      <td>westernjournal.com</td>\n",
              "      <td>en</td>\n",
              "    </tr>\n",
              "    <tr>\n",
              "      <th>6</th>\n",
              "      <td>[\"Aja Styles\"]</td>\n",
              "      <td>2020-12-23</td>\n",
              "      <td>news cc-crawl</td>\n",
              "      <td>crawl-data/CC-NEWS/2020/12/CC-NEWS-20201223000...</td>\n",
              "      <td>2020-12-23</td>\n",
              "      <td>Perth mother Clare has found herself mostly co...</td>\n",
              "      <td>perth mother clare* has found herself mostly ...</td>\n",
              "      <td>https://static.ffx.io/images/$zoom_0.3431%2C$m...</td>\n",
              "      <td>Brisbane Times</td>\n",
              "      <td>'Pack Lego': Perth family caught in hard borde...</td>\n",
              "      <td>entertainment</td>\n",
              "      <td>https://www.brisbanetimes.com.au/national/west...</td>\n",
              "      <td>brisbanetimes.com.au</td>\n",
              "      <td>en</td>\n",
              "    </tr>\n",
              "    <tr>\n",
              "      <th>8</th>\n",
              "      <td>[]</td>\n",
              "      <td>2020-12-23</td>\n",
              "      <td>news cc-crawl</td>\n",
              "      <td>crawl-data/CC-NEWS/2020/12/CC-NEWS-20201223000...</td>\n",
              "      <td>2020-12-23</td>\n",
              "      <td>Jonny Evans joined Leicester from West Brom in...</td>\n",
              "      <td>africa cup of nations jonny evans joined leic...</td>\n",
              "      <td>https://e0.365dm.com/20/12/768x432/skysports-j...</td>\n",
              "      <td>Sky Sports</td>\n",
              "      <td>Jonny Evans 'close' to signing new Leicester c...</td>\n",
              "      <td>sport</td>\n",
              "      <td>https://www.skysports.com/football/news/11712/...</td>\n",
              "      <td>skysports.com</td>\n",
              "      <td>en</td>\n",
              "    </tr>\n",
              "    <tr>\n",
              "      <th>11</th>\n",
              "      <td>[\"Jake Johnson\"]</td>\n",
              "      <td>2020-12-23</td>\n",
              "      <td>news cc-crawl</td>\n",
              "      <td>crawl-data/CC-NEWS/2020/12/CC-NEWS-20201223000...</td>\n",
              "      <td>2020-12-23</td>\n",
              "      <td>The billâs gifts to the wealthy underscore t...</td>\n",
              "      <td>in late-night votes just hours after nearly 5...</td>\n",
              "      <td>https://truthout.org/wp-content/uploads/2020/1...</td>\n",
              "      <td>Truthout</td>\n",
              "      <td>Congress Passes COVID Relief With Billions in ...</td>\n",
              "      <td>politics</td>\n",
              "      <td>https://truthout.org/articles/congress-passes-...</td>\n",
              "      <td>truthout.org</td>\n",
              "      <td>en</td>\n",
              "    </tr>\n",
              "  </tbody>\n",
              "</table>\n",
              "</div>"
            ],
            "text/plain": [
              "                                               author  ... language\n",
              "0                                                  []  ...       en\n",
              "4   [\"Liz Josaitis, Michigan State University Exte...  ...       en\n",
              "6                                      [\"Aja Styles\"]  ...       en\n",
              "8                                                  []  ...       en\n",
              "11                                   [\"Jake Johnson\"]  ...       en\n",
              "\n",
              "[5 rows x 14 columns]"
            ]
          },
          "metadata": {
            "tags": []
          },
          "execution_count": 75
        }
      ]
    },
    {
      "cell_type": "markdown",
      "metadata": {
        "id": "rwgktjfROe0v"
      },
      "source": [
        "## Extract only the English lanuage Samples"
      ]
    },
    {
      "cell_type": "code",
      "metadata": {
        "colab": {
          "base_uri": "https://localhost:8080/"
        },
        "id": "mCPVqa1YDs_n",
        "outputId": "2dd3c553-6203-41ff-9050-56c46a787f0e"
      },
      "source": [
        "#keep only the english language samples\r\n",
        "\r\n",
        "data = data2[data2['language'] == 'en']\r\n",
        "\r\n",
        "print(\"The whole dataset size----->\",data2.shape)\r\n",
        "print()\r\n",
        "print('The English Dataset size--->',data.shape)\r\n",
        "print()\r\n",
        "print(\"Other language datas------->\",data2.shape[0]-data.shape[0])"
      ],
      "execution_count": 79,
      "outputs": [
        {
          "output_type": "stream",
          "text": [
            "The whole dataset size-----> (36619, 14)\n",
            "\n",
            "The English Dataset size---> (36587, 14)\n",
            "\n",
            "Other language datas-------> 32\n"
          ],
          "name": "stdout"
        }
      ]
    },
    {
      "cell_type": "code",
      "metadata": {
        "id": "6Cl_QSHTCvLT"
      },
      "source": [
        ""
      ],
      "execution_count": 37,
      "outputs": []
    },
    {
      "cell_type": "code",
      "metadata": {
        "colab": {
          "base_uri": "https://localhost:8080/"
        },
        "id": "vFWbirsT6JlD",
        "outputId": "eb02861b-e2f1-4554-f796-810712f3d1e2"
      },
      "source": [
        ""
      ],
      "execution_count": 32,
      "outputs": [
        {
          "output_type": "stream",
          "text": [
            "English\n"
          ],
          "name": "stdout"
        }
      ]
    },
    {
      "cell_type": "code",
      "metadata": {
        "id": "wsD3z8JJ6PHK"
      },
      "source": [
        ""
      ],
      "execution_count": null,
      "outputs": []
    }
  ]
}
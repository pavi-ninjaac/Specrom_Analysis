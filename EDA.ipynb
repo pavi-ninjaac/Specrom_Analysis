{
  "nbformat": 4,
  "nbformat_minor": 0,
  "metadata": {
    "colab": {
      "name": "EDA",
      "provenance": [],
      "toc_visible": true,
      "mount_file_id": "1-eJviVrsSCkBDiQBfE4nhRxiuIYTAMUj",
      "authorship_tag": "ABX9TyOTuw+2OmCbHBsipt1sWwSF",
      "include_colab_link": true
    },
    "kernelspec": {
      "name": "python3",
      "display_name": "Python 3"
    }
  },
  "cells": [
    {
      "cell_type": "markdown",
      "metadata": {
        "id": "view-in-github",
        "colab_type": "text"
      },
      "source": [
        "<a href=\"https://colab.research.google.com/github/pavi-ninjaac/Specrom_Analysis/blob/main/EDA.ipynb\" target=\"_parent\"><img src=\"https://colab.research.google.com/assets/colab-badge.svg\" alt=\"Open In Colab\"/></a>"
      ]
    },
    {
      "cell_type": "code",
      "metadata": {
        "id": "Iw9xv_VRomrK"
      },
      "source": [
        "#import the libraries\r\n",
        "import pandas as pd\r\n",
        "import numpy as np\r\n",
        "import os\r\n",
        "import time\r\n",
        "import json\r\n",
        "\r\n",
        "#from visualization\r\n",
        "import seaborn as sns\r\n",
        "import matplotlib.pyplot as plt\r\n"
      ],
      "execution_count": 69,
      "outputs": []
    },
    {
      "cell_type": "code",
      "metadata": {
        "colab": {
          "base_uri": "https://localhost:8080/"
        },
        "id": "RQtlcBi4qHEY",
        "outputId": "e76f66cb-5d0e-45ad-def8-5d7e15450df7"
      },
      "source": [
        "!pip install fasttext"
      ],
      "execution_count": 70,
      "outputs": [
        {
          "output_type": "stream",
          "text": [
            "Requirement already satisfied: fasttext in /usr/local/lib/python3.6/dist-packages (0.9.2)\n",
            "Requirement already satisfied: numpy in /usr/local/lib/python3.6/dist-packages (from fasttext) (1.19.4)\n",
            "Requirement already satisfied: setuptools>=0.7.0 in /usr/local/lib/python3.6/dist-packages (from fasttext) (51.0.0)\n",
            "Requirement already satisfied: pybind11>=2.2 in /usr/local/lib/python3.6/dist-packages (from fasttext) (2.6.1)\n"
          ],
          "name": "stdout"
        }
      ]
    },
    {
      "cell_type": "code",
      "metadata": {
        "id": "jnQpBI5EqNxq"
      },
      "source": [
        "import fasttext"
      ],
      "execution_count": 71,
      "outputs": []
    },
    {
      "cell_type": "code",
      "metadata": {
        "colab": {
          "base_uri": "https://localhost:8080/",
          "height": 35
        },
        "id": "QlU3am4TqjVu",
        "outputId": "2cec6c55-b067-40d2-e08e-b29e4a58a04c"
      },
      "source": [
        "\"\"\"from google.colab import drive\r\n",
        "drive.mount('/gdrive')\r\n",
        "%cd /gdrive\"\"\""
      ],
      "execution_count": 72,
      "outputs": [
        {
          "output_type": "execute_result",
          "data": {
            "application/vnd.google.colaboratory.intrinsic+json": {
              "type": "string"
            },
            "text/plain": [
              "\"from google.colab import drive\\ndrive.mount('/gdrive')\\n%cd /gdrive\""
            ]
          },
          "metadata": {
            "tags": []
          },
          "execution_count": 72
        }
      ]
    },
    {
      "cell_type": "code",
      "metadata": {
        "colab": {
          "base_uri": "https://localhost:8080/"
        },
        "id": "9m5jZfEisE1g",
        "outputId": "0ed47be0-4a4b-44fd-c6f6-4380cd9ad870"
      },
      "source": [
        "# load the data files\r\n",
        "df1 = pd.read_csv('/content/drive/MyDrive/Colab Notebooks/dataFiles/111778997-2020-12-23.csv')\r\n",
        "df2 = pd.read_csv('/content/drive/MyDrive/Colab Notebooks/dataFiles/395563332-2020-12-24.csv')\r\n",
        "print(\"The size of the dataset 1---->\",df1.shape)\r\n",
        "print(\"The size of the dataset 2---->\",df2.shape)"
      ],
      "execution_count": 73,
      "outputs": [
        {
          "output_type": "stream",
          "text": [
            "The size of the dataset 1----> (49350, 13)\n",
            "The size of the dataset 2----> (138448, 13)\n"
          ],
          "name": "stdout"
        },
        {
          "output_type": "stream",
          "text": [
            "/usr/local/lib/python3.6/dist-packages/IPython/core/interactiveshell.py:2718: DtypeWarning: Columns (1,2,3,4,5,6,7,8,9,10,11,12) have mixed types.Specify dtype option on import or set low_memory=False.\n",
            "  interactivity=interactivity, compiler=compiler, result=result)\n"
          ],
          "name": "stderr"
        }
      ]
    },
    {
      "cell_type": "code",
      "metadata": {
        "colab": {
          "base_uri": "https://localhost:8080/"
        },
        "id": "Azhwk07ttlVl",
        "outputId": "250baff9-7dd6-4b75-a9cd-5699d989278b"
      },
      "source": [
        "#add those to dataframe into one using the pandas append method\r\n",
        "data = df1.append(df2 , ignore_index = True)\r\n",
        "print(\"The shape of the whole dataset--->\",data.shape)"
      ],
      "execution_count": 74,
      "outputs": [
        {
          "output_type": "stream",
          "text": [
            "The shape of the whole dataset---> (187798, 13)\n"
          ],
          "name": "stdout"
        }
      ]
    },
    {
      "cell_type": "code",
      "metadata": {
        "colab": {
          "base_uri": "https://localhost:8080/"
        },
        "id": "-wms7xM245rQ",
        "outputId": "bc58b074-343b-4bce-96c0-b77c93279e4a"
      },
      "source": [
        "# columns \r\n",
        "columns = data.columns\r\n",
        "print(columns)"
      ],
      "execution_count": 75,
      "outputs": [
        {
          "output_type": "stream",
          "text": [
            "Index(['author', 'crawl_date', 'crawl_desc', 'crawl_url', 'date',\n",
            "       'description', 'full_text', 'img_url', 'site_name', 'title', 'topic',\n",
            "       'url', 'webpage_source'],\n",
            "      dtype='object')\n"
          ],
          "name": "stdout"
        }
      ]
    },
    {
      "cell_type": "markdown",
      "metadata": {
        "id": "S1OXxoCX4cuj"
      },
      "source": [
        "### Find the Dublicate based on the 'title' column and remve the dublicate (dedublication)"
      ]
    },
    {
      "cell_type": "code",
      "metadata": {
        "colab": {
          "base_uri": "https://localhost:8080/"
        },
        "id": "cQB3mKegtnlF",
        "outputId": "4012d462-23c0-44ab-ea10-fa70e7d28269"
      },
      "source": [
        "# find the dublicate using the dublicate function in pandas\r\n",
        "dublicate = data[data.duplicated('title')]\r\n",
        "print(\"the number of deblicated samples in the dataset-->\",len(dublicate))"
      ],
      "execution_count": 76,
      "outputs": [
        {
          "output_type": "stream",
          "text": [
            "the number of deblicated samples in the dataset--> 104956\n"
          ],
          "name": "stdout"
        }
      ]
    },
    {
      "cell_type": "code",
      "metadata": {
        "colab": {
          "base_uri": "https://localhost:8080/"
        },
        "id": "YC3gvai55ETB",
        "outputId": "b22a258e-4d5a-4a94-a6c2-eb6b6f955702"
      },
      "source": [
        "#removing the dublicates from the dataset\r\n",
        "\r\n",
        "data2 = data[~data.duplicated('title')]\r\n",
        "print(\"The shape of the Resultant dataset----->\",data2.shape)"
      ],
      "execution_count": 77,
      "outputs": [
        {
          "output_type": "stream",
          "text": [
            "The shape of the Resultant dataset-----> (82842, 13)\n"
          ],
          "name": "stdout"
        }
      ]
    },
    {
      "cell_type": "markdown",
      "metadata": {
        "id": "j7oXvy_4LHrT"
      },
      "source": [
        "#### remove null values "
      ]
    },
    {
      "cell_type": "code",
      "metadata": {
        "colab": {
          "base_uri": "https://localhost:8080/",
          "height": 653
        },
        "id": "OznRvmkjLHOw",
        "outputId": "5621945c-8a28-44c8-c864-5dc04a33bfba"
      },
      "source": [
        "print(\"The shape of the  dataset before dropna----->\",data2.shape)\r\n",
        "data2 = data2.dropna(subset = ['full_text'])\r\n",
        "print(\"The shape of the  dataset after dropna----->\",data2.shape)\r\n",
        "data2.head()"
      ],
      "execution_count": 78,
      "outputs": [
        {
          "output_type": "stream",
          "text": [
            "The shape of the  dataset before dropna-----> (82842, 13)\n",
            "The shape of the  dataset after dropna-----> (36619, 13)\n"
          ],
          "name": "stdout"
        },
        {
          "output_type": "execute_result",
          "data": {
            "text/html": [
              "<div>\n",
              "<style scoped>\n",
              "    .dataframe tbody tr th:only-of-type {\n",
              "        vertical-align: middle;\n",
              "    }\n",
              "\n",
              "    .dataframe tbody tr th {\n",
              "        vertical-align: top;\n",
              "    }\n",
              "\n",
              "    .dataframe thead th {\n",
              "        text-align: right;\n",
              "    }\n",
              "</style>\n",
              "<table border=\"1\" class=\"dataframe\">\n",
              "  <thead>\n",
              "    <tr style=\"text-align: right;\">\n",
              "      <th></th>\n",
              "      <th>author</th>\n",
              "      <th>crawl_date</th>\n",
              "      <th>crawl_desc</th>\n",
              "      <th>crawl_url</th>\n",
              "      <th>date</th>\n",
              "      <th>description</th>\n",
              "      <th>full_text</th>\n",
              "      <th>img_url</th>\n",
              "      <th>site_name</th>\n",
              "      <th>title</th>\n",
              "      <th>topic</th>\n",
              "      <th>url</th>\n",
              "      <th>webpage_source</th>\n",
              "    </tr>\n",
              "  </thead>\n",
              "  <tbody>\n",
              "    <tr>\n",
              "      <th>0</th>\n",
              "      <td>[]</td>\n",
              "      <td>2020-12-23</td>\n",
              "      <td>news cc-crawl</td>\n",
              "      <td>crawl-data/CC-NEWS/2020/12/CC-NEWS-20201223000...</td>\n",
              "      <td>2020-12-23</td>\n",
              "      <td>2018 champion Rob Cross became the highest-pro...</td>\n",
              "      <td>Watch live coverage of the last two sessions ...</td>\n",
              "      <td>https://e2.365dm.com/20/12/1600x900/skysports-...</td>\n",
              "      <td>Sky Sports</td>\n",
              "      <td>PDC World Darts Championship, 2020/21: Dirk va...</td>\n",
              "      <td>sport</td>\n",
              "      <td>https://www.skysports.com/darts/news/12288/121...</td>\n",
              "      <td>skysports.com</td>\n",
              "    </tr>\n",
              "    <tr>\n",
              "      <th>4</th>\n",
              "      <td>[\"Liz Josaitis, Michigan State University Exte...</td>\n",
              "      <td>2020-12-23</td>\n",
              "      <td>news cc-crawl</td>\n",
              "      <td>crawl-data/CC-NEWS/2020/12/CC-NEWS-20201223000...</td>\n",
              "      <td>2020-12-23</td>\n",
              "      <td>The Food and Drug Administration has offered a...</td>\n",
              "      <td>A few examples include the offering of anti-a...</td>\n",
              "      <td>https://www.westernjournal.com/wp-content/uplo...</td>\n",
              "      <td>The Western Journal</td>\n",
              "      <td>Health Scammers Prey on the Elderly, Here's Ho...</td>\n",
              "      <td>politics</td>\n",
              "      <td>https://www.westernjournal.com/health-scammers...</td>\n",
              "      <td>westernjournal.com</td>\n",
              "    </tr>\n",
              "    <tr>\n",
              "      <th>6</th>\n",
              "      <td>[\"Aja Styles\"]</td>\n",
              "      <td>2020-12-23</td>\n",
              "      <td>news cc-crawl</td>\n",
              "      <td>crawl-data/CC-NEWS/2020/12/CC-NEWS-20201223000...</td>\n",
              "      <td>2020-12-23</td>\n",
              "      <td>Perth mother Clare has found herself mostly co...</td>\n",
              "      <td>Perth mother Clare* has found herself mostly ...</td>\n",
              "      <td>https://static.ffx.io/images/$zoom_0.3431%2C$m...</td>\n",
              "      <td>Brisbane Times</td>\n",
              "      <td>'Pack Lego': Perth family caught in hard borde...</td>\n",
              "      <td>entertainment</td>\n",
              "      <td>https://www.brisbanetimes.com.au/national/west...</td>\n",
              "      <td>brisbanetimes.com.au</td>\n",
              "    </tr>\n",
              "    <tr>\n",
              "      <th>8</th>\n",
              "      <td>[]</td>\n",
              "      <td>2020-12-23</td>\n",
              "      <td>news cc-crawl</td>\n",
              "      <td>crawl-data/CC-NEWS/2020/12/CC-NEWS-20201223000...</td>\n",
              "      <td>2020-12-23</td>\n",
              "      <td>Jonny Evans joined Leicester from West Brom in...</td>\n",
              "      <td>Africa Cup of Nations Jonny Evans joined Leic...</td>\n",
              "      <td>https://e0.365dm.com/20/12/768x432/skysports-j...</td>\n",
              "      <td>Sky Sports</td>\n",
              "      <td>Jonny Evans 'close' to signing new Leicester c...</td>\n",
              "      <td>sport</td>\n",
              "      <td>https://www.skysports.com/football/news/11712/...</td>\n",
              "      <td>skysports.com</td>\n",
              "    </tr>\n",
              "    <tr>\n",
              "      <th>11</th>\n",
              "      <td>[\"Jake Johnson\"]</td>\n",
              "      <td>2020-12-23</td>\n",
              "      <td>news cc-crawl</td>\n",
              "      <td>crawl-data/CC-NEWS/2020/12/CC-NEWS-20201223000...</td>\n",
              "      <td>2020-12-23</td>\n",
              "      <td>The billâs gifts to the wealthy underscore t...</td>\n",
              "      <td>In late-night votes just hours after nearly 5...</td>\n",
              "      <td>https://truthout.org/wp-content/uploads/2020/1...</td>\n",
              "      <td>Truthout</td>\n",
              "      <td>Congress Passes COVID Relief With Billions in ...</td>\n",
              "      <td>politics</td>\n",
              "      <td>https://truthout.org/articles/congress-passes-...</td>\n",
              "      <td>truthout.org</td>\n",
              "    </tr>\n",
              "  </tbody>\n",
              "</table>\n",
              "</div>"
            ],
            "text/plain": [
              "                                               author  ...        webpage_source\n",
              "0                                                  []  ...         skysports.com\n",
              "4   [\"Liz Josaitis, Michigan State University Exte...  ...    westernjournal.com\n",
              "6                                      [\"Aja Styles\"]  ...  brisbanetimes.com.au\n",
              "8                                                  []  ...         skysports.com\n",
              "11                                   [\"Jake Johnson\"]  ...          truthout.org\n",
              "\n",
              "[5 rows x 13 columns]"
            ]
          },
          "metadata": {
            "tags": []
          },
          "execution_count": 78
        }
      ]
    },
    {
      "cell_type": "markdown",
      "metadata": {
        "id": "4wzfmaLGMVvG"
      },
      "source": [
        "## Remove Newline charecter in 'full_text'\r\n",
        "otherwise make error in fattext language detection\r\n",
        "error-----> '  predict processes one line at a time (remove '\\n') '"
      ]
    },
    {
      "cell_type": "code",
      "metadata": {
        "colab": {
          "base_uri": "https://localhost:8080/"
        },
        "id": "Tg7c4peEMVVd",
        "outputId": "49e4d833-2c54-40dc-ffa5-450264ef35d0"
      },
      "source": [
        "#remove newline charecter \r\n",
        "#helper function\r\n",
        "def clean_fulltext(text):\r\n",
        "  text = text.lower()\r\n",
        "  text = text.replace('\\n',' ')\r\n",
        "  return text\r\n",
        "\r\n",
        "print(clean_fulltext('hi iam Mehana \\n from the new chareter'))"
      ],
      "execution_count": 79,
      "outputs": [
        {
          "output_type": "stream",
          "text": [
            "hi iam mehana   from the new chareter\n"
          ],
          "name": "stdout"
        }
      ]
    },
    {
      "cell_type": "code",
      "metadata": {
        "colab": {
          "base_uri": "https://localhost:8080/",
          "height": 521
        },
        "id": "ZVY62h_VNwP9",
        "outputId": "8e4e8d95-1f75-465d-a574-f7956c2edaa5"
      },
      "source": [
        "data2['full_text'] = data2.apply(lambda row : clean_fulltext(row['full_text']) , axis = 1)\r\n",
        "data2.head(4)"
      ],
      "execution_count": 80,
      "outputs": [
        {
          "output_type": "execute_result",
          "data": {
            "text/html": [
              "<div>\n",
              "<style scoped>\n",
              "    .dataframe tbody tr th:only-of-type {\n",
              "        vertical-align: middle;\n",
              "    }\n",
              "\n",
              "    .dataframe tbody tr th {\n",
              "        vertical-align: top;\n",
              "    }\n",
              "\n",
              "    .dataframe thead th {\n",
              "        text-align: right;\n",
              "    }\n",
              "</style>\n",
              "<table border=\"1\" class=\"dataframe\">\n",
              "  <thead>\n",
              "    <tr style=\"text-align: right;\">\n",
              "      <th></th>\n",
              "      <th>author</th>\n",
              "      <th>crawl_date</th>\n",
              "      <th>crawl_desc</th>\n",
              "      <th>crawl_url</th>\n",
              "      <th>date</th>\n",
              "      <th>description</th>\n",
              "      <th>full_text</th>\n",
              "      <th>img_url</th>\n",
              "      <th>site_name</th>\n",
              "      <th>title</th>\n",
              "      <th>topic</th>\n",
              "      <th>url</th>\n",
              "      <th>webpage_source</th>\n",
              "    </tr>\n",
              "  </thead>\n",
              "  <tbody>\n",
              "    <tr>\n",
              "      <th>0</th>\n",
              "      <td>[]</td>\n",
              "      <td>2020-12-23</td>\n",
              "      <td>news cc-crawl</td>\n",
              "      <td>crawl-data/CC-NEWS/2020/12/CC-NEWS-20201223000...</td>\n",
              "      <td>2020-12-23</td>\n",
              "      <td>2018 champion Rob Cross became the highest-pro...</td>\n",
              "      <td>watch live coverage of the last two sessions ...</td>\n",
              "      <td>https://e2.365dm.com/20/12/1600x900/skysports-...</td>\n",
              "      <td>Sky Sports</td>\n",
              "      <td>PDC World Darts Championship, 2020/21: Dirk va...</td>\n",
              "      <td>sport</td>\n",
              "      <td>https://www.skysports.com/darts/news/12288/121...</td>\n",
              "      <td>skysports.com</td>\n",
              "    </tr>\n",
              "    <tr>\n",
              "      <th>4</th>\n",
              "      <td>[\"Liz Josaitis, Michigan State University Exte...</td>\n",
              "      <td>2020-12-23</td>\n",
              "      <td>news cc-crawl</td>\n",
              "      <td>crawl-data/CC-NEWS/2020/12/CC-NEWS-20201223000...</td>\n",
              "      <td>2020-12-23</td>\n",
              "      <td>The Food and Drug Administration has offered a...</td>\n",
              "      <td>a few examples include the offering of anti-a...</td>\n",
              "      <td>https://www.westernjournal.com/wp-content/uplo...</td>\n",
              "      <td>The Western Journal</td>\n",
              "      <td>Health Scammers Prey on the Elderly, Here's Ho...</td>\n",
              "      <td>politics</td>\n",
              "      <td>https://www.westernjournal.com/health-scammers...</td>\n",
              "      <td>westernjournal.com</td>\n",
              "    </tr>\n",
              "    <tr>\n",
              "      <th>6</th>\n",
              "      <td>[\"Aja Styles\"]</td>\n",
              "      <td>2020-12-23</td>\n",
              "      <td>news cc-crawl</td>\n",
              "      <td>crawl-data/CC-NEWS/2020/12/CC-NEWS-20201223000...</td>\n",
              "      <td>2020-12-23</td>\n",
              "      <td>Perth mother Clare has found herself mostly co...</td>\n",
              "      <td>perth mother clare* has found herself mostly ...</td>\n",
              "      <td>https://static.ffx.io/images/$zoom_0.3431%2C$m...</td>\n",
              "      <td>Brisbane Times</td>\n",
              "      <td>'Pack Lego': Perth family caught in hard borde...</td>\n",
              "      <td>entertainment</td>\n",
              "      <td>https://www.brisbanetimes.com.au/national/west...</td>\n",
              "      <td>brisbanetimes.com.au</td>\n",
              "    </tr>\n",
              "    <tr>\n",
              "      <th>8</th>\n",
              "      <td>[]</td>\n",
              "      <td>2020-12-23</td>\n",
              "      <td>news cc-crawl</td>\n",
              "      <td>crawl-data/CC-NEWS/2020/12/CC-NEWS-20201223000...</td>\n",
              "      <td>2020-12-23</td>\n",
              "      <td>Jonny Evans joined Leicester from West Brom in...</td>\n",
              "      <td>africa cup of nations jonny evans joined leic...</td>\n",
              "      <td>https://e0.365dm.com/20/12/768x432/skysports-j...</td>\n",
              "      <td>Sky Sports</td>\n",
              "      <td>Jonny Evans 'close' to signing new Leicester c...</td>\n",
              "      <td>sport</td>\n",
              "      <td>https://www.skysports.com/football/news/11712/...</td>\n",
              "      <td>skysports.com</td>\n",
              "    </tr>\n",
              "  </tbody>\n",
              "</table>\n",
              "</div>"
            ],
            "text/plain": [
              "                                              author  ...        webpage_source\n",
              "0                                                 []  ...         skysports.com\n",
              "4  [\"Liz Josaitis, Michigan State University Exte...  ...    westernjournal.com\n",
              "6                                     [\"Aja Styles\"]  ...  brisbanetimes.com.au\n",
              "8                                                 []  ...         skysports.com\n",
              "\n",
              "[4 rows x 13 columns]"
            ]
          },
          "metadata": {
            "tags": []
          },
          "execution_count": 80
        }
      ]
    },
    {
      "cell_type": "markdown",
      "metadata": {
        "id": "2R93o70R6lr1"
      },
      "source": [
        "### Detect the Language using the fasttext"
      ]
    },
    {
      "cell_type": "code",
      "metadata": {
        "colab": {
          "base_uri": "https://localhost:8080/",
          "height": 53
        },
        "id": "MlJ1oECF58D0",
        "outputId": "20198b4e-57a2-46e5-8984-70532483b132"
      },
      "source": [
        "# need to extract the language on the basis of full_text\r\n",
        "# Here I am using the fasttext to detect the language , more words will give more accurate result\r\n",
        "\r\n",
        "import fasttext\r\n",
        "\r\n",
        "pretrained_model_facebook_path = '/content/drive/MyDrive/Colab Notebooks/dataFiles/lid.176.bin' #store some where in your local machine and use it\r\n",
        "model = fasttext.load_model(pretrained_model_facebook_path)\r\n",
        "#helper function\r\n",
        "def lang_detect(text):\r\n",
        "  result = model.predict(text,1)\r\n",
        "  return result[0][0][-2:]\r\n",
        "\r\n",
        "lang_detect('hello')"
      ],
      "execution_count": 81,
      "outputs": [
        {
          "output_type": "stream",
          "text": [
            "Warning : `load_model` does not return WordVectorModel or SupervisedModel any more, but a `FastText` object which is very similar.\n"
          ],
          "name": "stderr"
        },
        {
          "output_type": "execute_result",
          "data": {
            "application/vnd.google.colaboratory.intrinsic+json": {
              "type": "string"
            },
            "text/plain": [
              "'en'"
            ]
          },
          "metadata": {
            "tags": []
          },
          "execution_count": 81
        }
      ]
    },
    {
      "cell_type": "code",
      "metadata": {
        "colab": {
          "base_uri": "https://localhost:8080/",
          "height": 617
        },
        "id": "gJP7BW75GTaW",
        "outputId": "d6419ab0-1142-4207-ccd5-0e8f3d74b4fe"
      },
      "source": [
        "data2['language'] = data2.apply(lambda row : lang_detect(row['full_text']) , axis = 1)\r\n",
        "data2.head(5)"
      ],
      "execution_count": 82,
      "outputs": [
        {
          "output_type": "execute_result",
          "data": {
            "text/html": [
              "<div>\n",
              "<style scoped>\n",
              "    .dataframe tbody tr th:only-of-type {\n",
              "        vertical-align: middle;\n",
              "    }\n",
              "\n",
              "    .dataframe tbody tr th {\n",
              "        vertical-align: top;\n",
              "    }\n",
              "\n",
              "    .dataframe thead th {\n",
              "        text-align: right;\n",
              "    }\n",
              "</style>\n",
              "<table border=\"1\" class=\"dataframe\">\n",
              "  <thead>\n",
              "    <tr style=\"text-align: right;\">\n",
              "      <th></th>\n",
              "      <th>author</th>\n",
              "      <th>crawl_date</th>\n",
              "      <th>crawl_desc</th>\n",
              "      <th>crawl_url</th>\n",
              "      <th>date</th>\n",
              "      <th>description</th>\n",
              "      <th>full_text</th>\n",
              "      <th>img_url</th>\n",
              "      <th>site_name</th>\n",
              "      <th>title</th>\n",
              "      <th>topic</th>\n",
              "      <th>url</th>\n",
              "      <th>webpage_source</th>\n",
              "      <th>language</th>\n",
              "    </tr>\n",
              "  </thead>\n",
              "  <tbody>\n",
              "    <tr>\n",
              "      <th>0</th>\n",
              "      <td>[]</td>\n",
              "      <td>2020-12-23</td>\n",
              "      <td>news cc-crawl</td>\n",
              "      <td>crawl-data/CC-NEWS/2020/12/CC-NEWS-20201223000...</td>\n",
              "      <td>2020-12-23</td>\n",
              "      <td>2018 champion Rob Cross became the highest-pro...</td>\n",
              "      <td>watch live coverage of the last two sessions ...</td>\n",
              "      <td>https://e2.365dm.com/20/12/1600x900/skysports-...</td>\n",
              "      <td>Sky Sports</td>\n",
              "      <td>PDC World Darts Championship, 2020/21: Dirk va...</td>\n",
              "      <td>sport</td>\n",
              "      <td>https://www.skysports.com/darts/news/12288/121...</td>\n",
              "      <td>skysports.com</td>\n",
              "      <td>en</td>\n",
              "    </tr>\n",
              "    <tr>\n",
              "      <th>4</th>\n",
              "      <td>[\"Liz Josaitis, Michigan State University Exte...</td>\n",
              "      <td>2020-12-23</td>\n",
              "      <td>news cc-crawl</td>\n",
              "      <td>crawl-data/CC-NEWS/2020/12/CC-NEWS-20201223000...</td>\n",
              "      <td>2020-12-23</td>\n",
              "      <td>The Food and Drug Administration has offered a...</td>\n",
              "      <td>a few examples include the offering of anti-a...</td>\n",
              "      <td>https://www.westernjournal.com/wp-content/uplo...</td>\n",
              "      <td>The Western Journal</td>\n",
              "      <td>Health Scammers Prey on the Elderly, Here's Ho...</td>\n",
              "      <td>politics</td>\n",
              "      <td>https://www.westernjournal.com/health-scammers...</td>\n",
              "      <td>westernjournal.com</td>\n",
              "      <td>en</td>\n",
              "    </tr>\n",
              "    <tr>\n",
              "      <th>6</th>\n",
              "      <td>[\"Aja Styles\"]</td>\n",
              "      <td>2020-12-23</td>\n",
              "      <td>news cc-crawl</td>\n",
              "      <td>crawl-data/CC-NEWS/2020/12/CC-NEWS-20201223000...</td>\n",
              "      <td>2020-12-23</td>\n",
              "      <td>Perth mother Clare has found herself mostly co...</td>\n",
              "      <td>perth mother clare* has found herself mostly ...</td>\n",
              "      <td>https://static.ffx.io/images/$zoom_0.3431%2C$m...</td>\n",
              "      <td>Brisbane Times</td>\n",
              "      <td>'Pack Lego': Perth family caught in hard borde...</td>\n",
              "      <td>entertainment</td>\n",
              "      <td>https://www.brisbanetimes.com.au/national/west...</td>\n",
              "      <td>brisbanetimes.com.au</td>\n",
              "      <td>en</td>\n",
              "    </tr>\n",
              "    <tr>\n",
              "      <th>8</th>\n",
              "      <td>[]</td>\n",
              "      <td>2020-12-23</td>\n",
              "      <td>news cc-crawl</td>\n",
              "      <td>crawl-data/CC-NEWS/2020/12/CC-NEWS-20201223000...</td>\n",
              "      <td>2020-12-23</td>\n",
              "      <td>Jonny Evans joined Leicester from West Brom in...</td>\n",
              "      <td>africa cup of nations jonny evans joined leic...</td>\n",
              "      <td>https://e0.365dm.com/20/12/768x432/skysports-j...</td>\n",
              "      <td>Sky Sports</td>\n",
              "      <td>Jonny Evans 'close' to signing new Leicester c...</td>\n",
              "      <td>sport</td>\n",
              "      <td>https://www.skysports.com/football/news/11712/...</td>\n",
              "      <td>skysports.com</td>\n",
              "      <td>en</td>\n",
              "    </tr>\n",
              "    <tr>\n",
              "      <th>11</th>\n",
              "      <td>[\"Jake Johnson\"]</td>\n",
              "      <td>2020-12-23</td>\n",
              "      <td>news cc-crawl</td>\n",
              "      <td>crawl-data/CC-NEWS/2020/12/CC-NEWS-20201223000...</td>\n",
              "      <td>2020-12-23</td>\n",
              "      <td>The billâs gifts to the wealthy underscore t...</td>\n",
              "      <td>in late-night votes just hours after nearly 5...</td>\n",
              "      <td>https://truthout.org/wp-content/uploads/2020/1...</td>\n",
              "      <td>Truthout</td>\n",
              "      <td>Congress Passes COVID Relief With Billions in ...</td>\n",
              "      <td>politics</td>\n",
              "      <td>https://truthout.org/articles/congress-passes-...</td>\n",
              "      <td>truthout.org</td>\n",
              "      <td>en</td>\n",
              "    </tr>\n",
              "  </tbody>\n",
              "</table>\n",
              "</div>"
            ],
            "text/plain": [
              "                                               author  ... language\n",
              "0                                                  []  ...       en\n",
              "4   [\"Liz Josaitis, Michigan State University Exte...  ...       en\n",
              "6                                      [\"Aja Styles\"]  ...       en\n",
              "8                                                  []  ...       en\n",
              "11                                   [\"Jake Johnson\"]  ...       en\n",
              "\n",
              "[5 rows x 14 columns]"
            ]
          },
          "metadata": {
            "tags": []
          },
          "execution_count": 82
        }
      ]
    },
    {
      "cell_type": "markdown",
      "metadata": {
        "id": "rwgktjfROe0v"
      },
      "source": [
        "## Extract only the English lanuage Samples"
      ]
    },
    {
      "cell_type": "code",
      "metadata": {
        "colab": {
          "base_uri": "https://localhost:8080/"
        },
        "id": "mCPVqa1YDs_n",
        "outputId": "780d3875-7c84-4c61-ed96-fae5224c6146"
      },
      "source": [
        "#keep only the english language samples\r\n",
        "\r\n",
        "data = data2[data2['language'] == 'en']\r\n",
        "\r\n",
        "print(\"The whole dataset size----->\",data2.shape)\r\n",
        "print()\r\n",
        "print('The English Dataset size--->',data.shape)\r\n",
        "print()\r\n",
        "print(\"Other language datas------->\",data2.shape[0]-data.shape[0])"
      ],
      "execution_count": 83,
      "outputs": [
        {
          "output_type": "stream",
          "text": [
            "The whole dataset size-----> (36619, 14)\n",
            "\n",
            "The English Dataset size---> (36587, 14)\n",
            "\n",
            "Other language datas-------> 32\n"
          ],
          "name": "stdout"
        }
      ]
    },
    {
      "cell_type": "markdown",
      "metadata": {
        "id": "geNw4Qs9SreW"
      },
      "source": [
        "# EDA"
      ]
    },
    {
      "cell_type": "code",
      "metadata": {
        "id": "6Cl_QSHTCvLT",
        "colab": {
          "base_uri": "https://localhost:8080/"
        },
        "outputId": "48abc85c-47f6-449a-e847-31ada23724a0"
      },
      "source": [
        "#how many categories are there\r\n",
        "class_  = data['topic'].value_counts()\r\n",
        "class_"
      ],
      "execution_count": 84,
      "outputs": [
        {
          "output_type": "execute_result",
          "data": {
            "text/plain": [
              "business         12320\n",
              "sport             7607\n",
              "entertainment     6172\n",
              "tech              5313\n",
              "politics          5175\n",
              "Name: topic, dtype: int64"
            ]
          },
          "metadata": {
            "tags": []
          },
          "execution_count": 84
        }
      ]
    },
    {
      "cell_type": "code",
      "metadata": {
        "colab": {
          "base_uri": "https://localhost:8080/",
          "height": 508
        },
        "id": "vFWbirsT6JlD",
        "outputId": "18ae7023-332d-4fc0-8167-169edf09716f"
      },
      "source": [
        "f, axes = plt.subplots(1, 1, figsize=(7, 7), sharex=True)\r\n",
        "\r\n",
        "sns.set(style = 'darkgrid')\r\n",
        "sns.barplot(x=class_.index , y = class_.values , alpha=0.95)\r\n",
        "\r\n",
        "plt.title('Frequency Distribution of Topics', fontsize=13)\r\n",
        "plt.ylabel('Number of Occurrences', fontsize=13)\r\n",
        "plt.xlabel('Topics', fontsize=13)\r\n",
        "\r\n",
        "plt.xticks(rotation=60,fontsize = 14)\r\n",
        "plt.yticks([])\r\n",
        "\r\n",
        "plt.tight_layout()\r\n",
        "plt.show()\r\n"
      ],
      "execution_count": 85,
      "outputs": [
        {
          "output_type": "display_data",
          "data": {
            "image/png": "[encoded data removed]",
            "text/plain": [
              "<Figure size 504x504 with 1 Axes>"
            ]
          },
          "metadata": {
            "tags": []
          }
        }
      ]
    },
    {
      "cell_type": "code",
      "metadata": {
        "id": "wsD3z8JJ6PHK",
        "colab": {
          "base_uri": "https://localhost:8080/"
        },
        "outputId": "63688f9e-3e4c-4a93-b431-c361b130c180"
      },
      "source": [
        "# the details about the source page\r\n",
        "source_page_count = data['webpage_source'].value_counts()\r\n",
        "top_15_source = source_page_count[:15]\r\n",
        "top_15_source"
      ],
      "execution_count": 86,
      "outputs": [
        {
          "output_type": "execute_result",
          "data": {
            "text/plain": [
              "dailymail.co.uk         1512\n",
              "nasdaq.com              1104\n",
              "newindianexpress.com     850\n",
              "yahoo.com                829\n",
              "indiatimes.com           757\n",
              "news18.com               617\n",
              "houstonchronicle.com     572\n",
              "globenewswire.com        556\n",
              "hindustantimes.com       525\n",
              "reuters.com              511\n",
              "thestreet.com            437\n",
              "washingtonpost.com       433\n",
              "cbslocal.com             420\n",
              "thehindu.com             406\n",
              "express.co.uk            402\n",
              "Name: webpage_source, dtype: int64"
            ]
          },
          "metadata": {
            "tags": []
          },
          "execution_count": 86
        }
      ]
    },
    {
      "cell_type": "code",
      "metadata": {
        "colab": {
          "base_uri": "https://localhost:8080/",
          "height": 508
        },
        "id": "Q4ZpPnHhU_3R",
        "outputId": "e3af7b68-593a-45cf-af21-c35c8c88d37f"
      },
      "source": [
        "f, axes = plt.subplots(1, 1, figsize=(15, 7), sharex=True)\r\n",
        "\r\n",
        "sns.set(style = 'darkgrid')\r\n",
        "sns.barplot(x=top_15_source.index , y = top_15_source.values , alpha=0.95)\r\n",
        "\r\n",
        "plt.title('Frequency Distribution of Source web apges', fontsize=13)\r\n",
        "plt.ylabel('Number of Occurrences', fontsize=13)\r\n",
        "plt.xlabel('web page URL', fontsize=13)\r\n",
        "\r\n",
        "plt.xticks(rotation=60,fontsize = 14)\r\n",
        "plt.yticks([])\r\n",
        "\r\n",
        "plt.tight_layout()\r\n",
        "plt.show()"
      ],
      "execution_count": 87,
      "outputs": [
        {
          "output_type": "display_data",
          "data": {
            "image/png": "[encoded data removed]",
            "text/plain": [
              "<Figure size 1080x504 with 1 Axes>"
            ]
          },
          "metadata": {
            "tags": []
          }
        }
      ]
    },
    {
      "cell_type": "code",
      "metadata": {
        "colab": {
          "base_uri": "https://localhost:8080/"
        },
        "id": "XobYs80kVaeu",
        "outputId": "d06fe0bf-8b8c-4d2c-88bd-4bc0c5af8755"
      },
      "source": [
        "# distribution of site names\r\n",
        "site_count = data['site_name'].value_counts()\r\n",
        "top_15_site_count = site_count[:15]\r\n",
        "top_15_site_count"
      ],
      "execution_count": 88,
      "outputs": [
        {
          "output_type": "execute_result",
          "data": {
            "text/plain": [
              "Mail Online                1512\n",
              "The New Indian Express      850\n",
              "News18                      605\n",
              "HoustonChronicle.com        571\n",
              "GlobeNewswire News Room     556\n",
              "The Economic Times          532\n",
              "U.S.                        478\n",
              "hindustantimes.com          439\n",
              "Washington Post             433\n",
              "TheStreet                   426\n",
              "Express.co.uk               402\n",
              "CBSSports.com               394\n",
              "SFChronicle.com             386\n",
              "thestar.com                 381\n",
              "The Sun                     373\n",
              "Name: site_name, dtype: int64"
            ]
          },
          "metadata": {
            "tags": []
          },
          "execution_count": 88
        }
      ]
    },
    {
      "cell_type": "code",
      "metadata": {
        "colab": {
          "base_uri": "https://localhost:8080/",
          "height": 508
        },
        "id": "t1K-SRn8WKKz",
        "outputId": "5c4094b9-043f-458a-906d-2d6e0dff2d1a"
      },
      "source": [
        "f, axes = plt.subplots(1, 1, figsize=(15, 7), sharex=True)\r\n",
        "\r\n",
        "sns.set(style = 'darkgrid')\r\n",
        "sns.barplot(x=top_15_site_count.index , y = top_15_site_count.values , alpha=0.95)\r\n",
        "\r\n",
        "plt.title('Frequency Distribution of Source web apges', fontsize=13)\r\n",
        "plt.ylabel('Number of Occurrences', fontsize=13)\r\n",
        "plt.xlabel('web page URL', fontsize=13)\r\n",
        "\r\n",
        "plt.xticks(rotation=70,fontsize = 14)\r\n",
        "plt.yticks([])\r\n",
        "\r\n",
        "plt.tight_layout()\r\n",
        "plt.show()"
      ],
      "execution_count": 89,
      "outputs": [
        {
          "output_type": "display_data",
          "data": {
            "image/png": "[encoded data removed]",
            "text/plain": [
              "<Figure size 1080x504 with 1 Axes>"
            ]
          },
          "metadata": {
            "tags": []
          }
        }
      ]
    },
    {
      "cell_type": "markdown",
      "metadata": {
        "id": "VSU0wpbpXM0a"
      },
      "source": [
        "# Filter out the Data that only contain author name"
      ]
    },
    {
      "cell_type": "code",
      "metadata": {
        "colab": {
          "base_uri": "https://localhost:8080/"
        },
        "id": "X30hYqtiWW8G",
        "outputId": "1acb43af-ce29-44fd-a42b-c7071fbb996f"
      },
      "source": [
        "author_null = data['author']=='[]'\r\n",
        "print(author_null)\r\n",
        "print()\r\n",
        "\r\n",
        "print(\"The whole dataset size------------>\",data.shape)\r\n",
        "data = data[~author_null]\r\n",
        "\r\n",
        "print()\r\n",
        "print('The Dataset contain author name--->',data.shape)\r\n",
        "print()\r\n",
        "print(\"Dataset contain no author name---->\",len(author_null)-data.shape[0])"
      ],
      "execution_count": 90,
      "outputs": [
        {
          "output_type": "stream",
          "text": [
            "0          True\n",
            "4         False\n",
            "6         False\n",
            "8          True\n",
            "11        False\n",
            "          ...  \n",
            "187782     True\n",
            "187787     True\n",
            "187789     True\n",
            "187791     True\n",
            "187796     True\n",
            "Name: author, Length: 36587, dtype: bool\n",
            "\n",
            "The whole dataset size------------> (36587, 14)\n",
            "\n",
            "The Dataset contain author name---> (11793, 14)\n",
            "\n",
            "Dataset contain no author name----> 24794\n"
          ],
          "name": "stdout"
        }
      ]
    },
    {
      "cell_type": "code",
      "metadata": {
        "colab": {
          "base_uri": "https://localhost:8080/",
          "height": 587
        },
        "id": "cak6jv9Fbqko",
        "outputId": "353b804f-a5d7-44a4-f252-244e00a82cca"
      },
      "source": [
        "# convert the author name json to str\r\n",
        "def convert_str(t):\r\n",
        "  return json.loads(t)[0]\r\n",
        "\r\n",
        "data['author'] = data.apply(lambda row : convert_str(row['author']) , axis=1)\r\n",
        "data.head(4)"
      ],
      "execution_count": 105,
      "outputs": [
        {
          "output_type": "execute_result",
          "data": {
            "text/html": [
              "<div>\n",
              "<style scoped>\n",
              "    .dataframe tbody tr th:only-of-type {\n",
              "        vertical-align: middle;\n",
              "    }\n",
              "\n",
              "    .dataframe tbody tr th {\n",
              "        vertical-align: top;\n",
              "    }\n",
              "\n",
              "    .dataframe thead th {\n",
              "        text-align: right;\n",
              "    }\n",
              "</style>\n",
              "<table border=\"1\" class=\"dataframe\">\n",
              "  <thead>\n",
              "    <tr style=\"text-align: right;\">\n",
              "      <th></th>\n",
              "      <th>author</th>\n",
              "      <th>crawl_date</th>\n",
              "      <th>crawl_desc</th>\n",
              "      <th>crawl_url</th>\n",
              "      <th>date</th>\n",
              "      <th>description</th>\n",
              "      <th>full_text</th>\n",
              "      <th>img_url</th>\n",
              "      <th>site_name</th>\n",
              "      <th>title</th>\n",
              "      <th>topic</th>\n",
              "      <th>url</th>\n",
              "      <th>webpage_source</th>\n",
              "      <th>language</th>\n",
              "    </tr>\n",
              "  </thead>\n",
              "  <tbody>\n",
              "    <tr>\n",
              "      <th>4</th>\n",
              "      <td>Liz Josaitis, Michigan State University Extension</td>\n",
              "      <td>2020-12-23</td>\n",
              "      <td>news cc-crawl</td>\n",
              "      <td>crawl-data/CC-NEWS/2020/12/CC-NEWS-20201223000...</td>\n",
              "      <td>2020-12-23</td>\n",
              "      <td>The Food and Drug Administration has offered a...</td>\n",
              "      <td>a few examples include the offering of anti-a...</td>\n",
              "      <td>https://www.westernjournal.com/wp-content/uplo...</td>\n",
              "      <td>The Western Journal</td>\n",
              "      <td>Health Scammers Prey on the Elderly, Here's Ho...</td>\n",
              "      <td>politics</td>\n",
              "      <td>https://www.westernjournal.com/health-scammers...</td>\n",
              "      <td>westernjournal.com</td>\n",
              "      <td>en</td>\n",
              "    </tr>\n",
              "    <tr>\n",
              "      <th>6</th>\n",
              "      <td>Aja Styles</td>\n",
              "      <td>2020-12-23</td>\n",
              "      <td>news cc-crawl</td>\n",
              "      <td>crawl-data/CC-NEWS/2020/12/CC-NEWS-20201223000...</td>\n",
              "      <td>2020-12-23</td>\n",
              "      <td>Perth mother Clare has found herself mostly co...</td>\n",
              "      <td>perth mother clare* has found herself mostly ...</td>\n",
              "      <td>https://static.ffx.io/images/$zoom_0.3431%2C$m...</td>\n",
              "      <td>Brisbane Times</td>\n",
              "      <td>'Pack Lego': Perth family caught in hard borde...</td>\n",
              "      <td>entertainment</td>\n",
              "      <td>https://www.brisbanetimes.com.au/national/west...</td>\n",
              "      <td>brisbanetimes.com.au</td>\n",
              "      <td>en</td>\n",
              "    </tr>\n",
              "    <tr>\n",
              "      <th>11</th>\n",
              "      <td>Jake Johnson</td>\n",
              "      <td>2020-12-23</td>\n",
              "      <td>news cc-crawl</td>\n",
              "      <td>crawl-data/CC-NEWS/2020/12/CC-NEWS-20201223000...</td>\n",
              "      <td>2020-12-23</td>\n",
              "      <td>The billâs gifts to the wealthy underscore t...</td>\n",
              "      <td>in late-night votes just hours after nearly 5...</td>\n",
              "      <td>https://truthout.org/wp-content/uploads/2020/1...</td>\n",
              "      <td>Truthout</td>\n",
              "      <td>Congress Passes COVID Relief With Billions in ...</td>\n",
              "      <td>politics</td>\n",
              "      <td>https://truthout.org/articles/congress-passes-...</td>\n",
              "      <td>truthout.org</td>\n",
              "      <td>en</td>\n",
              "    </tr>\n",
              "    <tr>\n",
              "      <th>12</th>\n",
              "      <td>Christine Favocci</td>\n",
              "      <td>2020-12-23</td>\n",
              "      <td>news cc-crawl</td>\n",
              "      <td>crawl-data/CC-NEWS/2020/12/CC-NEWS-20201223000...</td>\n",
              "      <td>2020-12-23</td>\n",
              "      <td>It is naive to think that either party is free...</td>\n",
              "      <td>the left has insisted that voter fraud is jus...</td>\n",
              "      <td>https://www.westernjournal.com/wp-content/uplo...</td>\n",
              "      <td>The Western Journal</td>\n",
              "      <td>PA Man Facing Charges of Unlawful Voting After...</td>\n",
              "      <td>tech</td>\n",
              "      <td>https://www.westernjournal.com/pa-man-facing-c...</td>\n",
              "      <td>westernjournal.com</td>\n",
              "      <td>en</td>\n",
              "    </tr>\n",
              "  </tbody>\n",
              "</table>\n",
              "</div>"
            ],
            "text/plain": [
              "                                               author  ... language\n",
              "4   Liz Josaitis, Michigan State University Extension  ...       en\n",
              "6                                          Aja Styles  ...       en\n",
              "11                                       Jake Johnson  ...       en\n",
              "12                                  Christine Favocci  ...       en\n",
              "\n",
              "[4 rows x 14 columns]"
            ]
          },
          "metadata": {
            "tags": []
          },
          "execution_count": 105
        }
      ]
    },
    {
      "cell_type": "markdown",
      "metadata": {
        "id": "27SB1kEAZvos"
      },
      "source": [
        "# Find the outliers bashed on the author name"
      ]
    },
    {
      "cell_type": "code",
      "metadata": {
        "colab": {
          "base_uri": "https://localhost:8080/"
        },
        "id": "WCRa8lINXaCd",
        "outputId": "2c79fff7-5b91-4181-9cbf-e40818e3872e"
      },
      "source": [
        "# craate author_exclusion  list that excludes some author names that denote outlets and not persons.\r\n",
        "# For example, this list should contain \"reuters\", 'associated press' etc. \r\n",
        "total_author = len(list(data['author'].unique()))\r\n",
        "print(\"The number of district authors in the dataset----->\",total_author)"
      ],
      "execution_count": 109,
      "outputs": [
        {
          "output_type": "stream",
          "text": [
            "The number of district authors in the dataset-----> 4691\n"
          ],
          "name": "stdout"
        }
      ]
    },
    {
      "cell_type": "code",
      "metadata": {
        "id": "K7-TULkcaCFC"
      },
      "source": [
        ""
      ],
      "execution_count": null,
      "outputs": []
    }
  ]
}
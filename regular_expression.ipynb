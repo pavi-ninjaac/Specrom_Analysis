{
 "cells": [
  {
   "cell_type": "code",
   "execution_count": 6,
   "metadata": {},
   "outputs": [],
   "source": [
    "import re"
   ]
  },
  {
   "cell_type": "markdown",
   "metadata": {},
   "source": [
    "MetaCharacters\n",
    "Metacharacters are characters that are interpreted in a special way by a RegEx engine. Here's a list of metacharacters:\n",
    "\n",
    "[] . ^ $ * + ? {} () \\ |"
   ]
  },
  {
   "cell_type": "code",
   "execution_count": 19,
   "metadata": {},
   "outputs": [
    {
     "name": "stdout",
     "output_type": "stream",
     "text": [
      "['a', 'a']\n",
      "['m', 'y', ' ', 'f', 'i', 'r', 's', 't', ' ', 's', 't', 'p', ' ', 't', 'o', 'w', 'r', 's', ' ', 'r', 'g', 'u', 'l', 'r', ' ', 'x', 'p', 'r', 's', 's', 'i', 'o', 'n']\n"
     ]
    }
   ],
   "source": [
    "string = 'my first step towards regular expression'\n",
    "pattern = '[abc]'  # find a or b or c\n",
    "pattern2 = '[^a-e]' # find except abcde\n",
    "print(re.findall(pattern , string))\n",
    "print(re.findall(pattern2 , string))"
   ]
  },
  {
   "cell_type": "code",
   "execution_count": 22,
   "metadata": {},
   "outputs": [
    {
     "name": "stdout",
     "output_type": "stream",
     "text": [
      "['ab', 'as']\n",
      "['a', 'b', 'a', 's', 'd']\n"
     ]
    }
   ],
   "source": [
    "# use of .(period)\n",
    "###find the any single charecter\n",
    "\n",
    "string = 'abasd'\n",
    "pattern = '..'  # find a or b or c\n",
    "pattern2 = '.' # find except abcde\n",
    "print(re.findall(pattern , string))\n",
    "print(re.findall(pattern2 , string))"
   ]
  },
  {
   "cell_type": "code",
   "execution_count": 44,
   "metadata": {},
   "outputs": [
    {
     "name": "stdout",
     "output_type": "stream",
     "text": [
      "['abasd']\n",
      "[]\n"
     ]
    }
   ],
   "source": [
    "# use of ^ and $\n",
    "# find the string starts with(^) find the wirds ends with ($)\n",
    "string = 'abasd'\n",
    "pattern = '^a...d$'  \n",
    "pattern2 = '^i'\n",
    "print(re.findall(pattern , string))\n",
    "print(re.findall(pattern2 , string))"
   ]
  },
  {
   "cell_type": "markdown",
   "metadata": {},
   "source": [
    "## The plus symbol + matches one or more occurrences of the pattern left to it. (+)"
   ]
  },
  {
   "cell_type": "code",
   "execution_count": 49,
   "metadata": {},
   "outputs": [
    {
     "name": "stdout",
     "output_type": "stream",
     "text": [
      "['hat', 'haaat', 'haaat', 'hat']\n"
     ]
    }
   ],
   "source": [
    "# use of + and ?\n",
    "string = 'that can be so easy for us i think at aat haaat hhaaat hhat'\n",
    "pattern = 'ha+t'  # pattern is ---->'h (one or more number of 'a') t'\n",
    "\n",
    "print(re.findall(pattern , string))\n"
   ]
  },
  {
   "cell_type": "markdown",
   "metadata": {},
   "source": [
    "# The question mark symbol ? matches zero or one occurrence of the pattern left to it."
   ]
  },
  {
   "cell_type": "code",
   "execution_count": 50,
   "metadata": {},
   "outputs": [
    {
     "name": "stdout",
     "output_type": "stream",
     "text": [
      "['hat', 'hat', 'ht']\n"
     ]
    }
   ],
   "source": [
    "# use of + and ?\n",
    "string = 'that can be so easy for us i think at aat haaat hhaaat hhat ht'\n",
    "pattern = 'ha?t'  # pattern is ---->'h (one or zero number of 'a') t'\n",
    "\n",
    "print(re.findall(pattern , string))\n"
   ]
  },
  {
   "cell_type": "code",
   "execution_count": null,
   "metadata": {},
   "outputs": [],
   "source": []
  }
 ],
 "metadata": {
  "kernelspec": {
   "display_name": "Python 3.6 (tensorflow)",
   "language": "python",
   "name": "tensorflow"
  },
  "language_info": {
   "codemirror_mode": {
    "name": "ipython",
    "version": 3
   },
   "file_extension": ".py",
   "mimetype": "text/x-python",
   "name": "python",
   "nbconvert_exporter": "python",
   "pygments_lexer": "ipython3",
   "version": "3.7.6"
  }
 },
 "nbformat": 4,
 "nbformat_minor": 4
}

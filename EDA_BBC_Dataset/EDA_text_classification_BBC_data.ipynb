{
 "cells": [
  {
   "cell_type": "markdown",
   "metadata": {},
   "source": [
    "# Expotary data Analysis for NLP "
   ]
  },
  {
   "cell_type": "code",
   "execution_count": 32,
   "metadata": {},
   "outputs": [],
   "source": [
    "import pandas as pd\n",
    "import numpy as np\n",
    "import os\n",
    "import time\n",
    "import json\n",
    "import seaborn as sns"
   ]
  },
  {
   "cell_type": "code",
   "execution_count": 23,
   "metadata": {
    "scrolled": true
   },
   "outputs": [
    {
     "name": "stdout",
     "output_type": "stream",
     "text": [
      "Files extracted Successfully!!!!!!!!-----> README.TXT\n",
      "Files extracted Successfully!!!!!!!!-----> 510.txt\n",
      "Files extracted Successfully!!!!!!!!-----> 386.txt\n",
      "Files extracted Successfully!!!!!!!!-----> 417.txt\n",
      "Files extracted Successfully!!!!!!!!-----> 511.txt\n",
      "Files extracted Successfully!!!!!!!!-----> 401.txt\n",
      "DataFrame created !!!!\n",
      "csv file stored on the specified location\n"
     ]
    }
   ],
   "source": [
    "path_folder = r'F:\\Specrom_Analysis\\NLP\\EDA_BBC_Data_textcallsi\\bbc-fulltext\\bbc'\n",
    "\n",
    "# change the all directory in that folder to a dataframe to classfication task\n",
    "directory,files,title,text,label = [],[],[],[],[]\n",
    "\n",
    "for dir_name ,directory2 ,  files in os.walk(path_folder):\n",
    "    for file in files:\n",
    "        #directory.append(dir_name)\n",
    "        #files.append(file)\n",
    "        label.append(dir_name.split('\\\\')[-1]) #looks like this 'F:\\\\Specrom_Analysis\\\\NLP\\\\EDA_BBC_Data_textcallsi\\\\bbc-fulltext\\\\bbc\\\\politics',\n",
    "        full_path = os.path.join(dir_name , file)\n",
    "        #print(full_path)\n",
    "        \n",
    "        with open(full_path , 'r', encoding=\"utf8\", errors='ignore') as f :\n",
    "            text_con = ''\n",
    "            firts_line = True\n",
    "            for line in f:\n",
    "                if firts_line:\n",
    "                    title.append(line.replace('\\n',''))\n",
    "                    firts_line = False\n",
    "                else:\n",
    "                    text_con = text_con + ' ' + line.replace('\\n','')\n",
    "            text.append(text_con)\n",
    "            \n",
    "    print(\"Files extracted Successfully!!!!!!!!----->\",file)\n",
    "    \n",
    "    \n",
    "df = pd.DataFrame({'title':title , 'text' : text , 'label' : label})\n",
    "print(\"DataFrame created !!!!\")\n",
    "df.to_csv(r\"F:\\Specrom_Analysis\\NLP\\EDA_BBC_Data_textcallsi\\bbc-fulltext\\bbc\\bbc_news_data.csv\")\n",
    "print(\"csv file stored on the specified location\")\n"
   ]
  },
  {
   "cell_type": "code",
   "execution_count": 28,
   "metadata": {},
   "outputs": [
    {
     "data": {
      "text/html": [
       "<div>\n",
       "<style scoped>\n",
       "    .dataframe tbody tr th:only-of-type {\n",
       "        vertical-align: middle;\n",
       "    }\n",
       "\n",
       "    .dataframe tbody tr th {\n",
       "        vertical-align: top;\n",
       "    }\n",
       "\n",
       "    .dataframe thead th {\n",
       "        text-align: right;\n",
       "    }\n",
       "</style>\n",
       "<table border=\"1\" class=\"dataframe\">\n",
       "  <thead>\n",
       "    <tr style=\"text-align: right;\">\n",
       "      <th></th>\n",
       "      <th>title</th>\n",
       "      <th>text</th>\n",
       "      <th>label</th>\n",
       "    </tr>\n",
       "  </thead>\n",
       "  <tbody>\n",
       "    <tr>\n",
       "      <th>0</th>\n",
       "      <td>Consists of 2225 documents from the BBC news w...</td>\n",
       "      <td>Natural Classes: 5 (business, entertainment, ...</td>\n",
       "      <td>bbc</td>\n",
       "    </tr>\n",
       "    <tr>\n",
       "      <th>1</th>\n",
       "      <td>Ad sales boost Time Warner profit</td>\n",
       "      <td>Quarterly profits at US media giant TimeWarn...</td>\n",
       "      <td>business</td>\n",
       "    </tr>\n",
       "    <tr>\n",
       "      <th>2</th>\n",
       "      <td>Dollar gains on Greenspan speech</td>\n",
       "      <td>The dollar has hit its highest level against...</td>\n",
       "      <td>business</td>\n",
       "    </tr>\n",
       "    <tr>\n",
       "      <th>3</th>\n",
       "      <td>Yukos unit buyer faces loan claim</td>\n",
       "      <td>The owners of embattled Russian oil giant Yu...</td>\n",
       "      <td>business</td>\n",
       "    </tr>\n",
       "    <tr>\n",
       "      <th>4</th>\n",
       "      <td>High fuel prices hit BA's profits</td>\n",
       "      <td>British Airways has blamed high fuel prices ...</td>\n",
       "      <td>business</td>\n",
       "    </tr>\n",
       "    <tr>\n",
       "      <th>5</th>\n",
       "      <td>Pernod takeover talk lifts Domecq</td>\n",
       "      <td>Shares in UK drinks and food firm Allied Dom...</td>\n",
       "      <td>business</td>\n",
       "    </tr>\n",
       "    <tr>\n",
       "      <th>6</th>\n",
       "      <td>Japan narrowly escapes recession</td>\n",
       "      <td>Japan's economy teetered on the brink of a t...</td>\n",
       "      <td>business</td>\n",
       "    </tr>\n",
       "    <tr>\n",
       "      <th>7</th>\n",
       "      <td>Jobs growth still slow in the US</td>\n",
       "      <td>The US created fewer jobs than expected in J...</td>\n",
       "      <td>business</td>\n",
       "    </tr>\n",
       "    <tr>\n",
       "      <th>8</th>\n",
       "      <td>India calls for fair trade rules</td>\n",
       "      <td>India, which attends the G7 meeting of seven...</td>\n",
       "      <td>business</td>\n",
       "    </tr>\n",
       "    <tr>\n",
       "      <th>9</th>\n",
       "      <td>Ethiopia's crop production up 24%</td>\n",
       "      <td>Ethiopia produced 14.27 million tonnes of cr...</td>\n",
       "      <td>business</td>\n",
       "    </tr>\n",
       "  </tbody>\n",
       "</table>\n",
       "</div>"
      ],
      "text/plain": [
       "                                               title  \\\n",
       "0  Consists of 2225 documents from the BBC news w...   \n",
       "1                  Ad sales boost Time Warner profit   \n",
       "2                   Dollar gains on Greenspan speech   \n",
       "3                  Yukos unit buyer faces loan claim   \n",
       "4                  High fuel prices hit BA's profits   \n",
       "5                  Pernod takeover talk lifts Domecq   \n",
       "6                   Japan narrowly escapes recession   \n",
       "7                   Jobs growth still slow in the US   \n",
       "8                   India calls for fair trade rules   \n",
       "9                  Ethiopia's crop production up 24%   \n",
       "\n",
       "                                                text     label  \n",
       "0   Natural Classes: 5 (business, entertainment, ...       bbc  \n",
       "1    Quarterly profits at US media giant TimeWarn...  business  \n",
       "2    The dollar has hit its highest level against...  business  \n",
       "3    The owners of embattled Russian oil giant Yu...  business  \n",
       "4    British Airways has blamed high fuel prices ...  business  \n",
       "5    Shares in UK drinks and food firm Allied Dom...  business  \n",
       "6    Japan's economy teetered on the brink of a t...  business  \n",
       "7    The US created fewer jobs than expected in J...  business  \n",
       "8    India, which attends the G7 meeting of seven...  business  \n",
       "9    Ethiopia produced 14.27 million tonnes of cr...  business  "
      ]
     },
     "execution_count": 28,
     "metadata": {},
     "output_type": "execute_result"
    }
   ],
   "source": [
    "data = pd.read_csv(r'F:\\Specrom_Analysis\\NLP\\EDA_BBC_Data_textcallsi\\bbc_news_data.csv',index_col =0)\n",
    "data.head(10)"
   ]
  },
  {
   "cell_type": "code",
   "execution_count": 31,
   "metadata": {},
   "outputs": [
    {
     "data": {
      "text/html": [
       "<div>\n",
       "<style scoped>\n",
       "    .dataframe tbody tr th:only-of-type {\n",
       "        vertical-align: middle;\n",
       "    }\n",
       "\n",
       "    .dataframe tbody tr th {\n",
       "        vertical-align: top;\n",
       "    }\n",
       "\n",
       "    .dataframe thead th {\n",
       "        text-align: right;\n",
       "    }\n",
       "</style>\n",
       "<table border=\"1\" class=\"dataframe\">\n",
       "  <thead>\n",
       "    <tr style=\"text-align: right;\">\n",
       "      <th></th>\n",
       "      <th>title</th>\n",
       "      <th>text</th>\n",
       "      <th>label</th>\n",
       "    </tr>\n",
       "  </thead>\n",
       "  <tbody>\n",
       "    <tr>\n",
       "      <th>1</th>\n",
       "      <td>Ad sales boost Time Warner profit</td>\n",
       "      <td>Quarterly profits at US media giant TimeWarn...</td>\n",
       "      <td>business</td>\n",
       "    </tr>\n",
       "    <tr>\n",
       "      <th>2</th>\n",
       "      <td>Dollar gains on Greenspan speech</td>\n",
       "      <td>The dollar has hit its highest level against...</td>\n",
       "      <td>business</td>\n",
       "    </tr>\n",
       "    <tr>\n",
       "      <th>3</th>\n",
       "      <td>Yukos unit buyer faces loan claim</td>\n",
       "      <td>The owners of embattled Russian oil giant Yu...</td>\n",
       "      <td>business</td>\n",
       "    </tr>\n",
       "    <tr>\n",
       "      <th>4</th>\n",
       "      <td>High fuel prices hit BA's profits</td>\n",
       "      <td>British Airways has blamed high fuel prices ...</td>\n",
       "      <td>business</td>\n",
       "    </tr>\n",
       "  </tbody>\n",
       "</table>\n",
       "</div>"
      ],
      "text/plain": [
       "                               title  \\\n",
       "1  Ad sales boost Time Warner profit   \n",
       "2   Dollar gains on Greenspan speech   \n",
       "3  Yukos unit buyer faces loan claim   \n",
       "4  High fuel prices hit BA's profits   \n",
       "\n",
       "                                                text     label  \n",
       "1    Quarterly profits at US media giant TimeWarn...  business  \n",
       "2    The dollar has hit its highest level against...  business  \n",
       "3    The owners of embattled Russian oil giant Yu...  business  \n",
       "4    British Airways has blamed high fuel prices ...  business  "
      ]
     },
     "execution_count": 31,
     "metadata": {},
     "output_type": "execute_result"
    }
   ],
   "source": [
    "data = data.drop(0,axis=0)\n",
    "data.head(4)"
   ]
  },
  {
   "cell_type": "code",
   "execution_count": 33,
   "metadata": {},
   "outputs": [
    {
     "data": {
      "text/plain": [
       "<matplotlib.axes._subplots.AxesSubplot at 0x9bcdef0>"
      ]
     },
     "execution_count": 33,
     "metadata": {},
     "output_type": "execute_result"
    },
    {
     "data": {
      "image/png": "[encoded data removed]",
      "text/plain": [
       "<Figure size 432x288 with 1 Axes>"
      ]
     },
     "metadata": {
      "needs_background": "light"
     },
     "output_type": "display_data"
    }
   ],
   "source": [
    "sns.countplot(data['label'])"
   ]
  },
  {
   "cell_type": "code",
   "execution_count": 36,
   "metadata": {},
   "outputs": [
    {
     "data": {
      "text/plain": [
       "sport            511\n",
       "business         510\n",
       "politics         417\n",
       "tech             401\n",
       "entertainment    386\n",
       "Name: label, dtype: int64"
      ]
     },
     "execution_count": 36,
     "metadata": {},
     "output_type": "execute_result"
    }
   ],
   "source": [
    "data['label'].value_counts()"
   ]
  },
  {
   "cell_type": "code",
   "execution_count": 37,
   "metadata": {},
   "outputs": [
    {
     "data": {
      "image/png": "[encoded data removed]",
      "text/plain": [
       "<Figure size 504x504 with 1 Axes>"
      ]
     },
     "metadata": {},
     "output_type": "display_data"
    }
   ],
   "source": [
    "import matplotlib.pyplot as plt\n",
    "import seaborn as sns\n",
    "sns.set(style=\"darkgrid\")\n",
    "f, axes = plt.subplots(1, 1, figsize=(7, 7), sharex=True)\n",
    "sns.despine(right=True)\n",
    "\n",
    "col_count_2 = data['label'].value_counts()\n",
    "sns.set(style=\"darkgrid\")\n",
    "\n",
    "sns.barplot(col_count_2.index, col_count_2.values, alpha=0.9)\n",
    "\n",
    "plt.title('Frequency Distribution of Topics', fontsize=13)\n",
    "plt.ylabel('Number of Occurrences', fontsize=13)\n",
    "plt.xlabel('Topics', fontsize=13)\n",
    "\n",
    "plt.xticks(rotation=70, fontsize=13)\n",
    "\n",
    "plt.setp(axes, yticks=[])\n",
    "\n",
    "plt.tight_layout()\n",
    "plt.show()"
   ]
  },
  {
   "cell_type": "markdown",
   "metadata": {},
   "source": [
    "# Tokanization\n",
    "converting the text(sentence) into words (tokens) and its frequencies is called..."
   ]
  },
  {
   "cell_type": "code",
   "execution_count": 41,
   "metadata": {},
   "outputs": [
    {
     "name": "stdout",
     "output_type": "stream",
     "text": [
      "[('the', 44432), ('to', 24460), ('of', 19756), ('and', 17867), ('a', 17115), ('in', 16316), ('', 13187), ('is', 8427), ('for', 8424), ('that', 7528), ('The', 7182), ('on', 7019), ('was', 5990), ('be', 5718), ('with', 5071), ('has', 4931), ('said', 4899), ('it', 4857), ('have', 4716), ('as', 4628)]\n"
     ]
    },
    {
     "data": {
      "text/plain": [
       "64779"
      ]
     },
     "execution_count": 41,
     "metadata": {},
     "output_type": "execute_result"
    }
   ],
   "source": [
    "from collections import Counter\n",
    "\n",
    "text_freq = Counter()\n",
    "#converting text to frequencies\n",
    "for text in data['text']:\n",
    "    t = text.split(' ')\n",
    "    for token in t:\n",
    "        text_freq[token]+=1\n",
    "print(text_freq.most_common(20))\n",
    "len(text_freq) # there are 64779 diffrent tokens "
   ]
  },
  {
   "cell_type": "code",
   "execution_count": 43,
   "metadata": {},
   "outputs": [
    {
     "name": "stdout",
     "output_type": "stream",
     "text": [
      "Collecting wordcloud\n",
      "  Downloading wordcloud-1.8.1-cp37-cp37m-win_amd64.whl (154 kB)\n",
      "Requirement already satisfied: matplotlib in e:\\python3_7_6\\installed files\\lib\\site-packages (from wordcloud) (3.3.3)\n",
      "Requirement already satisfied: numpy>=1.6.1 in e:\\python3_7_6\\installed files\\lib\\site-packages (from wordcloud) (1.18.4)\n",
      "Requirement already satisfied: pillow in e:\\python3_7_6\\installed files\\lib\\site-packages (from wordcloud) (7.0.0)\n",
      "Requirement already satisfied: pyparsing!=2.0.4,!=2.1.2,!=2.1.6,>=2.0.3 in e:\\python3_7_6\\installed files\\lib\\site-packages (from matplotlib->wordcloud) (2.4.6)\n",
      "Requirement already satisfied: cycler>=0.10 in e:\\python3_7_6\\installed files\\lib\\site-packages (from matplotlib->wordcloud) (0.10.0)\n",
      "Requirement already satisfied: python-dateutil>=2.1 in e:\\python3_7_6\\installed files\\lib\\site-packages (from matplotlib->wordcloud) (2.8.1)\n",
      "Requirement already satisfied: kiwisolver>=1.0.1 in e:\\python3_7_6\\installed files\\lib\\site-packages (from matplotlib->wordcloud) (1.3.1)\n",
      "Requirement already satisfied: six in e:\\python3_7_6\\installed files\\lib\\site-packages (from cycler>=0.10->matplotlib->wordcloud) (1.15.0)\n",
      "Installing collected packages: wordcloud\n",
      "Successfully installed wordcloud-1.8.1\n"
     ]
    }
   ],
   "source": [
    "!pip install wordcloud"
   ]
  },
  {
   "cell_type": "code",
   "execution_count": 44,
   "metadata": {},
   "outputs": [
    {
     "ename": "ModuleNotFoundError",
     "evalue": "No module named 'wordcloud'",
     "output_type": "error",
     "traceback": [
      "\u001b[1;31m---------------------------------------------------------------------------\u001b[0m",
      "\u001b[1;31mModuleNotFoundError\u001b[0m                       Traceback (most recent call last)",
      "\u001b[1;32m<ipython-input-44-7e3986f6f427>\u001b[0m in \u001b[0;36m<module>\u001b[1;34m\u001b[0m\n\u001b[1;32m----> 1\u001b[1;33m \u001b[1;32mfrom\u001b[0m \u001b[0mwordcloud\u001b[0m \u001b[1;32mimport\u001b[0m \u001b[0mWordCloud\u001b[0m\u001b[1;33m\u001b[0m\u001b[1;33m\u001b[0m\u001b[0m\n\u001b[0m\u001b[0;32m      2\u001b[0m \u001b[1;33m\u001b[0m\u001b[0m\n\u001b[0;32m      3\u001b[0m \u001b[1;31m#creat a wordcloud plot that shows the word frequncies\u001b[0m\u001b[1;33m\u001b[0m\u001b[1;33m\u001b[0m\u001b[1;33m\u001b[0m\u001b[0m\n\u001b[0;32m      4\u001b[0m \u001b[0mcloud\u001b[0m \u001b[1;33m=\u001b[0m \u001b[0mWorldCloud\u001b[0m\u001b[1;33m(\u001b[0m\u001b[0mbackgroud_color\u001b[0m \u001b[1;33m=\u001b[0m \u001b[1;34m'white'\u001b[0m\u001b[1;33m,\u001b[0m\u001b[1;33m)\u001b[0m\u001b[1;33m.\u001b[0m\u001b[0mgenerate_from_frequencies\u001b[0m\u001b[1;33m(\u001b[0m\u001b[0mtext_freq\u001b[0m\u001b[1;33m)\u001b[0m\u001b[1;33m\u001b[0m\u001b[1;33m\u001b[0m\u001b[0m\n\u001b[0;32m      5\u001b[0m \u001b[0mplt\u001b[0m\u001b[1;33m.\u001b[0m\u001b[0mimshow\u001b[0m\u001b[1;33m(\u001b[0m\u001b[0mcloud\u001b[0m\u001b[1;33m)\u001b[0m\u001b[1;33m\u001b[0m\u001b[1;33m\u001b[0m\u001b[0m\n",
      "\u001b[1;31mModuleNotFoundError\u001b[0m: No module named 'wordcloud'"
     ]
    }
   ],
   "source": [
    "from wordcloud import WordCloud\n",
    "\n",
    "#creat a wordcloud plot that shows the word frequncies\n",
    "cloud = WorldCloud(backgroud_color = 'white',).generate_from_frequencies(text_freq)\n",
    "plt.imshow(cloud)\n",
    "plt.show()"
   ]
  },
  {
   "cell_type": "markdown",
   "metadata": {},
   "source": [
    "## Advanced tokenizers"
   ]
  },
  {
   "cell_type": "code",
   "execution_count": 50,
   "metadata": {},
   "outputs": [
    {
     "data": {
      "text/plain": [
       "['Do', \"n't\", 'ca', \"n't\", 'make', 'it', 'run', 'ran', 'running', 'help', 'to']"
      ]
     },
     "execution_count": 50,
     "metadata": {},
     "output_type": "execute_result"
    }
   ],
   "source": [
    "#first use the tokenizer in the nltk library\n",
    "from nltk.tokenize import TreebankWordTokenizer\n",
    "\n",
    "sample = \" Don't can't make it run ran running help to\"\n",
    "tokenizer = TreebankWordTokenizer()\n",
    "result = tokenizer.tokenize(sample)\n",
    "result"
   ]
  },
  {
   "cell_type": "code",
   "execution_count": 51,
   "metadata": {},
   "outputs": [
    {
     "ename": "ModuleNotFoundError",
     "evalue": "No module named 'spacy'",
     "output_type": "error",
     "traceback": [
      "\u001b[1;31m---------------------------------------------------------------------------\u001b[0m",
      "\u001b[1;31mModuleNotFoundError\u001b[0m                       Traceback (most recent call last)",
      "\u001b[1;32m<ipython-input-51-d56d60b76a8e>\u001b[0m in \u001b[0;36m<module>\u001b[1;34m\u001b[0m\n\u001b[0;32m      1\u001b[0m \u001b[1;31m# the spacy tokenizer works like the same\u001b[0m\u001b[1;33m\u001b[0m\u001b[1;33m\u001b[0m\u001b[1;33m\u001b[0m\u001b[0m\n\u001b[1;32m----> 2\u001b[1;33m \u001b[1;32mimport\u001b[0m \u001b[0mspacy\u001b[0m\u001b[1;33m\u001b[0m\u001b[1;33m\u001b[0m\u001b[0m\n\u001b[0m",
      "\u001b[1;31mModuleNotFoundError\u001b[0m: No module named 'spacy'"
     ]
    }
   ],
   "source": [
    "# the spacy tokenizer works like the same\n",
    "import spacy"
   ]
  },
  {
   "cell_type": "code",
   "execution_count": null,
   "metadata": {},
   "outputs": [],
   "source": []
  }
 ],
 "metadata": {
  "kernelspec": {
   "display_name": "Python 3",
   "language": "python",
   "name": "python3"
  },
  "language_info": {
   "codemirror_mode": {
    "name": "ipython",
    "version": 3
   },
   "file_extension": ".py",
   "mimetype": "text/x-python",
   "name": "python",
   "nbconvert_exporter": "python",
   "pygments_lexer": "ipython3",
   "version": "3.7.6"
  }
 },
 "nbformat": 4,
 "nbformat_minor": 4
}

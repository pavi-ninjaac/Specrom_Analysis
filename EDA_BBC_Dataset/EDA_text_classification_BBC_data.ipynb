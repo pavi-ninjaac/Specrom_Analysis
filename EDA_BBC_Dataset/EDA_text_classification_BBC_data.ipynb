{
 "cells": [
  {
   "cell_type": "markdown",
   "metadata": {},
   "source": [
    "# Expotary data Analysis for NLP "
   ]
  },
  {
   "cell_type": "code",
   "execution_count": 10,
   "metadata": {},
   "outputs": [],
   "source": [
    "import pandas as pd\n",
    "import numpy as np\n",
    "import os\n",
    "import time\n",
    "import json\n"
   ]
  },
  {
   "cell_type": "code",
   "execution_count": 23,
   "metadata": {
    "scrolled": true
   },
   "outputs": [
    {
     "name": "stdout",
     "output_type": "stream",
     "text": [
      "Files extracted Successfully!!!!!!!!-----> README.TXT\n",
      "Files extracted Successfully!!!!!!!!-----> 510.txt\n",
      "Files extracted Successfully!!!!!!!!-----> 386.txt\n",
      "Files extracted Successfully!!!!!!!!-----> 417.txt\n",
      "Files extracted Successfully!!!!!!!!-----> 511.txt\n",
      "Files extracted Successfully!!!!!!!!-----> 401.txt\n",
      "DataFrame created !!!!\n",
      "csv file stored on the specified location\n"
     ]
    }
   ],
   "source": [
    "path_folder = r'F:\\Specrom_Analysis\\NLP\\EDA_BBC_Data_textcallsi\\bbc-fulltext\\bbc'\n",
    "\n",
    "# change the all directory in that folder to a dataframe to classfication task\n",
    "directory,files,title,text,label = [],[],[],[],[]\n",
    "\n",
    "for dir_name ,directory2 ,  files in os.walk(path_folder):\n",
    "    for file in files:\n",
    "        #directory.append(dir_name)\n",
    "        #files.append(file)\n",
    "        label.append(dir_name.split('\\\\')[-1]) #looks like this 'F:\\\\Specrom_Analysis\\\\NLP\\\\EDA_BBC_Data_textcallsi\\\\bbc-fulltext\\\\bbc\\\\politics',\n",
    "        full_path = os.path.join(dir_name , file)\n",
    "        #print(full_path)\n",
    "        \n",
    "        with open(full_path , 'r', encoding=\"utf8\", errors='ignore') as f :\n",
    "            text_con = ''\n",
    "            firts_line = True\n",
    "            for line in f:\n",
    "                if firts_line:\n",
    "                    title.append(line.replace('\\n',''))\n",
    "                    firts_line = False\n",
    "                else:\n",
    "                    text_con = text_con + ' ' + line.replace('\\n','')\n",
    "            text.append(text_con)\n",
    "            \n",
    "    print(\"Files extracted Successfully!!!!!!!!----->\",file)\n",
    "    \n",
    "    \n",
    "df = pd.DataFrame({'title':title , 'text' : text , 'label' : label})\n",
    "print(\"DataFrame created !!!!\")\n",
    "df.to_csv(r\"F:\\Specrom_Analysis\\NLP\\EDA_BBC_Data_textcallsi\\bbc-fulltext\\bbc\\bbc_news_data.csv\")\n",
    "print(\"csv file stored on the specified location\")\n"
   ]
  },
  {
   "cell_type": "code",
   "execution_count": null,
   "metadata": {},
   "outputs": [],
   "source": []
  }
 ],
 "metadata": {
  "kernelspec": {
   "display_name": "Python 3",
   "language": "python",
   "name": "python3"
  },
  "language_info": {
   "codemirror_mode": {
    "name": "ipython",
    "version": 3
   },
   "file_extension": ".py",
   "mimetype": "text/x-python",
   "name": "python",
   "nbconvert_exporter": "python",
   "pygments_lexer": "ipython3",
   "version": "3.7.6"
  }
 },
 "nbformat": 4,
 "nbformat_minor": 4
}

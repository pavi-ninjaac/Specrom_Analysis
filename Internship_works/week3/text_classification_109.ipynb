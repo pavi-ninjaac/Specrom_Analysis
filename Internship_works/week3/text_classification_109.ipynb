{
  "nbformat": 4,
  "nbformat_minor": 0,
  "metadata": {
    "colab": {
      "name": "text_classification_109.ipynb",
      "provenance": [],
      "mount_file_id": "16_WhmHZ1sFycksezzQm97yYlFYxEGI-3",
      "authorship_tag": "ABX9TyPX6WnQmUHBGYBrQpcAJXsQ",
      "include_colab_link": true
    },
    "kernelspec": {
      "name": "python3",
      "display_name": "Python 3"
    }
  },
  "cells": [
    {
      "cell_type": "markdown",
      "metadata": {
        "id": "view-in-github",
        "colab_type": "text"
      },
      "source": [
        "<a href=\"https://colab.research.google.com/github/pavi-ninjaac/Specrom_Analysis/blob/main/Internship_works/week3/text_classification_109.ipynb\" target=\"_parent\"><img src=\"https://colab.research.google.com/assets/colab-badge.svg\" alt=\"Open In Colab\"/></a>"
      ]
    },
    {
      "cell_type": "code",
      "metadata": {
        "id": "YtOPd0VM85pS"
      },
      "source": [
        "#get the libraries\r\n",
        "import numpy as np\r\n",
        "import pandas as pd\r\n",
        "import matplotlib.pyplot as plt\r\n",
        "import re\r\n",
        "\r\n",
        "#sklearn functions\r\n",
        "from sklearn.model_selection import  train_test_split\r\n",
        "from sklearn.preprocessing import LabelEncoder\r\n",
        "from sklearn.utils import shuffle\r\n",
        "\r\n",
        "#sklearn vectorization packages\r\n",
        "from sklearn.feature_extraction.text import TfidfVectorizer\r\n",
        "\r\n",
        "#sklearn models\r\n",
        "from sklearn.linear_model import LogisticRegression\r\n",
        "\r\n",
        "#sklearn evaluation metrics\r\n",
        "from sklearn.metrics import f1_score,accuracy_score,precision_score,recall_score"
      ],
      "execution_count": 34,
      "outputs": []
    },
    {
      "cell_type": "code",
      "metadata": {
        "colab": {
          "base_uri": "https://localhost:8080/",
          "height": 325
        },
        "id": "ziwndVPd9ktp",
        "outputId": "346ee016-8f9a-4bcb-f0ca-3441a83ca7c0"
      },
      "source": [
        "data = pd.read_csv('/content/drive/MyDrive/Colab Notebooks/dataFiles/Text_classification_news_article/rishika_csv_different_computer_with_iptc.csv',index_col=0)\r\n",
        "\r\n",
        "shape = data.shape\r\n",
        "columns = list(data.columns)\r\n",
        "\r\n",
        "print(\"the shape of the dataset is--->\",shape)\r\n",
        "print('The features are-------------->',columns)\r\n",
        "\r\n",
        "data.head(4)\r\n"
      ],
      "execution_count": 2,
      "outputs": [
        {
          "output_type": "stream",
          "text": [
            "the shape of the dataset is---> (10761, 8)\n",
            "The features are--------------> ['position', 'query', 'url', 'title', 'snippet', 'combined_text', 'level1_labels', 'level2_labels']\n"
          ],
          "name": "stdout"
        },
        {
          "output_type": "execute_result",
          "data": {
            "text/html": [
              "<div>\n",
              "<style scoped>\n",
              "    .dataframe tbody tr th:only-of-type {\n",
              "        vertical-align: middle;\n",
              "    }\n",
              "\n",
              "    .dataframe tbody tr th {\n",
              "        vertical-align: top;\n",
              "    }\n",
              "\n",
              "    .dataframe thead th {\n",
              "        text-align: right;\n",
              "    }\n",
              "</style>\n",
              "<table border=\"1\" class=\"dataframe\">\n",
              "  <thead>\n",
              "    <tr style=\"text-align: right;\">\n",
              "      <th></th>\n",
              "      <th>position</th>\n",
              "      <th>query</th>\n",
              "      <th>url</th>\n",
              "      <th>title</th>\n",
              "      <th>snippet</th>\n",
              "      <th>combined_text</th>\n",
              "      <th>level1_labels</th>\n",
              "      <th>level2_labels</th>\n",
              "    </tr>\n",
              "  </thead>\n",
              "  <tbody>\n",
              "    <tr>\n",
              "      <th>0</th>\n",
              "      <td>1</td>\n",
              "      <td>arts, culture, entertainment and media</td>\n",
              "      <td>https://www.bbc.com/news/entertainment_and_arts</td>\n",
              "      <td>Entertainment &amp; Arts - BBC News</td>\n",
              "      <td>Get the latest BBC Entertainment and Arts news...</td>\n",
              "      <td>Entertainment &amp; Arts - BBC News Get the latest...</td>\n",
              "      <td>arts, culture, entertainment and media</td>\n",
              "      <td>NaN</td>\n",
              "    </tr>\n",
              "    <tr>\n",
              "      <th>1</th>\n",
              "      <td>2</td>\n",
              "      <td>arts, culture, entertainment and media</td>\n",
              "      <td>https://www.champaigncounty.org/list/ql/arts-c...</td>\n",
              "      <td>Arts, Culture &amp; Entertainment | Champaign Coun...</td>\n",
              "      <td>Champaign County Chamber of Commerce - IL 303 ...</td>\n",
              "      <td>Arts, Culture &amp; Entertainment | Champaign Coun...</td>\n",
              "      <td>arts, culture, entertainment and media</td>\n",
              "      <td>NaN</td>\n",
              "    </tr>\n",
              "    <tr>\n",
              "      <th>2</th>\n",
              "      <td>3</td>\n",
              "      <td>arts, culture, entertainment and media</td>\n",
              "      <td>https://www.bls.gov/oes/current/oes270000.htm</td>\n",
              "      <td>Arts, Design, Entertainment, Sports, and Media...</td>\n",
              "      <td>27-0000 Arts, Design, Entertainment, Sports, a...</td>\n",
              "      <td>Arts, Design, Entertainment, Sports, and Media...</td>\n",
              "      <td>arts, culture, entertainment and media</td>\n",
              "      <td>NaN</td>\n",
              "    </tr>\n",
              "    <tr>\n",
              "      <th>3</th>\n",
              "      <td>4</td>\n",
              "      <td>arts, culture, entertainment and media</td>\n",
              "      <td>https://www.smc.edu/academics/areas-of-interes...</td>\n",
              "      <td>Arts, Media, &amp; Entertainment - Santa Monica Co...</td>\n",
              "      <td>Let your imagination run wild and free — explo...</td>\n",
              "      <td>Arts, Media, &amp; Entertainment - Santa Monica Co...</td>\n",
              "      <td>arts, culture, entertainment and media</td>\n",
              "      <td>NaN</td>\n",
              "    </tr>\n",
              "  </tbody>\n",
              "</table>\n",
              "</div>"
            ],
            "text/plain": [
              "   position  ... level2_labels\n",
              "0         1  ...           NaN\n",
              "1         2  ...           NaN\n",
              "2         3  ...           NaN\n",
              "3         4  ...           NaN\n",
              "\n",
              "[4 rows x 8 columns]"
            ]
          },
          "metadata": {
            "tags": []
          },
          "execution_count": 2
        }
      ]
    },
    {
      "cell_type": "code",
      "metadata": {
        "colab": {
          "base_uri": "https://localhost:8080/"
        },
        "id": "o6vxKuLt99xF",
        "outputId": "df78f294-813f-476d-e396-345ea0d00128"
      },
      "source": [
        "print(\"The nunber of category----------->\",data['level1_labels'].nunique())\r\n",
        "print(\"The nunber of second category---->\",data['level2_labels'].nunique())"
      ],
      "execution_count": 3,
      "outputs": [
        {
          "output_type": "stream",
          "text": [
            "The nunber of category-----------> 17\n",
            "The nunber of second category----> 109\n"
          ],
          "name": "stdout"
        }
      ]
    },
    {
      "cell_type": "code",
      "metadata": {
        "colab": {
          "base_uri": "https://localhost:8080/"
        },
        "id": "8bjdxoJl-OFH",
        "outputId": "6228b746-8fb8-4fe1-c3f2-6a7cf8598cf2"
      },
      "source": [
        "print(\"The nunber of quieries---->\",data['query'].nunique())"
      ],
      "execution_count": 4,
      "outputs": [
        {
          "output_type": "stream",
          "text": [
            "The nunber of quieries----> 1296\n"
          ],
          "name": "stdout"
        }
      ]
    },
    {
      "cell_type": "code",
      "metadata": {
        "colab": {
          "base_uri": "https://localhost:8080/"
        },
        "id": "p0DnndimAUbd",
        "outputId": "edf9afdc-574f-4e85-fc3a-dab6a05d8d42"
      },
      "source": [
        "data['position'].unique()"
      ],
      "execution_count": 5,
      "outputs": [
        {
          "output_type": "execute_result",
          "data": {
            "text/plain": [
              "array([ 1,  2,  3,  4,  5,  6,  7,  8,  9, 10])"
            ]
          },
          "metadata": {
            "tags": []
          },
          "execution_count": 5
        }
      ]
    },
    {
      "cell_type": "code",
      "metadata": {
        "colab": {
          "base_uri": "https://localhost:8080/",
          "height": 162
        },
        "id": "zhuGnZKzDFw7",
        "outputId": "016e365a-f298-477c-8881-b4caa029abc0"
      },
      "source": [
        "needed_columns = ['combined_text','query','level1_labels','level2_labels']\r\n",
        "data = data[needed_columns].copy()\r\n",
        "data.head(4)"
      ],
      "execution_count": 6,
      "outputs": [
        {
          "output_type": "execute_result",
          "data": {
            "text/html": [
              "<div>\n",
              "<style scoped>\n",
              "    .dataframe tbody tr th:only-of-type {\n",
              "        vertical-align: middle;\n",
              "    }\n",
              "\n",
              "    .dataframe tbody tr th {\n",
              "        vertical-align: top;\n",
              "    }\n",
              "\n",
              "    .dataframe thead th {\n",
              "        text-align: right;\n",
              "    }\n",
              "</style>\n",
              "<table border=\"1\" class=\"dataframe\">\n",
              "  <thead>\n",
              "    <tr style=\"text-align: right;\">\n",
              "      <th></th>\n",
              "      <th>combined_text</th>\n",
              "      <th>query</th>\n",
              "      <th>level1_labels</th>\n",
              "      <th>level2_labels</th>\n",
              "    </tr>\n",
              "  </thead>\n",
              "  <tbody>\n",
              "    <tr>\n",
              "      <th>0</th>\n",
              "      <td>Entertainment &amp; Arts - BBC News Get the latest...</td>\n",
              "      <td>arts, culture, entertainment and media</td>\n",
              "      <td>arts, culture, entertainment and media</td>\n",
              "      <td>NaN</td>\n",
              "    </tr>\n",
              "    <tr>\n",
              "      <th>1</th>\n",
              "      <td>Arts, Culture &amp; Entertainment | Champaign Coun...</td>\n",
              "      <td>arts, culture, entertainment and media</td>\n",
              "      <td>arts, culture, entertainment and media</td>\n",
              "      <td>NaN</td>\n",
              "    </tr>\n",
              "    <tr>\n",
              "      <th>2</th>\n",
              "      <td>Arts, Design, Entertainment, Sports, and Media...</td>\n",
              "      <td>arts, culture, entertainment and media</td>\n",
              "      <td>arts, culture, entertainment and media</td>\n",
              "      <td>NaN</td>\n",
              "    </tr>\n",
              "    <tr>\n",
              "      <th>3</th>\n",
              "      <td>Arts, Media, &amp; Entertainment - Santa Monica Co...</td>\n",
              "      <td>arts, culture, entertainment and media</td>\n",
              "      <td>arts, culture, entertainment and media</td>\n",
              "      <td>NaN</td>\n",
              "    </tr>\n",
              "  </tbody>\n",
              "</table>\n",
              "</div>"
            ],
            "text/plain": [
              "                                       combined_text  ... level2_labels\n",
              "0  Entertainment & Arts - BBC News Get the latest...  ...           NaN\n",
              "1  Arts, Culture & Entertainment | Champaign Coun...  ...           NaN\n",
              "2  Arts, Design, Entertainment, Sports, and Media...  ...           NaN\n",
              "3  Arts, Media, & Entertainment - Santa Monica Co...  ...           NaN\n",
              "\n",
              "[4 rows x 4 columns]"
            ]
          },
          "metadata": {
            "tags": []
          },
          "execution_count": 6
        }
      ]
    },
    {
      "cell_type": "markdown",
      "metadata": {
        "id": "2izCg83QIjX-"
      },
      "source": [
        "# Handling dublicate values"
      ]
    },
    {
      "cell_type": "code",
      "metadata": {
        "colab": {
          "base_uri": "https://localhost:8080/"
        },
        "id": "RvHs2z_oIA4D",
        "outputId": "bdbb71cf-089a-402e-d8c8-11900d252b00"
      },
      "source": [
        "#delete the dublicate values\r\n",
        "data.duplicated().sum() # count the total duplicate samples"
      ],
      "execution_count": 7,
      "outputs": [
        {
          "output_type": "execute_result",
          "data": {
            "text/plain": [
              "362"
            ]
          },
          "metadata": {
            "tags": []
          },
          "execution_count": 7
        }
      ]
    },
    {
      "cell_type": "code",
      "metadata": {
        "id": "uXnm45LUIGP5"
      },
      "source": [
        "data.drop_duplicates(keep='last',inplace=True)"
      ],
      "execution_count": 8,
      "outputs": []
    },
    {
      "cell_type": "code",
      "metadata": {
        "colab": {
          "base_uri": "https://localhost:8080/"
        },
        "id": "I5DClpvOIKgR",
        "outputId": "fe1125cc-7039-4cf7-883f-8bc958c16014"
      },
      "source": [
        "\r\n",
        "#there can be dublicate of author names so check for the dublicate headline and short discription\r\n",
        "data.duplicated(subset=[ 'combined_text']).sum()"
      ],
      "execution_count": 9,
      "outputs": [
        {
          "output_type": "execute_result",
          "data": {
            "text/plain": [
              "751"
            ]
          },
          "metadata": {
            "tags": []
          },
          "execution_count": 9
        }
      ]
    },
    {
      "cell_type": "code",
      "metadata": {
        "id": "RZDo1KILIQ7y"
      },
      "source": [
        "data.drop_duplicates(subset='combined_text' , keep ='last' , inplace=True)"
      ],
      "execution_count": 10,
      "outputs": []
    },
    {
      "cell_type": "code",
      "metadata": {
        "colab": {
          "base_uri": "https://localhost:8080/"
        },
        "id": "Ot9SYJHrIfl6",
        "outputId": "2c67f7c1-1af1-45c4-90b7-5963df7003c9"
      },
      "source": [
        "print(\"THe length of the datset after dublicate deletion------>\",data.shape)"
      ],
      "execution_count": 11,
      "outputs": [
        {
          "output_type": "stream",
          "text": [
            "THe length of the datset after dublicate deletion------> (9648, 4)\n"
          ],
          "name": "stdout"
        }
      ]
    },
    {
      "cell_type": "markdown",
      "metadata": {
        "id": "uvDauMSAIruC"
      },
      "source": [
        "# Handling null values"
      ]
    },
    {
      "cell_type": "code",
      "metadata": {
        "colab": {
          "base_uri": "https://localhost:8080/"
        },
        "id": "nyqV9PfmIqnM",
        "outputId": "f0dcc320-7432-47b5-f44f-47e7696366e3"
      },
      "source": [
        "data.isnull().sum()"
      ],
      "execution_count": 12,
      "outputs": [
        {
          "output_type": "execute_result",
          "data": {
            "text/plain": [
              "combined_text      1\n",
              "query              0\n",
              "level1_labels      0\n",
              "level2_labels    133\n",
              "dtype: int64"
            ]
          },
          "metadata": {
            "tags": []
          },
          "execution_count": 12
        }
      ]
    },
    {
      "cell_type": "code",
      "metadata": {
        "id": "DFQ1LNfBIzqb"
      },
      "source": [
        "data.dropna(axis=0 ,inplace=True , how='any')"
      ],
      "execution_count": 13,
      "outputs": []
    },
    {
      "cell_type": "code",
      "metadata": {
        "colab": {
          "base_uri": "https://localhost:8080/"
        },
        "id": "xnBqc7tDI97_",
        "outputId": "2ecfbf95-9453-4700-d909-897bd3bc2a99"
      },
      "source": [
        "print(\"THe length of the datset after null values deletion------>\",data.shape)"
      ],
      "execution_count": 14,
      "outputs": [
        {
          "output_type": "stream",
          "text": [
            "THe length of the datset after null values deletion------> (9514, 4)\n"
          ],
          "name": "stdout"
        }
      ]
    },
    {
      "cell_type": "code",
      "metadata": {
        "colab": {
          "base_uri": "https://localhost:8080/",
          "height": 162
        },
        "id": "Tl2hhA7LJFz5",
        "outputId": "9a274aac-a7c0-4f43-83c6-34dea8022457"
      },
      "source": [
        "data[data['combined_text'] == ' ']\r\n",
        "data = data.reset_index()\r\n",
        "data = data.drop('index',axis=1)\r\n",
        "data.head(4)"
      ],
      "execution_count": 15,
      "outputs": [
        {
          "output_type": "execute_result",
          "data": {
            "text/html": [
              "<div>\n",
              "<style scoped>\n",
              "    .dataframe tbody tr th:only-of-type {\n",
              "        vertical-align: middle;\n",
              "    }\n",
              "\n",
              "    .dataframe tbody tr th {\n",
              "        vertical-align: top;\n",
              "    }\n",
              "\n",
              "    .dataframe thead th {\n",
              "        text-align: right;\n",
              "    }\n",
              "</style>\n",
              "<table border=\"1\" class=\"dataframe\">\n",
              "  <thead>\n",
              "    <tr style=\"text-align: right;\">\n",
              "      <th></th>\n",
              "      <th>combined_text</th>\n",
              "      <th>query</th>\n",
              "      <th>level1_labels</th>\n",
              "      <th>level2_labels</th>\n",
              "    </tr>\n",
              "  </thead>\n",
              "  <tbody>\n",
              "    <tr>\n",
              "      <th>0</th>\n",
              "      <td>A&amp;E | Watch Full Episodes of Your Favorite Sho...</td>\n",
              "      <td>arts and entertainment</td>\n",
              "      <td>arts, culture, entertainment and media</td>\n",
              "      <td>arts and entertainment</td>\n",
              "    </tr>\n",
              "    <tr>\n",
              "      <th>1</th>\n",
              "      <td>A&amp;E TV Shows | A&amp;E Check out A&amp;E's shows lineu...</td>\n",
              "      <td>arts and entertainment</td>\n",
              "      <td>arts, culture, entertainment and media</td>\n",
              "      <td>arts and entertainment</td>\n",
              "    </tr>\n",
              "    <tr>\n",
              "      <th>2</th>\n",
              "      <td>Entertainment &amp; Arts - BBC News Get the latest...</td>\n",
              "      <td>arts and entertainment</td>\n",
              "      <td>arts, culture, entertainment and media</td>\n",
              "      <td>arts and entertainment</td>\n",
              "    </tr>\n",
              "    <tr>\n",
              "      <th>3</th>\n",
              "      <td>Arts &amp; Entertainment | news-gazette.com  · Clo...</td>\n",
              "      <td>arts and entertainment</td>\n",
              "      <td>arts, culture, entertainment and media</td>\n",
              "      <td>arts and entertainment</td>\n",
              "    </tr>\n",
              "  </tbody>\n",
              "</table>\n",
              "</div>"
            ],
            "text/plain": [
              "                                       combined_text  ...           level2_labels\n",
              "0  A&E | Watch Full Episodes of Your Favorite Sho...  ...  arts and entertainment\n",
              "1  A&E TV Shows | A&E Check out A&E's shows lineu...  ...  arts and entertainment\n",
              "2  Entertainment & Arts - BBC News Get the latest...  ...  arts and entertainment\n",
              "3  Arts & Entertainment | news-gazette.com  · Clo...  ...  arts and entertainment\n",
              "\n",
              "[4 rows x 4 columns]"
            ]
          },
          "metadata": {
            "tags": []
          },
          "execution_count": 15
        }
      ]
    },
    {
      "cell_type": "markdown",
      "metadata": {
        "id": "QaAKcrwCKgvY"
      },
      "source": [
        "# Cleaning the combined text"
      ]
    },
    {
      "cell_type": "code",
      "metadata": {
        "colab": {
          "base_uri": "https://localhost:8080/",
          "height": 162
        },
        "id": "CQemyRueKf4k",
        "outputId": "2d70eec3-2e98-4460-c853-766e0233732f"
      },
      "source": [
        "def preprocessor_text(text):\r\n",
        "    if isinstance((text), (str)):\r\n",
        "        text = re.sub('<[^>]*>', ' ', text)\r\n",
        "        text = re.sub('[\\W]+', ' ', text.lower())\r\n",
        "        return text\r\n",
        "    if isinstance((text), (list)):\r\n",
        "        return_list = []\r\n",
        "        for i in range(len(text)):\r\n",
        "            temp_text = re.sub('<[^>]*>', '', text[i])\r\n",
        "            temp_text = re.sub('[\\W]+', '', temp_text.lower())\r\n",
        "            return_list.append(temp_text)\r\n",
        "        return(return_list)\r\n",
        "\r\n",
        "data['combined_text'] = data['combined_text'].apply(preprocessor_text)\r\n",
        "\r\n",
        "data.head(4)"
      ],
      "execution_count": 16,
      "outputs": [
        {
          "output_type": "execute_result",
          "data": {
            "text/html": [
              "<div>\n",
              "<style scoped>\n",
              "    .dataframe tbody tr th:only-of-type {\n",
              "        vertical-align: middle;\n",
              "    }\n",
              "\n",
              "    .dataframe tbody tr th {\n",
              "        vertical-align: top;\n",
              "    }\n",
              "\n",
              "    .dataframe thead th {\n",
              "        text-align: right;\n",
              "    }\n",
              "</style>\n",
              "<table border=\"1\" class=\"dataframe\">\n",
              "  <thead>\n",
              "    <tr style=\"text-align: right;\">\n",
              "      <th></th>\n",
              "      <th>combined_text</th>\n",
              "      <th>query</th>\n",
              "      <th>level1_labels</th>\n",
              "      <th>level2_labels</th>\n",
              "    </tr>\n",
              "  </thead>\n",
              "  <tbody>\n",
              "    <tr>\n",
              "      <th>0</th>\n",
              "      <td>a e watch full episodes of your favorite shows...</td>\n",
              "      <td>arts and entertainment</td>\n",
              "      <td>arts, culture, entertainment and media</td>\n",
              "      <td>arts and entertainment</td>\n",
              "    </tr>\n",
              "    <tr>\n",
              "      <th>1</th>\n",
              "      <td>a e tv shows a e check out a e s shows lineup ...</td>\n",
              "      <td>arts and entertainment</td>\n",
              "      <td>arts, culture, entertainment and media</td>\n",
              "      <td>arts and entertainment</td>\n",
              "    </tr>\n",
              "    <tr>\n",
              "      <th>2</th>\n",
              "      <td>entertainment arts bbc news get the latest bbc...</td>\n",
              "      <td>arts and entertainment</td>\n",
              "      <td>arts, culture, entertainment and media</td>\n",
              "      <td>arts and entertainment</td>\n",
              "    </tr>\n",
              "    <tr>\n",
              "      <th>3</th>\n",
              "      <td>arts entertainment news gazette com cloudy sno...</td>\n",
              "      <td>arts and entertainment</td>\n",
              "      <td>arts, culture, entertainment and media</td>\n",
              "      <td>arts and entertainment</td>\n",
              "    </tr>\n",
              "  </tbody>\n",
              "</table>\n",
              "</div>"
            ],
            "text/plain": [
              "                                       combined_text  ...           level2_labels\n",
              "0  a e watch full episodes of your favorite shows...  ...  arts and entertainment\n",
              "1  a e tv shows a e check out a e s shows lineup ...  ...  arts and entertainment\n",
              "2  entertainment arts bbc news get the latest bbc...  ...  arts and entertainment\n",
              "3  arts entertainment news gazette com cloudy sno...  ...  arts and entertainment\n",
              "\n",
              "[4 rows x 4 columns]"
            ]
          },
          "metadata": {
            "tags": []
          },
          "execution_count": 16
        }
      ]
    },
    {
      "cell_type": "markdown",
      "metadata": {
        "id": "mfto5IdGLNzZ"
      },
      "source": [
        "# Balance the dataset"
      ]
    },
    {
      "cell_type": "code",
      "metadata": {
        "id": "srfoCrVVO30k"
      },
      "source": [
        "#helper functions\r\n",
        "def downsample(df , label):\r\n",
        "  g = df.groupby(label , group_keys=False)\r\n",
        "  balaced_df = pd.DataFrame(g.apply(lambda x : x.sample(g.size().min()))).reset_index(drop=True)\r\n",
        "  return balaced_df\r\n",
        "\r\n",
        "\r\n",
        "def balace_category(data , category_column , downsample_value):\r\n",
        "  #to handle the categories easily, we have to change the dtype of the 'query' to category\r\n",
        "  data[category_column] = data[category_column].astype('category')\r\n",
        "\r\n",
        "  category = data[category_column].value_counts().index\r\n",
        "  print(\"The shape before deletion------------------------------------------>\",data.shape)\r\n",
        "  print()\r\n",
        "  print(\"The number of category in the {} column------------------------->{}\".format(category_column , len(category)))\r\n",
        "\r\n",
        "  #seperate the column which has to be delete\r\n",
        "  need_to_be_deleted = category[(data[category_column].value_counts() < downsample_value)]\r\n",
        "  print(\"The number of category need to be deleted in the {} column------>{}\".format(category_column , len(need_to_be_deleted)))\r\n",
        "\r\n",
        "  #delete the unwanted category\r\n",
        "  data[category_column] = data[category_column].cat.remove_categories(need_to_be_deleted) #set nan for the categories need to be deletd and then use dropna to delete those things\r\n",
        "  data.dropna(axis=0 , how='any',inplace=True) #delete the nan category\r\n",
        "\r\n",
        "  print(\"The number of category after deletion------------------------------>\",len(data[category_column].value_counts().index))\r\n",
        "  print()\r\n",
        "  print(\"The shape after deletion------------------------------------------->\",data.shape)\r\n",
        "  print()\r\n",
        "\r\n",
        "  #down sample the query category to its minimum value\r\n",
        "  data = downsample(data , category_column) #call the helper function\r\n",
        "  #data[category_column].value_counts()\r\n",
        "\r\n",
        "  #saffule the dataset\r\n",
        "  data = shuffle(data)\r\n",
        "  data.reset_index(inplace=True, drop=True) \r\n",
        "  \r\n",
        "\r\n",
        "  return data"
      ],
      "execution_count": 17,
      "outputs": []
    },
    {
      "cell_type": "code",
      "metadata": {
        "colab": {
          "base_uri": "https://localhost:8080/",
          "height": 132
        },
        "id": "m-0dMreXO6kq",
        "outputId": "ebfc1b5c-83c0-4b87-ffb2-88055eac2b10"
      },
      "source": [
        "#for my understanding- if you cant understand the healper function , uncommend this and try each parts seperately, you will get a clear idea of what is happening\r\n",
        "\"\"\"\r\n",
        "#part-1\r\n",
        "#to handle the categories easily, we have to change the dtype of the 'query' to category\r\n",
        "data_query['query'] = data_query['query'].astype('category')\r\n",
        "\r\n",
        "#part-2\r\n",
        "query_category = data_query['query'].value_counts().index\r\n",
        "print(\"The shape before deletion------------------------------------------>\",data_query.shape)\r\n",
        "print()\r\n",
        "print(\"The number of category in the query column------------------------->\",len(query_category))\r\n",
        "\r\n",
        "#seperate the column which has to be delete\r\n",
        "need_to_be_deleted = query_category[(data_query['query'].value_counts()<6)]\r\n",
        "print(\"The number of category need to be deleted in the query column------>\",len(need_to_be_deleted))\r\n",
        "\r\n",
        "#delete the unwanted category\r\n",
        "data_query['query'] = data_query['query'].cat.remove_categories(need_to_be_deleted) #set nan for the categories need to be deletd and then use dropna to delete those things\r\n",
        "data_query.dropna(axis=0 , how='any',inplace=True) #delete the nan category\r\n",
        "\r\n",
        "print(\"The number of category after deletion------------------------------>\",len(data_query['query'].value_counts().index))\r\n",
        "print()\r\n",
        "print(\"The shape after deletion------------------------------------------->\",data_query.shape)\r\n",
        "print()\r\n",
        "\r\n",
        "#part-3\r\n",
        "#down sample the query category to its minimum value\r\n",
        "data_query = downsample(data_query , 'query')\r\n",
        "data_query['query'].value_counts()\"\"\"\r\n"
      ],
      "execution_count": 18,
      "outputs": [
        {
          "output_type": "execute_result",
          "data": {
            "application/vnd.google.colaboratory.intrinsic+json": {
              "type": "string"
            },
            "text/plain": [
              "'\\n#part-1\\n#to handle the categories easily, we have to change the dtype of the \\'query\\' to category\\ndata_query[\\'query\\'] = data_query[\\'query\\'].astype(\\'category\\')\\n\\n#part-2\\nquery_category = data_query[\\'query\\'].value_counts().index\\nprint(\"The shape before deletion------------------------------------------>\",data_query.shape)\\nprint()\\nprint(\"The number of category in the query column------------------------->\",len(query_category))\\n\\n#seperate the column which has to be delete\\nneed_to_be_deleted = query_category[(data_query[\\'query\\'].value_counts()<6)]\\nprint(\"The number of category need to be deleted in the query column------>\",len(need_to_be_deleted))\\n\\n#delete the unwanted category\\ndata_query[\\'query\\'] = data_query[\\'query\\'].cat.remove_categories(need_to_be_deleted) #set nan for the categories need to be deletd and then use dropna to delete those things\\ndata_query.dropna(axis=0 , how=\\'any\\',inplace=True) #delete the nan category\\n\\nprint(\"The number of category after deletion------------------------------>\",len(data_query[\\'query\\'].value_counts().index))\\nprint()\\nprint(\"The shape after deletion------------------------------------------->\",data_query.shape)\\nprint()\\n\\n#part-3\\n#down sample the query category to its minimum value\\ndata_query = downsample(data_query , \\'query\\')\\ndata_query[\\'query\\'].value_counts()'"
            ]
          },
          "metadata": {
            "tags": []
          },
          "execution_count": 18
        }
      ]
    },
    {
      "cell_type": "code",
      "metadata": {
        "id": "SMYY44-50okY"
      },
      "source": [
        "#healper function\r\n",
        "label = LabelEncoder()\r\n",
        "\r\n",
        "def split_and_ifidfVectorization(X , y , max_df , min_df):\r\n",
        "\r\n",
        "  #label the y value\r\n",
        "  y = label.fit_transform(y)\r\n",
        "  #split the dataset\r\n",
        "  X_train,X_test,y_train,y_test = train_test_split(X,y,test_size = 0.2,random_state = 42)\r\n",
        "\r\n",
        "  #tfidf\r\n",
        "  vecto =  TfidfVectorizer(stop_words='english',max_df = max_df ,min_df= min_df,\r\n",
        "                                   ngram_range=(1, 2),lowercase=True, max_features=5000)\r\n",
        "  vecto = vecto.fit(X_train)\r\n",
        "\r\n",
        "  X_train = vecto.transform(X_train).toarray()\r\n",
        "  X_test = vecto.transform(X_test).toarray()\r\n",
        "\r\n",
        "  #print the shapes\r\n",
        "  print(\"The shape of the X train----------->\",X_train.shape)\r\n",
        "  print(\"The shape of the y train----------->\",y_train.shape)\r\n",
        "  print(\"The shape of the X test------------>\",X_test.shape)\r\n",
        "  print(\"The shape of the y test------------>\",y_test.shape)\r\n",
        "\r\n",
        "  return X_train,X_test,y_train,y_test,vecto"
      ],
      "execution_count": 25,
      "outputs": []
    },
    {
      "cell_type": "markdown",
      "metadata": {
        "id": "lhkmBhAi5Vj4"
      },
      "source": [
        "# Model training"
      ]
    },
    {
      "cell_type": "code",
      "metadata": {
        "id": "Ksv6XLteQH-0"
      },
      "source": [
        "def classifier_scores(y_train,y_test, pred_train, pred_test):\r\n",
        "    \r\n",
        "    print()\r\n",
        "    print(\"Train data accuracy score: \", accuracy_score(y_train,pred_train))    \r\n",
        "    print(\"Test data accuracy score: \", accuracy_score(y_test,pred_test))\r\n",
        "    print()\r\n",
        "    print(\"Recall score on train data: \", recall_score(y_train,pred_train, average='macro'))\r\n",
        "    print(\"Recall score on test data: \",recall_score( y_test,pred_test, average='macro'))\r\n",
        "    print()\r\n",
        "    \r\n",
        "    print(\"Precision score on train data: \",precision_score(y_train,pred_train, average='macro'))\r\n",
        "    print(\"Precision score on test data: \",precision_score(y_test,pred_test, average='macro'))\r\n",
        "    print()\r\n",
        "    print(\"F1 score on train data: \",f1_score(y_train,pred_train, average='macro'))\r\n",
        "    print(\"F1 score on test data: \",f1_score(y_test,pred_test, average='macro'))"
      ],
      "execution_count": 32,
      "outputs": []
    },
    {
      "cell_type": "markdown",
      "metadata": {
        "id": "5pxTJCvl55kX"
      },
      "source": [
        "# Logistric Regression"
      ]
    },
    {
      "cell_type": "code",
      "metadata": {
        "id": "OePdG_S45aV7"
      },
      "source": [
        "def logistricRegression( X_train,X_test,y_train,y_test):\r\n",
        "  log_reg = LogisticRegression()\r\n",
        "\r\n",
        "  log_reg.fit(X_train , y_train)\r\n",
        "\r\n",
        "  y_train_pred = log_reg.predict(X_train)\r\n",
        "  y_test_pred = log_reg.predict(X_test)\r\n",
        "\r\n",
        "  classifier_scores(y_train,y_test,y_train_pred,y_test_pred) #call the healper function\r\n",
        "\r\n",
        "  return log_reg"
      ],
      "execution_count": 33,
      "outputs": []
    },
    {
      "cell_type": "markdown",
      "metadata": {
        "id": "Ung4-HBwqk8E"
      },
      "source": [
        "### 'query' categories"
      ]
    },
    {
      "cell_type": "markdown",
      "metadata": {
        "id": "mX3ZAwz3kXhd"
      },
      "source": [
        "- When doing the balancing , we have to delete the categorie, which are having very few sample. Here by i am deleting the categories which are having less than 6 sample. \r\n",
        "- after deletion, we have to resample the data by select 6 samples randomly from each categories. "
      ]
    },
    {
      "cell_type": "code",
      "metadata": {
        "colab": {
          "base_uri": "https://localhost:8080/"
        },
        "id": "g6u5IWUOK_uf",
        "outputId": "879fd17f-0a66-4de2-e564-d0c9c093f76f"
      },
      "source": [
        "#copy the original data \r\n",
        "data2 = data.copy()\r\n",
        "data_query = data[['combined_text' , 'query']].copy()\r\n",
        "\r\n",
        "#balace the dataset according to 'query' column\r\n",
        "data_query = balace_category(data = data_query , category_column= 'query' , downsample_value= 6)"
      ],
      "execution_count": 23,
      "outputs": [
        {
          "output_type": "stream",
          "text": [
            "The shape before deletion------------------------------------------> (9514, 2)\n",
            "\n",
            "The number of category in the query column------------------------->1279\n",
            "The number of category need to be deleted in the query column------>252\n",
            "The number of category after deletion------------------------------> 1027\n",
            "\n",
            "The shape after deletion-------------------------------------------> (8446, 2)\n",
            "\n"
          ],
          "name": "stdout"
        }
      ]
    },
    {
      "cell_type": "code",
      "metadata": {
        "colab": {
          "base_uri": "https://localhost:8080/"
        },
        "id": "R7auqDcHJznT",
        "outputId": "abb1a134-290e-47f2-ea65-e4f57727c630"
      },
      "source": [
        "X = data_query['combined_text']\r\n",
        "y = data_query['query']\r\n",
        "\r\n",
        "X_train,X_test,y_train,y_test,vecto_query = split_and_ifidfVectorization(X,y , max_df = 0.99 , min_df = 6)"
      ],
      "execution_count": 31,
      "outputs": [
        {
          "output_type": "stream",
          "text": [
            "The shape of the X train-----------> (4929, 4546)\n",
            "The shape of the y train-----------> (4929,)\n",
            "The shape of the X test------------> (1233, 4546)\n",
            "The shape of the y test------------> (1233,)\n"
          ],
          "name": "stdout"
        }
      ]
    },
    {
      "cell_type": "code",
      "metadata": {
        "colab": {
          "base_uri": "https://localhost:8080/"
        },
        "id": "xA11PEOplfC3",
        "outputId": "6a8976c0-80b4-45d0-c153-d5f61d2228ee"
      },
      "source": [
        "# train the logistric regression model\r\n",
        "log_reg_query = logistricRegression(X_train,X_test,y_train,y_test)"
      ],
      "execution_count": 35,
      "outputs": [
        {
          "output_type": "stream",
          "text": [
            "\n",
            "Train data accuracy score:  0.8967336173666058\n",
            "Test data accuracy score:  0.35279805352798055\n",
            "\n",
            "Recall score on train data:  0.8642810775722168\n",
            "Recall score on test data:  0.35648148148148145\n",
            "\n",
            "Precision score on train data:  0.8899904542066177\n",
            "Precision score on test data:  0.32965633903133906\n",
            "\n",
            "F1 score on train data:  0.8594182192967016\n",
            "F1 score on test data:  0.32100461267127933\n"
          ],
          "name": "stdout"
        },
        {
          "output_type": "stream",
          "text": [
            "/usr/local/lib/python3.6/dist-packages/sklearn/metrics/_classification.py:1272: UndefinedMetricWarning: Recall is ill-defined and being set to 0.0 in labels with no true samples. Use `zero_division` parameter to control this behavior.\n",
            "  _warn_prf(average, modifier, msg_start, len(result))\n",
            "/usr/local/lib/python3.6/dist-packages/sklearn/metrics/_classification.py:1272: UndefinedMetricWarning: Precision is ill-defined and being set to 0.0 in labels with no predicted samples. Use `zero_division` parameter to control this behavior.\n",
            "  _warn_prf(average, modifier, msg_start, len(result))\n"
          ],
          "name": "stderr"
        }
      ]
    },
    {
      "cell_type": "markdown",
      "metadata": {
        "id": "WfMS5Vu77MSi"
      },
      "source": [
        "# Level1_label classification"
      ]
    },
    {
      "cell_type": "code",
      "metadata": {
        "colab": {
          "base_uri": "https://localhost:8080/"
        },
        "id": "9gqO_pd_HAVD",
        "outputId": "5b2fc24a-898d-4b20-f471-cde962671b36"
      },
      "source": [
        "# set the dataset\r\n",
        "data_lavel1 = data[['combined_text' , 'level1_labels']]\r\n",
        "\r\n",
        "#check fot the downsample value\r\n",
        "data_lavel1['level1_labels'].value_counts()"
      ],
      "execution_count": 36,
      "outputs": [
        {
          "output_type": "execute_result",
          "data": {
            "text/plain": [
              "sport                                        2416\n",
              "economy, business and finance                1940\n",
              "politics                                      757\n",
              "arts, culture, entertainment and media        536\n",
              "crime, law and justice                        477\n",
              "health                                        452\n",
              "science and technology                        427\n",
              "religion and belief                           422\n",
              "society                                       403\n",
              "lifestyle and leisure                         396\n",
              "labour                                        259\n",
              "disaster, accident and emergency incident     237\n",
              "conflict, war and peace                       221\n",
              "environment                                   215\n",
              "education                                     188\n",
              "human interest                                135\n",
              "weather                                        33\n",
              "Name: level1_labels, dtype: int64"
            ]
          },
          "metadata": {
            "tags": []
          },
          "execution_count": 36
        }
      ]
    },
    {
      "cell_type": "code",
      "metadata": {
        "id": "7ttpR8ve7tXa"
      },
      "source": [
        ""
      ],
      "execution_count": null,
      "outputs": []
    }
  ]
}
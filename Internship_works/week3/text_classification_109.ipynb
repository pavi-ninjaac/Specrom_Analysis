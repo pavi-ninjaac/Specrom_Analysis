{
  "nbformat": 4,
  "nbformat_minor": 0,
  "metadata": {
    "colab": {
      "name": "Untitled6.ipynb",
      "provenance": [],
      "mount_file_id": "16_WhmHZ1sFycksezzQm97yYlFYxEGI-3",
      "authorship_tag": "ABX9TyP2VpxT1cKmmtuTAXkF4X3b",
      "include_colab_link": true
    },
    "kernelspec": {
      "name": "python3",
      "display_name": "Python 3"
    }
  },
  "cells": [
    {
      "cell_type": "markdown",
      "metadata": {
        "id": "view-in-github",
        "colab_type": "text"
      },
      "source": [
        "<a href=\"https://colab.research.google.com/github/pavi-ninjaac/Specrom_Analysis/blob/main/Internship_works/week3/text_classification_109.ipynb\" target=\"_parent\"><img src=\"https://colab.research.google.com/assets/colab-badge.svg\" alt=\"Open In Colab\"/></a>"
      ]
    },
    {
      "cell_type": "code",
      "metadata": {
        "id": "YtOPd0VM85pS"
      },
      "source": [
        "#get the libraries\r\n",
        "import numpy as np\r\n",
        "import pandas as pd\r\n",
        "import matplotlib.pyplot as plt\r\n",
        "import re\r\n",
        "\r\n",
        "#sklearn functions\r\n",
        "from sklearn.model_selection import  train_test_split\r\n",
        "from sklearn.preprocessing import LabelEncoder\r\n",
        "\r\n",
        "#sklearn vectorization packages\r\n",
        "from sklearn."
      ],
      "execution_count": 28,
      "outputs": []
    },
    {
      "cell_type": "code",
      "metadata": {
        "colab": {
          "base_uri": "https://localhost:8080/",
          "height": 325
        },
        "id": "ziwndVPd9ktp",
        "outputId": "e45dcbdc-33bd-410f-ed7f-6ba18fc5b637"
      },
      "source": [
        "data = pd.read_csv('/content/drive/MyDrive/Colab Notebooks/dataFiles/Text_classification_news_article/rishika_csv_different_computer_with_iptc.csv',index_col=0)\r\n",
        "\r\n",
        "shape = data.shape\r\n",
        "columns = list(data.columns)\r\n",
        "\r\n",
        "print(\"the shape of the dataset is--->\",shape)\r\n",
        "print('The features are-------------->',columns)\r\n",
        "\r\n",
        "data.head(4)\r\n"
      ],
      "execution_count": 20,
      "outputs": [
        {
          "output_type": "stream",
          "text": [
            "the shape of the dataset is---> (10761, 8)\n",
            "The features are--------------> ['position', 'query', 'url', 'title', 'snippet', 'combined_text', 'level1_labels', 'level2_labels']\n"
          ],
          "name": "stdout"
        },
        {
          "output_type": "execute_result",
          "data": {
            "text/html": [
              "<div>\n",
              "<style scoped>\n",
              "    .dataframe tbody tr th:only-of-type {\n",
              "        vertical-align: middle;\n",
              "    }\n",
              "\n",
              "    .dataframe tbody tr th {\n",
              "        vertical-align: top;\n",
              "    }\n",
              "\n",
              "    .dataframe thead th {\n",
              "        text-align: right;\n",
              "    }\n",
              "</style>\n",
              "<table border=\"1\" class=\"dataframe\">\n",
              "  <thead>\n",
              "    <tr style=\"text-align: right;\">\n",
              "      <th></th>\n",
              "      <th>position</th>\n",
              "      <th>query</th>\n",
              "      <th>url</th>\n",
              "      <th>title</th>\n",
              "      <th>snippet</th>\n",
              "      <th>combined_text</th>\n",
              "      <th>level1_labels</th>\n",
              "      <th>level2_labels</th>\n",
              "    </tr>\n",
              "  </thead>\n",
              "  <tbody>\n",
              "    <tr>\n",
              "      <th>0</th>\n",
              "      <td>1</td>\n",
              "      <td>arts, culture, entertainment and media</td>\n",
              "      <td>https://www.bbc.com/news/entertainment_and_arts</td>\n",
              "      <td>Entertainment &amp; Arts - BBC News</td>\n",
              "      <td>Get the latest BBC Entertainment and Arts news...</td>\n",
              "      <td>Entertainment &amp; Arts - BBC News Get the latest...</td>\n",
              "      <td>arts, culture, entertainment and media</td>\n",
              "      <td>NaN</td>\n",
              "    </tr>\n",
              "    <tr>\n",
              "      <th>1</th>\n",
              "      <td>2</td>\n",
              "      <td>arts, culture, entertainment and media</td>\n",
              "      <td>https://www.champaigncounty.org/list/ql/arts-c...</td>\n",
              "      <td>Arts, Culture &amp; Entertainment | Champaign Coun...</td>\n",
              "      <td>Champaign County Chamber of Commerce - IL 303 ...</td>\n",
              "      <td>Arts, Culture &amp; Entertainment | Champaign Coun...</td>\n",
              "      <td>arts, culture, entertainment and media</td>\n",
              "      <td>NaN</td>\n",
              "    </tr>\n",
              "    <tr>\n",
              "      <th>2</th>\n",
              "      <td>3</td>\n",
              "      <td>arts, culture, entertainment and media</td>\n",
              "      <td>https://www.bls.gov/oes/current/oes270000.htm</td>\n",
              "      <td>Arts, Design, Entertainment, Sports, and Media...</td>\n",
              "      <td>27-0000 Arts, Design, Entertainment, Sports, a...</td>\n",
              "      <td>Arts, Design, Entertainment, Sports, and Media...</td>\n",
              "      <td>arts, culture, entertainment and media</td>\n",
              "      <td>NaN</td>\n",
              "    </tr>\n",
              "    <tr>\n",
              "      <th>3</th>\n",
              "      <td>4</td>\n",
              "      <td>arts, culture, entertainment and media</td>\n",
              "      <td>https://www.smc.edu/academics/areas-of-interes...</td>\n",
              "      <td>Arts, Media, &amp; Entertainment - Santa Monica Co...</td>\n",
              "      <td>Let your imagination run wild and free — explo...</td>\n",
              "      <td>Arts, Media, &amp; Entertainment - Santa Monica Co...</td>\n",
              "      <td>arts, culture, entertainment and media</td>\n",
              "      <td>NaN</td>\n",
              "    </tr>\n",
              "  </tbody>\n",
              "</table>\n",
              "</div>"
            ],
            "text/plain": [
              "   position  ... level2_labels\n",
              "0         1  ...           NaN\n",
              "1         2  ...           NaN\n",
              "2         3  ...           NaN\n",
              "3         4  ...           NaN\n",
              "\n",
              "[4 rows x 8 columns]"
            ]
          },
          "metadata": {
            "tags": []
          },
          "execution_count": 20
        }
      ]
    },
    {
      "cell_type": "code",
      "metadata": {
        "colab": {
          "base_uri": "https://localhost:8080/"
        },
        "id": "o6vxKuLt99xF",
        "outputId": "a1816e9a-2914-4960-d3f8-1da16c1f0ed8"
      },
      "source": [
        "print(\"The nunber of category----------->\",data['level1_labels'].nunique())\r\n",
        "print(\"The nunber of second category---->\",data['level2_labels'].nunique())"
      ],
      "execution_count": 10,
      "outputs": [
        {
          "output_type": "stream",
          "text": [
            "The nunber of category-----------> 17\n",
            "The nunber of second category----> 109\n"
          ],
          "name": "stdout"
        }
      ]
    },
    {
      "cell_type": "code",
      "metadata": {
        "colab": {
          "base_uri": "https://localhost:8080/"
        },
        "id": "8bjdxoJl-OFH",
        "outputId": "bb912bf2-8230-4159-9030-71e315dad7de"
      },
      "source": [
        "print(\"The nunber of quieries---->\",data['query'].nunique())"
      ],
      "execution_count": 14,
      "outputs": [
        {
          "output_type": "stream",
          "text": [
            "The nunber of quieries----> 1296\n"
          ],
          "name": "stdout"
        }
      ]
    },
    {
      "cell_type": "code",
      "metadata": {
        "colab": {
          "base_uri": "https://localhost:8080/"
        },
        "id": "p0DnndimAUbd",
        "outputId": "3a2b773e-a6d1-41f0-d95a-a4912b0f1746"
      },
      "source": [
        "data['position'].unique()"
      ],
      "execution_count": 16,
      "outputs": [
        {
          "output_type": "execute_result",
          "data": {
            "text/plain": [
              "array([ 1,  2,  3,  4,  5,  6,  7,  8,  9, 10])"
            ]
          },
          "metadata": {
            "tags": []
          },
          "execution_count": 16
        }
      ]
    },
    {
      "cell_type": "code",
      "metadata": {
        "colab": {
          "base_uri": "https://localhost:8080/",
          "height": 162
        },
        "id": "zhuGnZKzDFw7",
        "outputId": "1b8e6713-5ba3-4ba5-d69a-a4bca4a07d3c"
      },
      "source": [
        "needed_columns = ['combined_text','query','level1_labels','level2_labels']\r\n",
        "data = data[needed_columns].copy()\r\n",
        "data.head(4)"
      ],
      "execution_count": 22,
      "outputs": [
        {
          "output_type": "execute_result",
          "data": {
            "text/html": [
              "<div>\n",
              "<style scoped>\n",
              "    .dataframe tbody tr th:only-of-type {\n",
              "        vertical-align: middle;\n",
              "    }\n",
              "\n",
              "    .dataframe tbody tr th {\n",
              "        vertical-align: top;\n",
              "    }\n",
              "\n",
              "    .dataframe thead th {\n",
              "        text-align: right;\n",
              "    }\n",
              "</style>\n",
              "<table border=\"1\" class=\"dataframe\">\n",
              "  <thead>\n",
              "    <tr style=\"text-align: right;\">\n",
              "      <th></th>\n",
              "      <th>combined_text</th>\n",
              "      <th>query</th>\n",
              "      <th>level1_labels</th>\n",
              "      <th>level2_labels</th>\n",
              "    </tr>\n",
              "  </thead>\n",
              "  <tbody>\n",
              "    <tr>\n",
              "      <th>0</th>\n",
              "      <td>Entertainment &amp; Arts - BBC News Get the latest...</td>\n",
              "      <td>arts, culture, entertainment and media</td>\n",
              "      <td>arts, culture, entertainment and media</td>\n",
              "      <td>NaN</td>\n",
              "    </tr>\n",
              "    <tr>\n",
              "      <th>1</th>\n",
              "      <td>Arts, Culture &amp; Entertainment | Champaign Coun...</td>\n",
              "      <td>arts, culture, entertainment and media</td>\n",
              "      <td>arts, culture, entertainment and media</td>\n",
              "      <td>NaN</td>\n",
              "    </tr>\n",
              "    <tr>\n",
              "      <th>2</th>\n",
              "      <td>Arts, Design, Entertainment, Sports, and Media...</td>\n",
              "      <td>arts, culture, entertainment and media</td>\n",
              "      <td>arts, culture, entertainment and media</td>\n",
              "      <td>NaN</td>\n",
              "    </tr>\n",
              "    <tr>\n",
              "      <th>3</th>\n",
              "      <td>Arts, Media, &amp; Entertainment - Santa Monica Co...</td>\n",
              "      <td>arts, culture, entertainment and media</td>\n",
              "      <td>arts, culture, entertainment and media</td>\n",
              "      <td>NaN</td>\n",
              "    </tr>\n",
              "  </tbody>\n",
              "</table>\n",
              "</div>"
            ],
            "text/plain": [
              "                                       combined_text  ... level2_labels\n",
              "0  Entertainment & Arts - BBC News Get the latest...  ...           NaN\n",
              "1  Arts, Culture & Entertainment | Champaign Coun...  ...           NaN\n",
              "2  Arts, Design, Entertainment, Sports, and Media...  ...           NaN\n",
              "3  Arts, Media, & Entertainment - Santa Monica Co...  ...           NaN\n",
              "\n",
              "[4 rows x 4 columns]"
            ]
          },
          "metadata": {
            "tags": []
          },
          "execution_count": 22
        }
      ]
    },
    {
      "cell_type": "markdown",
      "metadata": {
        "id": "2izCg83QIjX-"
      },
      "source": [
        "# Handling dublicate values"
      ]
    },
    {
      "cell_type": "code",
      "metadata": {
        "colab": {
          "base_uri": "https://localhost:8080/"
        },
        "id": "RvHs2z_oIA4D",
        "outputId": "cfca195e-dc18-4782-c7a5-683b44cb5195"
      },
      "source": [
        "#delete the dublicate values\r\n",
        "data.duplicated().sum() # count the total duplicate samples"
      ],
      "execution_count": 33,
      "outputs": [
        {
          "output_type": "execute_result",
          "data": {
            "text/plain": [
              "364"
            ]
          },
          "metadata": {
            "tags": []
          },
          "execution_count": 33
        }
      ]
    },
    {
      "cell_type": "code",
      "metadata": {
        "id": "uXnm45LUIGP5"
      },
      "source": [
        "data.drop_duplicates(keep='last',inplace=True)"
      ],
      "execution_count": 34,
      "outputs": []
    },
    {
      "cell_type": "code",
      "metadata": {
        "colab": {
          "base_uri": "https://localhost:8080/"
        },
        "id": "I5DClpvOIKgR",
        "outputId": "034d3f3a-4f1b-49e5-b939-c9e6a5bc06f4"
      },
      "source": [
        "\r\n",
        "#there can be dublicate of author names so check for the dublicate headline and short discription\r\n",
        "data.duplicated(subset=[ 'combined_text']).sum()"
      ],
      "execution_count": 35,
      "outputs": [
        {
          "output_type": "execute_result",
          "data": {
            "text/plain": [
              "759"
            ]
          },
          "metadata": {
            "tags": []
          },
          "execution_count": 35
        }
      ]
    },
    {
      "cell_type": "code",
      "metadata": {
        "id": "RZDo1KILIQ7y"
      },
      "source": [
        "data.drop_duplicates(subset='combined_text' , keep ='last' , inplace=True)"
      ],
      "execution_count": 36,
      "outputs": []
    },
    {
      "cell_type": "code",
      "metadata": {
        "colab": {
          "base_uri": "https://localhost:8080/"
        },
        "id": "Ot9SYJHrIfl6",
        "outputId": "be96c1b6-8ef8-4997-bdf8-0be0b79f3cdf"
      },
      "source": [
        "print(\"THe length of the datset after dublicate deletion------>\",data.shape)"
      ],
      "execution_count": 37,
      "outputs": [
        {
          "output_type": "stream",
          "text": [
            "THe length of the datset after dublicate deletion------> (9638, 4)\n"
          ],
          "name": "stdout"
        }
      ]
    },
    {
      "cell_type": "markdown",
      "metadata": {
        "id": "uvDauMSAIruC"
      },
      "source": [
        "# Handling null values"
      ]
    },
    {
      "cell_type": "code",
      "metadata": {
        "colab": {
          "base_uri": "https://localhost:8080/"
        },
        "id": "nyqV9PfmIqnM",
        "outputId": "c47610ba-44c3-47ea-c49d-e83bebb3ab5f"
      },
      "source": [
        "data.isnull().sum()"
      ],
      "execution_count": 38,
      "outputs": [
        {
          "output_type": "execute_result",
          "data": {
            "text/plain": [
              "combined_text      1\n",
              "query              0\n",
              "level1_labels      0\n",
              "level2_labels    133\n",
              "dtype: int64"
            ]
          },
          "metadata": {
            "tags": []
          },
          "execution_count": 38
        }
      ]
    },
    {
      "cell_type": "code",
      "metadata": {
        "id": "DFQ1LNfBIzqb"
      },
      "source": [
        "data.dropna(axis=0 ,inplace=True , how='any')"
      ],
      "execution_count": 39,
      "outputs": []
    },
    {
      "cell_type": "code",
      "metadata": {
        "colab": {
          "base_uri": "https://localhost:8080/"
        },
        "id": "xnBqc7tDI97_",
        "outputId": "f0b236b1-aa26-4b4a-8d38-a893ef481761"
      },
      "source": [
        "print(\"THe length of the datset after null values deletion------>\",data.shape)"
      ],
      "execution_count": 40,
      "outputs": [
        {
          "output_type": "stream",
          "text": [
            "THe length of the datset after null values deletion------> (9504, 4)\n"
          ],
          "name": "stdout"
        }
      ]
    },
    {
      "cell_type": "code",
      "metadata": {
        "colab": {
          "base_uri": "https://localhost:8080/",
          "height": 47
        },
        "id": "Tl2hhA7LJFz5",
        "outputId": "da360ef2-ffe3-4e7a-b851-a6d0b445d671"
      },
      "source": [
        "data[data['combined_text'] == ' ']"
      ],
      "execution_count": 42,
      "outputs": [
        {
          "output_type": "execute_result",
          "data": {
            "text/html": [
              "<div>\n",
              "<style scoped>\n",
              "    .dataframe tbody tr th:only-of-type {\n",
              "        vertical-align: middle;\n",
              "    }\n",
              "\n",
              "    .dataframe tbody tr th {\n",
              "        vertical-align: top;\n",
              "    }\n",
              "\n",
              "    .dataframe thead th {\n",
              "        text-align: right;\n",
              "    }\n",
              "</style>\n",
              "<table border=\"1\" class=\"dataframe\">\n",
              "  <thead>\n",
              "    <tr style=\"text-align: right;\">\n",
              "      <th></th>\n",
              "      <th>combined_text</th>\n",
              "      <th>query</th>\n",
              "      <th>level1_labels</th>\n",
              "      <th>level2_labels</th>\n",
              "    </tr>\n",
              "  </thead>\n",
              "  <tbody>\n",
              "  </tbody>\n",
              "</table>\n",
              "</div>"
            ],
            "text/plain": [
              "Empty DataFrame\n",
              "Columns: [combined_text, query, level1_labels, level2_labels]\n",
              "Index: []"
            ]
          },
          "metadata": {
            "tags": []
          },
          "execution_count": 42
        }
      ]
    },
    {
      "cell_type": "markdown",
      "metadata": {
        "id": "kKEXOibeC_fq"
      },
      "source": [
        "# Clean the dataset"
      ]
    },
    {
      "cell_type": "code",
      "metadata": {
        "id": "mhw6Rc2MBX3Z"
      },
      "source": [
        "def preprocessor_text(text):\r\n",
        "    if isinstance((text), (str)):\r\n",
        "        text = re.sub('<[^>]*>', ' ', text)\r\n",
        "        text = re.sub('[\\W]+', ' ', text.lower())\r\n",
        "        return text\r\n",
        "    if isinstance((text), (list)):\r\n",
        "        return_list = []\r\n",
        "        for i in range(len(text)):\r\n",
        "            temp_text = re.sub('<[^>]*>', '', text[i])\r\n",
        "            temp_text = re.sub('[\\W]+', '', temp_text.lower())\r\n",
        "            return_list.append(temp_text)\r\n",
        "        return(return_list)\r\n",
        "\r\n",
        "data['combined_text'] = data['combined_text'].apply(preprocessor_text)"
      ],
      "execution_count": 25,
      "outputs": []
    },
    {
      "cell_type": "code",
      "metadata": {
        "colab": {
          "base_uri": "https://localhost:8080/",
          "height": 162
        },
        "id": "vg7AUrqgDx5-",
        "outputId": "35acb7e2-d687-4bca-a498-c641dba75461"
      },
      "source": [
        "data.head(4)"
      ],
      "execution_count": 26,
      "outputs": [
        {
          "output_type": "execute_result",
          "data": {
            "text/html": [
              "<div>\n",
              "<style scoped>\n",
              "    .dataframe tbody tr th:only-of-type {\n",
              "        vertical-align: middle;\n",
              "    }\n",
              "\n",
              "    .dataframe tbody tr th {\n",
              "        vertical-align: top;\n",
              "    }\n",
              "\n",
              "    .dataframe thead th {\n",
              "        text-align: right;\n",
              "    }\n",
              "</style>\n",
              "<table border=\"1\" class=\"dataframe\">\n",
              "  <thead>\n",
              "    <tr style=\"text-align: right;\">\n",
              "      <th></th>\n",
              "      <th>combined_text</th>\n",
              "      <th>query</th>\n",
              "      <th>level1_labels</th>\n",
              "      <th>level2_labels</th>\n",
              "    </tr>\n",
              "  </thead>\n",
              "  <tbody>\n",
              "    <tr>\n",
              "      <th>0</th>\n",
              "      <td>entertainment arts bbc news get the latest bbc...</td>\n",
              "      <td>arts, culture, entertainment and media</td>\n",
              "      <td>arts, culture, entertainment and media</td>\n",
              "      <td>NaN</td>\n",
              "    </tr>\n",
              "    <tr>\n",
              "      <th>1</th>\n",
              "      <td>arts culture entertainment champaign county ch...</td>\n",
              "      <td>arts, culture, entertainment and media</td>\n",
              "      <td>arts, culture, entertainment and media</td>\n",
              "      <td>NaN</td>\n",
              "    </tr>\n",
              "    <tr>\n",
              "      <th>2</th>\n",
              "      <td>arts design entertainment sports and media occ...</td>\n",
              "      <td>arts, culture, entertainment and media</td>\n",
              "      <td>arts, culture, entertainment and media</td>\n",
              "      <td>NaN</td>\n",
              "    </tr>\n",
              "    <tr>\n",
              "      <th>3</th>\n",
              "      <td>arts media entertainment santa monica college ...</td>\n",
              "      <td>arts, culture, entertainment and media</td>\n",
              "      <td>arts, culture, entertainment and media</td>\n",
              "      <td>NaN</td>\n",
              "    </tr>\n",
              "  </tbody>\n",
              "</table>\n",
              "</div>"
            ],
            "text/plain": [
              "                                       combined_text  ... level2_labels\n",
              "0  entertainment arts bbc news get the latest bbc...  ...           NaN\n",
              "1  arts culture entertainment champaign county ch...  ...           NaN\n",
              "2  arts design entertainment sports and media occ...  ...           NaN\n",
              "3  arts media entertainment santa monica college ...  ...           NaN\n",
              "\n",
              "[4 rows x 4 columns]"
            ]
          },
          "metadata": {
            "tags": []
          },
          "execution_count": 26
        }
      ]
    },
    {
      "cell_type": "code",
      "metadata": {
        "id": "tmYQBa3YGTi_"
      },
      "source": [
        "X = data['combined_text']\r\n",
        "y = data['query']\r\n",
        "#label encode it for classification\r\n",
        "label = LabelEncoder()\r\n",
        "y = label.fit_transform(y)"
      ],
      "execution_count": 30,
      "outputs": []
    },
    {
      "cell_type": "code",
      "metadata": {
        "id": "UpDFbohXFHT2"
      },
      "source": [
        "X_train,y_train,X_test,y_test = train_test_split(X,y,test_size = 0.2,random_state = 42)"
      ],
      "execution_count": 31,
      "outputs": []
    },
    {
      "cell_type": "code",
      "metadata": {
        "colab": {
          "base_uri": "https://localhost:8080/"
        },
        "id": "zKVKyKPwGstv",
        "outputId": "14a32a9c-fa35-4099-d90d-a9a7c06c5947"
      },
      "source": [
        "print(\"The shape of the X train----------->\",X_train.shape)\r\n",
        "print(\"The shape of the y train----------->\",y_train.shape)\r\n",
        "print(\"The shape of the X test------------>\",X_test.shape)\r\n",
        "print(\"The shape of the y test------------>\",y_test.shape)"
      ],
      "execution_count": 32,
      "outputs": [
        {
          "output_type": "stream",
          "text": [
            "The shape of the X train-----------> (8608,)\n",
            "The shape of the y train-----------> (2153,)\n",
            "The shape of the X test------------> (8608,)\n",
            "The shape of the y test------------> (2153,)\n"
          ],
          "name": "stdout"
        }
      ]
    },
    {
      "cell_type": "markdown",
      "metadata": {
        "id": "CXmQR86_HHWj"
      },
      "source": [
        "# tfidf Vectorization"
      ]
    },
    {
      "cell_type": "code",
      "metadata": {
        "id": "9gqO_pd_HAVD"
      },
      "source": [
        ""
      ],
      "execution_count": null,
      "outputs": []
    }
  ]
}
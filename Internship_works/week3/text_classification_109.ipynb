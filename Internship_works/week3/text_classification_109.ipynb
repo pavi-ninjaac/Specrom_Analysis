{
  "nbformat": 4,
  "nbformat_minor": 0,
  "metadata": {
    "colab": {
      "name": "text_classification_109.ipynb",
      "provenance": [],
      "mount_file_id": "16_WhmHZ1sFycksezzQm97yYlFYxEGI-3",
      "authorship_tag": "ABX9TyNmMzg+iw8UMrdBfCrcDKaz",
      "include_colab_link": true
    },
    "kernelspec": {
      "name": "python3",
      "display_name": "Python 3"
    }
  },
  "cells": [
    {
      "cell_type": "markdown",
      "metadata": {
        "id": "view-in-github",
        "colab_type": "text"
      },
      "source": [
        "<a href=\"https://colab.research.google.com/github/pavi-ninjaac/Specrom_Analysis/blob/main/Internship_works/week3/text_classification_109.ipynb\" target=\"_parent\"><img src=\"https://colab.research.google.com/assets/colab-badge.svg\" alt=\"Open In Colab\"/></a>"
      ]
    },
    {
      "cell_type": "code",
      "metadata": {
        "id": "YtOPd0VM85pS"
      },
      "source": [
        "#get the libraries\r\n",
        "import numpy as np\r\n",
        "import pandas as pd\r\n",
        "import matplotlib.pyplot as plt\r\n",
        "import re\r\n",
        "import seaborn as sns\r\n",
        "#sklearn functions\r\n",
        "from sklearn.model_selection import  train_test_split\r\n",
        "from sklearn.preprocessing import LabelEncoder\r\n",
        "from sklearn.utils import shuffle\r\n",
        "\r\n",
        "#sklearn vectorization packages\r\n",
        "from sklearn.feature_extraction.text import TfidfVectorizer\r\n",
        "\r\n",
        "#sklearn models\r\n",
        "from sklearn.linear_model import LogisticRegression\r\n",
        "\r\n",
        "#sklearn evaluation metrics\r\n",
        "from sklearn.metrics import f1_score,accuracy_score,precision_score,recall_score"
      ],
      "execution_count": 94,
      "outputs": []
    },
    {
      "cell_type": "code",
      "metadata": {
        "colab": {
          "base_uri": "https://localhost:8080/",
          "height": 325
        },
        "id": "ziwndVPd9ktp",
        "outputId": "cc72e93e-5e07-4ba8-ffa9-3ebe2c028242"
      },
      "source": [
        "data = pd.read_csv('/content/drive/MyDrive/Colab Notebooks/dataFiles/Text_classification_news_article/rishika_csv_different_computer_with_iptc.csv',index_col=0)\r\n",
        "\r\n",
        "shape = data.shape\r\n",
        "columns = list(data.columns)\r\n",
        "\r\n",
        "print(\"the shape of the dataset is--->\",shape)\r\n",
        "print('The features are-------------->',columns)\r\n",
        "\r\n",
        "data.head(4)\r\n"
      ],
      "execution_count": 95,
      "outputs": [
        {
          "output_type": "stream",
          "text": [
            "the shape of the dataset is---> (10761, 8)\n",
            "The features are--------------> ['position', 'query', 'url', 'title', 'snippet', 'combined_text', 'level1_labels', 'level2_labels']\n"
          ],
          "name": "stdout"
        },
        {
          "output_type": "execute_result",
          "data": {
            "text/html": [
              "<div>\n",
              "<style scoped>\n",
              "    .dataframe tbody tr th:only-of-type {\n",
              "        vertical-align: middle;\n",
              "    }\n",
              "\n",
              "    .dataframe tbody tr th {\n",
              "        vertical-align: top;\n",
              "    }\n",
              "\n",
              "    .dataframe thead th {\n",
              "        text-align: right;\n",
              "    }\n",
              "</style>\n",
              "<table border=\"1\" class=\"dataframe\">\n",
              "  <thead>\n",
              "    <tr style=\"text-align: right;\">\n",
              "      <th></th>\n",
              "      <th>position</th>\n",
              "      <th>query</th>\n",
              "      <th>url</th>\n",
              "      <th>title</th>\n",
              "      <th>snippet</th>\n",
              "      <th>combined_text</th>\n",
              "      <th>level1_labels</th>\n",
              "      <th>level2_labels</th>\n",
              "    </tr>\n",
              "  </thead>\n",
              "  <tbody>\n",
              "    <tr>\n",
              "      <th>0</th>\n",
              "      <td>1</td>\n",
              "      <td>arts, culture, entertainment and media</td>\n",
              "      <td>https://www.bbc.com/news/entertainment_and_arts</td>\n",
              "      <td>Entertainment &amp; Arts - BBC News</td>\n",
              "      <td>Get the latest BBC Entertainment and Arts news...</td>\n",
              "      <td>Entertainment &amp; Arts - BBC News Get the latest...</td>\n",
              "      <td>arts, culture, entertainment and media</td>\n",
              "      <td>NaN</td>\n",
              "    </tr>\n",
              "    <tr>\n",
              "      <th>1</th>\n",
              "      <td>2</td>\n",
              "      <td>arts, culture, entertainment and media</td>\n",
              "      <td>https://www.champaigncounty.org/list/ql/arts-c...</td>\n",
              "      <td>Arts, Culture &amp; Entertainment | Champaign Coun...</td>\n",
              "      <td>Champaign County Chamber of Commerce - IL 303 ...</td>\n",
              "      <td>Arts, Culture &amp; Entertainment | Champaign Coun...</td>\n",
              "      <td>arts, culture, entertainment and media</td>\n",
              "      <td>NaN</td>\n",
              "    </tr>\n",
              "    <tr>\n",
              "      <th>2</th>\n",
              "      <td>3</td>\n",
              "      <td>arts, culture, entertainment and media</td>\n",
              "      <td>https://www.bls.gov/oes/current/oes270000.htm</td>\n",
              "      <td>Arts, Design, Entertainment, Sports, and Media...</td>\n",
              "      <td>27-0000 Arts, Design, Entertainment, Sports, a...</td>\n",
              "      <td>Arts, Design, Entertainment, Sports, and Media...</td>\n",
              "      <td>arts, culture, entertainment and media</td>\n",
              "      <td>NaN</td>\n",
              "    </tr>\n",
              "    <tr>\n",
              "      <th>3</th>\n",
              "      <td>4</td>\n",
              "      <td>arts, culture, entertainment and media</td>\n",
              "      <td>https://www.smc.edu/academics/areas-of-interes...</td>\n",
              "      <td>Arts, Media, &amp; Entertainment - Santa Monica Co...</td>\n",
              "      <td>Let your imagination run wild and free — explo...</td>\n",
              "      <td>Arts, Media, &amp; Entertainment - Santa Monica Co...</td>\n",
              "      <td>arts, culture, entertainment and media</td>\n",
              "      <td>NaN</td>\n",
              "    </tr>\n",
              "  </tbody>\n",
              "</table>\n",
              "</div>"
            ],
            "text/plain": [
              "   position  ... level2_labels\n",
              "0         1  ...           NaN\n",
              "1         2  ...           NaN\n",
              "2         3  ...           NaN\n",
              "3         4  ...           NaN\n",
              "\n",
              "[4 rows x 8 columns]"
            ]
          },
          "metadata": {
            "tags": []
          },
          "execution_count": 95
        }
      ]
    },
    {
      "cell_type": "code",
      "metadata": {
        "colab": {
          "base_uri": "https://localhost:8080/"
        },
        "id": "o6vxKuLt99xF",
        "outputId": "58b9ca0c-bd40-4a6b-8f28-fa927c46e5a9"
      },
      "source": [
        "print(\"The nunber of category----------->\",data['level1_labels'].nunique())\r\n",
        "print(\"The nunber of second category---->\",data['level2_labels'].nunique())"
      ],
      "execution_count": 96,
      "outputs": [
        {
          "output_type": "stream",
          "text": [
            "The nunber of category-----------> 17\n",
            "The nunber of second category----> 109\n"
          ],
          "name": "stdout"
        }
      ]
    },
    {
      "cell_type": "code",
      "metadata": {
        "colab": {
          "base_uri": "https://localhost:8080/"
        },
        "id": "8bjdxoJl-OFH",
        "outputId": "520b786e-7cd5-4110-aae2-114c4bef9142"
      },
      "source": [
        "print(\"The nunber of quieries---->\",data['query'].nunique())"
      ],
      "execution_count": 97,
      "outputs": [
        {
          "output_type": "stream",
          "text": [
            "The nunber of quieries----> 1296\n"
          ],
          "name": "stdout"
        }
      ]
    },
    {
      "cell_type": "code",
      "metadata": {
        "colab": {
          "base_uri": "https://localhost:8080/"
        },
        "id": "p0DnndimAUbd",
        "outputId": "8324a0c7-7109-4273-e3c8-2b5deacf78b5"
      },
      "source": [
        "data['position'].unique()"
      ],
      "execution_count": 98,
      "outputs": [
        {
          "output_type": "execute_result",
          "data": {
            "text/plain": [
              "array([ 1,  2,  3,  4,  5,  6,  7,  8,  9, 10])"
            ]
          },
          "metadata": {
            "tags": []
          },
          "execution_count": 98
        }
      ]
    },
    {
      "cell_type": "code",
      "metadata": {
        "colab": {
          "base_uri": "https://localhost:8080/",
          "height": 162
        },
        "id": "zhuGnZKzDFw7",
        "outputId": "f3f847b5-f80c-4077-fb1d-e01753157826"
      },
      "source": [
        "needed_columns = ['combined_text','query','level1_labels','level2_labels']\r\n",
        "data = data[needed_columns].copy()\r\n",
        "data.head(4)"
      ],
      "execution_count": 99,
      "outputs": [
        {
          "output_type": "execute_result",
          "data": {
            "text/html": [
              "<div>\n",
              "<style scoped>\n",
              "    .dataframe tbody tr th:only-of-type {\n",
              "        vertical-align: middle;\n",
              "    }\n",
              "\n",
              "    .dataframe tbody tr th {\n",
              "        vertical-align: top;\n",
              "    }\n",
              "\n",
              "    .dataframe thead th {\n",
              "        text-align: right;\n",
              "    }\n",
              "</style>\n",
              "<table border=\"1\" class=\"dataframe\">\n",
              "  <thead>\n",
              "    <tr style=\"text-align: right;\">\n",
              "      <th></th>\n",
              "      <th>combined_text</th>\n",
              "      <th>query</th>\n",
              "      <th>level1_labels</th>\n",
              "      <th>level2_labels</th>\n",
              "    </tr>\n",
              "  </thead>\n",
              "  <tbody>\n",
              "    <tr>\n",
              "      <th>0</th>\n",
              "      <td>Entertainment &amp; Arts - BBC News Get the latest...</td>\n",
              "      <td>arts, culture, entertainment and media</td>\n",
              "      <td>arts, culture, entertainment and media</td>\n",
              "      <td>NaN</td>\n",
              "    </tr>\n",
              "    <tr>\n",
              "      <th>1</th>\n",
              "      <td>Arts, Culture &amp; Entertainment | Champaign Coun...</td>\n",
              "      <td>arts, culture, entertainment and media</td>\n",
              "      <td>arts, culture, entertainment and media</td>\n",
              "      <td>NaN</td>\n",
              "    </tr>\n",
              "    <tr>\n",
              "      <th>2</th>\n",
              "      <td>Arts, Design, Entertainment, Sports, and Media...</td>\n",
              "      <td>arts, culture, entertainment and media</td>\n",
              "      <td>arts, culture, entertainment and media</td>\n",
              "      <td>NaN</td>\n",
              "    </tr>\n",
              "    <tr>\n",
              "      <th>3</th>\n",
              "      <td>Arts, Media, &amp; Entertainment - Santa Monica Co...</td>\n",
              "      <td>arts, culture, entertainment and media</td>\n",
              "      <td>arts, culture, entertainment and media</td>\n",
              "      <td>NaN</td>\n",
              "    </tr>\n",
              "  </tbody>\n",
              "</table>\n",
              "</div>"
            ],
            "text/plain": [
              "                                       combined_text  ... level2_labels\n",
              "0  Entertainment & Arts - BBC News Get the latest...  ...           NaN\n",
              "1  Arts, Culture & Entertainment | Champaign Coun...  ...           NaN\n",
              "2  Arts, Design, Entertainment, Sports, and Media...  ...           NaN\n",
              "3  Arts, Media, & Entertainment - Santa Monica Co...  ...           NaN\n",
              "\n",
              "[4 rows x 4 columns]"
            ]
          },
          "metadata": {
            "tags": []
          },
          "execution_count": 99
        }
      ]
    },
    {
      "cell_type": "markdown",
      "metadata": {
        "id": "2izCg83QIjX-"
      },
      "source": [
        "# Handling dublicate values"
      ]
    },
    {
      "cell_type": "code",
      "metadata": {
        "colab": {
          "base_uri": "https://localhost:8080/"
        },
        "id": "RvHs2z_oIA4D",
        "outputId": "f55cebad-d8b3-4ef5-d91b-e2ee0f479a7a"
      },
      "source": [
        "#delete the dublicate values\r\n",
        "data.duplicated().sum() # count the total duplicate samples"
      ],
      "execution_count": 100,
      "outputs": [
        {
          "output_type": "execute_result",
          "data": {
            "text/plain": [
              "362"
            ]
          },
          "metadata": {
            "tags": []
          },
          "execution_count": 100
        }
      ]
    },
    {
      "cell_type": "code",
      "metadata": {
        "id": "uXnm45LUIGP5"
      },
      "source": [
        "data.drop_duplicates(keep='last',inplace=True)"
      ],
      "execution_count": 101,
      "outputs": []
    },
    {
      "cell_type": "code",
      "metadata": {
        "colab": {
          "base_uri": "https://localhost:8080/"
        },
        "id": "I5DClpvOIKgR",
        "outputId": "a5b15d60-e38f-4e05-81e4-1c5136270df3"
      },
      "source": [
        "\r\n",
        "#there can be dublicate of author names so check for the dublicate headline and short discription\r\n",
        "data.duplicated(subset=[ 'combined_text']).sum()"
      ],
      "execution_count": 102,
      "outputs": [
        {
          "output_type": "execute_result",
          "data": {
            "text/plain": [
              "751"
            ]
          },
          "metadata": {
            "tags": []
          },
          "execution_count": 102
        }
      ]
    },
    {
      "cell_type": "code",
      "metadata": {
        "id": "RZDo1KILIQ7y"
      },
      "source": [
        "data.drop_duplicates(subset='combined_text' , keep ='last' , inplace=True)"
      ],
      "execution_count": 103,
      "outputs": []
    },
    {
      "cell_type": "code",
      "metadata": {
        "colab": {
          "base_uri": "https://localhost:8080/"
        },
        "id": "Ot9SYJHrIfl6",
        "outputId": "dd6eb40b-8b8c-4140-b291-a170f15e54cf"
      },
      "source": [
        "print(\"THe length of the datset after dublicate deletion------>\",data.shape)"
      ],
      "execution_count": 104,
      "outputs": [
        {
          "output_type": "stream",
          "text": [
            "THe length of the datset after dublicate deletion------> (9648, 4)\n"
          ],
          "name": "stdout"
        }
      ]
    },
    {
      "cell_type": "markdown",
      "metadata": {
        "id": "uvDauMSAIruC"
      },
      "source": [
        "# Handling null values"
      ]
    },
    {
      "cell_type": "code",
      "metadata": {
        "colab": {
          "base_uri": "https://localhost:8080/"
        },
        "id": "nyqV9PfmIqnM",
        "outputId": "7c970383-3d96-4b52-d652-f02824b50275"
      },
      "source": [
        "data.isnull().sum()"
      ],
      "execution_count": 105,
      "outputs": [
        {
          "output_type": "execute_result",
          "data": {
            "text/plain": [
              "combined_text      1\n",
              "query              0\n",
              "level1_labels      0\n",
              "level2_labels    133\n",
              "dtype: int64"
            ]
          },
          "metadata": {
            "tags": []
          },
          "execution_count": 105
        }
      ]
    },
    {
      "cell_type": "markdown",
      "metadata": {
        "id": "2HxWsIfO8J70"
      },
      "source": [
        " for now i am deleting only the null values in the 'combined_text' column, later when i am dealing with lavel2_labels, i will handle that null values"
      ]
    },
    {
      "cell_type": "code",
      "metadata": {
        "id": "DFQ1LNfBIzqb"
      },
      "source": [
        "data.dropna(subset =['combined_text'],axis=0 ,inplace=True , how='any')"
      ],
      "execution_count": 106,
      "outputs": []
    },
    {
      "cell_type": "code",
      "metadata": {
        "colab": {
          "base_uri": "https://localhost:8080/"
        },
        "id": "xnBqc7tDI97_",
        "outputId": "f916bd67-b206-418b-cbbc-5ec8a8aa47be"
      },
      "source": [
        "print(\"THe length of the datset after null values deletion------>\",data.shape)"
      ],
      "execution_count": 107,
      "outputs": [
        {
          "output_type": "stream",
          "text": [
            "THe length of the datset after null values deletion------> (9647, 4)\n"
          ],
          "name": "stdout"
        }
      ]
    },
    {
      "cell_type": "code",
      "metadata": {
        "colab": {
          "base_uri": "https://localhost:8080/",
          "height": 162
        },
        "id": "Tl2hhA7LJFz5",
        "outputId": "a8c829af-e64c-4603-8bdd-2d849cccbebe"
      },
      "source": [
        "data[data['combined_text'] == ' ']\r\n",
        "data = data.reset_index()\r\n",
        "data = data.drop('index',axis=1)\r\n",
        "data.head(4)"
      ],
      "execution_count": 108,
      "outputs": [
        {
          "output_type": "execute_result",
          "data": {
            "text/html": [
              "<div>\n",
              "<style scoped>\n",
              "    .dataframe tbody tr th:only-of-type {\n",
              "        vertical-align: middle;\n",
              "    }\n",
              "\n",
              "    .dataframe tbody tr th {\n",
              "        vertical-align: top;\n",
              "    }\n",
              "\n",
              "    .dataframe thead th {\n",
              "        text-align: right;\n",
              "    }\n",
              "</style>\n",
              "<table border=\"1\" class=\"dataframe\">\n",
              "  <thead>\n",
              "    <tr style=\"text-align: right;\">\n",
              "      <th></th>\n",
              "      <th>combined_text</th>\n",
              "      <th>query</th>\n",
              "      <th>level1_labels</th>\n",
              "      <th>level2_labels</th>\n",
              "    </tr>\n",
              "  </thead>\n",
              "  <tbody>\n",
              "    <tr>\n",
              "      <th>0</th>\n",
              "      <td>Arts, Culture &amp; Entertainment | Champaign Coun...</td>\n",
              "      <td>arts, culture, entertainment and media</td>\n",
              "      <td>arts, culture, entertainment and media</td>\n",
              "      <td>NaN</td>\n",
              "    </tr>\n",
              "    <tr>\n",
              "      <th>1</th>\n",
              "      <td>Arts, Design, Entertainment, Sports, and Media...</td>\n",
              "      <td>arts, culture, entertainment and media</td>\n",
              "      <td>arts, culture, entertainment and media</td>\n",
              "      <td>NaN</td>\n",
              "    </tr>\n",
              "    <tr>\n",
              "      <th>2</th>\n",
              "      <td>Arts, Media, &amp; Entertainment - Santa Monica Co...</td>\n",
              "      <td>arts, culture, entertainment and media</td>\n",
              "      <td>arts, culture, entertainment and media</td>\n",
              "      <td>NaN</td>\n",
              "    </tr>\n",
              "    <tr>\n",
              "      <th>3</th>\n",
              "      <td>Arts and Entertainment Management College Degr...</td>\n",
              "      <td>arts, culture, entertainment and media</td>\n",
              "      <td>arts, culture, entertainment and media</td>\n",
              "      <td>NaN</td>\n",
              "    </tr>\n",
              "  </tbody>\n",
              "</table>\n",
              "</div>"
            ],
            "text/plain": [
              "                                       combined_text  ... level2_labels\n",
              "0  Arts, Culture & Entertainment | Champaign Coun...  ...           NaN\n",
              "1  Arts, Design, Entertainment, Sports, and Media...  ...           NaN\n",
              "2  Arts, Media, & Entertainment - Santa Monica Co...  ...           NaN\n",
              "3  Arts and Entertainment Management College Degr...  ...           NaN\n",
              "\n",
              "[4 rows x 4 columns]"
            ]
          },
          "metadata": {
            "tags": []
          },
          "execution_count": 108
        }
      ]
    },
    {
      "cell_type": "markdown",
      "metadata": {
        "id": "QaAKcrwCKgvY"
      },
      "source": [
        "# Cleaning the combined text"
      ]
    },
    {
      "cell_type": "code",
      "metadata": {
        "colab": {
          "base_uri": "https://localhost:8080/",
          "height": 162
        },
        "id": "CQemyRueKf4k",
        "outputId": "27973276-f3cb-4622-8d00-656da35d6ec3"
      },
      "source": [
        "def preprocessor_text(text):\r\n",
        "    if isinstance((text), (str)):\r\n",
        "        text = re.sub('<[^>]*>', ' ', text)\r\n",
        "        text = re.sub('[\\W]+', ' ', text.lower())\r\n",
        "        return text\r\n",
        "    if isinstance((text), (list)):\r\n",
        "        return_list = []\r\n",
        "        for i in range(len(text)):\r\n",
        "            temp_text = re.sub('<[^>]*>', '', text[i])\r\n",
        "            temp_text = re.sub('[\\W]+', '', temp_text.lower())\r\n",
        "            return_list.append(temp_text)\r\n",
        "        return(return_list)\r\n",
        "\r\n",
        "data['combined_text'] = data['combined_text'].apply(preprocessor_text)\r\n",
        "\r\n",
        "data.head(4)"
      ],
      "execution_count": 109,
      "outputs": [
        {
          "output_type": "execute_result",
          "data": {
            "text/html": [
              "<div>\n",
              "<style scoped>\n",
              "    .dataframe tbody tr th:only-of-type {\n",
              "        vertical-align: middle;\n",
              "    }\n",
              "\n",
              "    .dataframe tbody tr th {\n",
              "        vertical-align: top;\n",
              "    }\n",
              "\n",
              "    .dataframe thead th {\n",
              "        text-align: right;\n",
              "    }\n",
              "</style>\n",
              "<table border=\"1\" class=\"dataframe\">\n",
              "  <thead>\n",
              "    <tr style=\"text-align: right;\">\n",
              "      <th></th>\n",
              "      <th>combined_text</th>\n",
              "      <th>query</th>\n",
              "      <th>level1_labels</th>\n",
              "      <th>level2_labels</th>\n",
              "    </tr>\n",
              "  </thead>\n",
              "  <tbody>\n",
              "    <tr>\n",
              "      <th>0</th>\n",
              "      <td>arts culture entertainment champaign county ch...</td>\n",
              "      <td>arts, culture, entertainment and media</td>\n",
              "      <td>arts, culture, entertainment and media</td>\n",
              "      <td>NaN</td>\n",
              "    </tr>\n",
              "    <tr>\n",
              "      <th>1</th>\n",
              "      <td>arts design entertainment sports and media occ...</td>\n",
              "      <td>arts, culture, entertainment and media</td>\n",
              "      <td>arts, culture, entertainment and media</td>\n",
              "      <td>NaN</td>\n",
              "    </tr>\n",
              "    <tr>\n",
              "      <th>2</th>\n",
              "      <td>arts media entertainment santa monica college ...</td>\n",
              "      <td>arts, culture, entertainment and media</td>\n",
              "      <td>arts, culture, entertainment and media</td>\n",
              "      <td>NaN</td>\n",
              "    </tr>\n",
              "    <tr>\n",
              "      <th>3</th>\n",
              "      <td>arts and entertainment management college degr...</td>\n",
              "      <td>arts, culture, entertainment and media</td>\n",
              "      <td>arts, culture, entertainment and media</td>\n",
              "      <td>NaN</td>\n",
              "    </tr>\n",
              "  </tbody>\n",
              "</table>\n",
              "</div>"
            ],
            "text/plain": [
              "                                       combined_text  ... level2_labels\n",
              "0  arts culture entertainment champaign county ch...  ...           NaN\n",
              "1  arts design entertainment sports and media occ...  ...           NaN\n",
              "2  arts media entertainment santa monica college ...  ...           NaN\n",
              "3  arts and entertainment management college degr...  ...           NaN\n",
              "\n",
              "[4 rows x 4 columns]"
            ]
          },
          "metadata": {
            "tags": []
          },
          "execution_count": 109
        }
      ]
    },
    {
      "cell_type": "markdown",
      "metadata": {
        "id": "mfto5IdGLNzZ"
      },
      "source": [
        "# Balance the dataset"
      ]
    },
    {
      "cell_type": "code",
      "metadata": {
        "id": "srfoCrVVO30k"
      },
      "source": [
        "#helper functions\r\n",
        "def downsample(df , label):\r\n",
        "  g = df.groupby(label , group_keys=False)\r\n",
        "  balaced_df = pd.DataFrame(g.apply(lambda x : x.sample(g.size().min()))).reset_index(drop=True)\r\n",
        "  return balaced_df\r\n",
        "\r\n",
        "\r\n",
        "def balace_category(data , category_column , downsample_value):\r\n",
        "  #to handle the categories easily, we have to change the dtype of the 'query' to category\r\n",
        "  data[category_column] = data[category_column].astype('category')\r\n",
        "\r\n",
        "  category = data[category_column].value_counts().index\r\n",
        "  print(\"The shape before deletion------------------------------------------>\",data.shape)\r\n",
        "  print()\r\n",
        "  print(\"The number of category in the {} column------------------------->{}\".format(category_column , len(category)))\r\n",
        "\r\n",
        "  #seperate the column which has to be delete\r\n",
        "  need_to_be_deleted = category[(data[category_column].value_counts() < downsample_value)]\r\n",
        "  print(\"The number of category need to be deleted in the {} column------>{}\".format(category_column , len(need_to_be_deleted)))\r\n",
        "\r\n",
        "  #delete the unwanted category\r\n",
        "  data[category_column] = data[category_column].cat.remove_categories(need_to_be_deleted) #set nan for the categories need to be deletd and then use dropna to delete those things\r\n",
        "  data.dropna(axis=0 , how='any',inplace=True) #delete the nan category\r\n",
        "\r\n",
        "  print(\"The number of category after deletion------------------------------>\",len(data[category_column].value_counts().index))\r\n",
        "  print()\r\n",
        "  print(\"The shape after deletion------------------------------------------->\",data.shape)\r\n",
        "  print()\r\n",
        "\r\n",
        "  #down sample the query category to its minimum value\r\n",
        "  data = downsample(data , category_column) #call the helper function\r\n",
        "  #data[category_column].value_counts()\r\n",
        "\r\n",
        "  #saffule the dataset\r\n",
        "  data = shuffle(data)\r\n",
        "  data.reset_index(inplace=True, drop=True) \r\n",
        "  \r\n",
        "\r\n",
        "  return data"
      ],
      "execution_count": 110,
      "outputs": []
    },
    {
      "cell_type": "code",
      "metadata": {
        "colab": {
          "base_uri": "https://localhost:8080/",
          "height": 132
        },
        "id": "m-0dMreXO6kq",
        "outputId": "f6b49919-98dd-4b33-f5e3-a396c2847f2a"
      },
      "source": [
        "#for my understanding- if you cant understand the healper function , uncommend this and try each parts seperately, you will get a clear idea of what is happening\r\n",
        "\"\"\"\r\n",
        "#part-1\r\n",
        "#to handle the categories easily, we have to change the dtype of the 'query' to category\r\n",
        "data_query['query'] = data_query['query'].astype('category')\r\n",
        "\r\n",
        "#part-2\r\n",
        "query_category = data_query['query'].value_counts().index\r\n",
        "print(\"The shape before deletion------------------------------------------>\",data_query.shape)\r\n",
        "print()\r\n",
        "print(\"The number of category in the query column------------------------->\",len(query_category))\r\n",
        "\r\n",
        "#seperate the column which has to be delete\r\n",
        "need_to_be_deleted = query_category[(data_query['query'].value_counts()<6)]\r\n",
        "print(\"The number of category need to be deleted in the query column------>\",len(need_to_be_deleted))\r\n",
        "\r\n",
        "#delete the unwanted category\r\n",
        "data_query['query'] = data_query['query'].cat.remove_categories(need_to_be_deleted) #set nan for the categories need to be deletd and then use dropna to delete those things\r\n",
        "data_query.dropna(axis=0 , how='any',inplace=True) #delete the nan category\r\n",
        "\r\n",
        "print(\"The number of category after deletion------------------------------>\",len(data_query['query'].value_counts().index))\r\n",
        "print()\r\n",
        "print(\"The shape after deletion------------------------------------------->\",data_query.shape)\r\n",
        "print()\r\n",
        "\r\n",
        "#part-3\r\n",
        "#down sample the query category to its minimum value\r\n",
        "data_query = downsample(data_query , 'query')\r\n",
        "data_query['query'].value_counts()\"\"\"\r\n"
      ],
      "execution_count": 111,
      "outputs": [
        {
          "output_type": "execute_result",
          "data": {
            "application/vnd.google.colaboratory.intrinsic+json": {
              "type": "string"
            },
            "text/plain": [
              "'\\n#part-1\\n#to handle the categories easily, we have to change the dtype of the \\'query\\' to category\\ndata_query[\\'query\\'] = data_query[\\'query\\'].astype(\\'category\\')\\n\\n#part-2\\nquery_category = data_query[\\'query\\'].value_counts().index\\nprint(\"The shape before deletion------------------------------------------>\",data_query.shape)\\nprint()\\nprint(\"The number of category in the query column------------------------->\",len(query_category))\\n\\n#seperate the column which has to be delete\\nneed_to_be_deleted = query_category[(data_query[\\'query\\'].value_counts()<6)]\\nprint(\"The number of category need to be deleted in the query column------>\",len(need_to_be_deleted))\\n\\n#delete the unwanted category\\ndata_query[\\'query\\'] = data_query[\\'query\\'].cat.remove_categories(need_to_be_deleted) #set nan for the categories need to be deletd and then use dropna to delete those things\\ndata_query.dropna(axis=0 , how=\\'any\\',inplace=True) #delete the nan category\\n\\nprint(\"The number of category after deletion------------------------------>\",len(data_query[\\'query\\'].value_counts().index))\\nprint()\\nprint(\"The shape after deletion------------------------------------------->\",data_query.shape)\\nprint()\\n\\n#part-3\\n#down sample the query category to its minimum value\\ndata_query = downsample(data_query , \\'query\\')\\ndata_query[\\'query\\'].value_counts()'"
            ]
          },
          "metadata": {
            "tags": []
          },
          "execution_count": 111
        }
      ]
    },
    {
      "cell_type": "code",
      "metadata": {
        "id": "SMYY44-50okY"
      },
      "source": [
        "#healper function\r\n",
        "label = LabelEncoder()\r\n",
        "\r\n",
        "def split_and_tfidfVectorization(X , y , max_df , min_df):\r\n",
        "\r\n",
        "  #label the y value\r\n",
        "  y = label.fit_transform(y)\r\n",
        "  #split the dataset\r\n",
        "  X_train,X_test,y_train,y_test = train_test_split(X,y,test_size = 0.2,random_state = 42)\r\n",
        "\r\n",
        "  #tfidf\r\n",
        "  vecto =  TfidfVectorizer(stop_words='english',max_df = max_df ,min_df= min_df,\r\n",
        "                                   ngram_range=(1, 2),lowercase=True, max_features=5000)\r\n",
        "  vecto = vecto.fit(X_train)\r\n",
        "\r\n",
        "  X_train = vecto.transform(X_train).toarray()\r\n",
        "  X_test = vecto.transform(X_test).toarray()\r\n",
        "\r\n",
        "  #print the shapes\r\n",
        "  print(\"The shape of the X train----------->\",X_train.shape)\r\n",
        "  print(\"The shape of the y train----------->\",y_train.shape)\r\n",
        "  print(\"The shape of the X test------------>\",X_test.shape)\r\n",
        "  print(\"The shape of the y test------------>\",y_test.shape)\r\n",
        "\r\n",
        "  return X_train,X_test,y_train,y_test,vecto"
      ],
      "execution_count": 112,
      "outputs": []
    },
    {
      "cell_type": "markdown",
      "metadata": {
        "id": "lhkmBhAi5Vj4"
      },
      "source": [
        "# Model training"
      ]
    },
    {
      "cell_type": "code",
      "metadata": {
        "id": "Ksv6XLteQH-0"
      },
      "source": [
        "def classifier_scores(y_train,y_test, pred_train, pred_test):\r\n",
        "    \r\n",
        "    print()\r\n",
        "    print(\"Train data accuracy score: \", accuracy_score(y_train,pred_train))    \r\n",
        "    print(\"Test data accuracy score: \", accuracy_score(y_test,pred_test))\r\n",
        "    print()\r\n",
        "    print(\"Recall score on train data: \", recall_score(y_train,pred_train, average='macro'))\r\n",
        "    print(\"Recall score on test data: \",recall_score( y_test,pred_test, average='macro'))\r\n",
        "    print()\r\n",
        "    \r\n",
        "    print(\"Precision score on train data: \",precision_score(y_train,pred_train, average='macro'))\r\n",
        "    print(\"Precision score on test data: \",precision_score(y_test,pred_test, average='macro'))\r\n",
        "    print()\r\n",
        "    print(\"F1 score on train data: \",f1_score(y_train,pred_train, average='macro'))\r\n",
        "    print(\"F1 score on test data: \",f1_score(y_test,pred_test, average='macro'))"
      ],
      "execution_count": 113,
      "outputs": []
    },
    {
      "cell_type": "markdown",
      "metadata": {
        "id": "5pxTJCvl55kX"
      },
      "source": [
        "# Logistric Regression"
      ]
    },
    {
      "cell_type": "code",
      "metadata": {
        "id": "OePdG_S45aV7"
      },
      "source": [
        "def logistricRegression( X_train,X_test,y_train,y_test):\r\n",
        "  log_reg = LogisticRegression()\r\n",
        "\r\n",
        "  log_reg.fit(X_train , y_train)\r\n",
        "\r\n",
        "  y_train_pred = log_reg.predict(X_train)\r\n",
        "  y_test_pred = log_reg.predict(X_test)\r\n",
        "\r\n",
        "  classifier_scores(y_train,y_test,y_train_pred,y_test_pred) #call the healper function\r\n",
        "\r\n",
        "  return log_reg"
      ],
      "execution_count": 114,
      "outputs": []
    },
    {
      "cell_type": "markdown",
      "metadata": {
        "id": "Ung4-HBwqk8E"
      },
      "source": [
        "### 'query' categories"
      ]
    },
    {
      "cell_type": "markdown",
      "metadata": {
        "id": "mX3ZAwz3kXhd"
      },
      "source": [
        "- When doing the balancing , we have to delete the categorie, which are having very few sample. Here by i am deleting the categories which are having less than 6 sample. \r\n",
        "- after deletion, we have to resample the data by select 6 samples randomly from each categories. "
      ]
    },
    {
      "cell_type": "code",
      "metadata": {
        "colab": {
          "base_uri": "https://localhost:8080/"
        },
        "id": "g6u5IWUOK_uf",
        "outputId": "68bfc55b-b006-4171-fa27-fb267749a86e"
      },
      "source": [
        "#copy the original data \r\n",
        "data2 = data.copy()\r\n",
        "data_query = data[['combined_text' , 'query']].copy()\r\n",
        "\r\n",
        "#balace the dataset according to 'query' column\r\n",
        "print('-'*50)\r\n",
        "print(\"Balancing the data------\")\r\n",
        "data_query = balace_category(data = data_query , category_column= 'query' , downsample_value= 6)"
      ],
      "execution_count": 115,
      "outputs": [
        {
          "output_type": "stream",
          "text": [
            "--------------------------------------------------\n",
            "Balancing the data------\n",
            "The shape before deletion------------------------------------------> (9647, 2)\n",
            "\n",
            "The number of category in the query column------------------------->1296\n",
            "The number of category need to be deleted in the query column------>254\n",
            "The number of category after deletion------------------------------> 1042\n",
            "\n",
            "The shape after deletion-------------------------------------------> (8570, 2)\n",
            "\n"
          ],
          "name": "stdout"
        }
      ]
    },
    {
      "cell_type": "code",
      "metadata": {
        "colab": {
          "base_uri": "https://localhost:8080/"
        },
        "id": "R7auqDcHJznT",
        "outputId": "adee7bb0-689b-4ab3-c109-613f922d93da"
      },
      "source": [
        "X = data_query['combined_text']\r\n",
        "y = data_query['query']\r\n",
        "\r\n",
        "X_train,X_test,y_train,y_test,vecto_query = split_and_tfidfVectorization(X,y , max_df = 0.99 , min_df = 6)"
      ],
      "execution_count": 116,
      "outputs": [
        {
          "output_type": "stream",
          "text": [
            "The shape of the X train-----------> (5001, 4585)\n",
            "The shape of the y train-----------> (5001,)\n",
            "The shape of the X test------------> (1251, 4585)\n",
            "The shape of the y test------------> (1251,)\n"
          ],
          "name": "stdout"
        }
      ]
    },
    {
      "cell_type": "code",
      "metadata": {
        "colab": {
          "base_uri": "https://localhost:8080/"
        },
        "id": "xA11PEOplfC3",
        "outputId": "f9e7a34c-8cc1-4bbd-e7de-a663a02bc15e"
      },
      "source": [
        "# train the logistric regression model\r\n",
        "log_reg_query = logistricRegression(X_train,X_test,y_train,y_test)"
      ],
      "execution_count": 117,
      "outputs": [
        {
          "output_type": "stream",
          "text": [
            "\n",
            "Train data accuracy score:  0.8922215556888622\n",
            "Test data accuracy score:  0.3796962430055955\n",
            "\n",
            "Recall score on train data:  0.861724248240563\n",
            "Recall score on test data:  0.38473684210526315\n",
            "\n",
            "Precision score on train data:  0.8852524900989391\n",
            "Precision score on test data:  0.3419135338345865\n",
            "\n",
            "F1 score on train data:  0.8560690564596187\n",
            "F1 score on test data:  0.3390083542188805\n"
          ],
          "name": "stdout"
        },
        {
          "output_type": "stream",
          "text": [
            "/usr/local/lib/python3.6/dist-packages/sklearn/metrics/_classification.py:1272: UndefinedMetricWarning: Recall is ill-defined and being set to 0.0 in labels with no true samples. Use `zero_division` parameter to control this behavior.\n",
            "  _warn_prf(average, modifier, msg_start, len(result))\n",
            "/usr/local/lib/python3.6/dist-packages/sklearn/metrics/_classification.py:1272: UndefinedMetricWarning: Precision is ill-defined and being set to 0.0 in labels with no predicted samples. Use `zero_division` parameter to control this behavior.\n",
            "  _warn_prf(average, modifier, msg_start, len(result))\n"
          ],
          "name": "stderr"
        }
      ]
    },
    {
      "cell_type": "markdown",
      "metadata": {
        "id": "WfMS5Vu77MSi"
      },
      "source": [
        "# Level1_label classification"
      ]
    },
    {
      "cell_type": "code",
      "metadata": {
        "colab": {
          "base_uri": "https://localhost:8080/"
        },
        "id": "9gqO_pd_HAVD",
        "outputId": "6a8eaa17-01ef-4688-c621-18a925333562"
      },
      "source": [
        "# set the dataset\r\n",
        "data_lavel1 = data[['combined_text' , 'level1_labels']]\r\n",
        "\r\n",
        "#check fot the downsample value\r\n",
        "data_lavel1['level1_labels'].value_counts()"
      ],
      "execution_count": 118,
      "outputs": [
        {
          "output_type": "execute_result",
          "data": {
            "text/plain": [
              "sport                                        2424\n",
              "economy, business and finance                1950\n",
              "politics                                      765\n",
              "arts, culture, entertainment and media        544\n",
              "crime, law and justice                        486\n",
              "health                                        458\n",
              "science and technology                        432\n",
              "religion and belief                           429\n",
              "society                                       411\n",
              "lifestyle and leisure                         406\n",
              "labour                                        265\n",
              "disaster, accident and emergency incident     241\n",
              "conflict, war and peace                       231\n",
              "environment                                   225\n",
              "education                                     197\n",
              "human interest                                144\n",
              "weather                                        39\n",
              "Name: level1_labels, dtype: int64"
            ]
          },
          "metadata": {
            "tags": []
          },
          "execution_count": 118
        }
      ]
    },
    {
      "cell_type": "code",
      "metadata": {
        "colab": {
          "base_uri": "https://localhost:8080/",
          "height": 683
        },
        "id": "7ttpR8ve7tXa",
        "outputId": "e78d3608-594d-400d-c371-9fe6d6db0d68"
      },
      "source": [
        "data_labbel1_category = data_lavel1['level1_labels'].value_counts()\r\n",
        "\r\n",
        "plt.figure(figsize=(25,18)) \r\n",
        "\r\n",
        "sns.barplot(y = data_labbel1_category.index , x=data_labbel1_category.values , )\r\n",
        "\r\n",
        "plt.title(\"The distribution of level1_labels\")\r\n",
        "plt.xlabel(\"labels\")\r\n",
        "plt.ylabel(\"The number of samples\")\r\n",
        "\r\n",
        "plt.yticks(rotation=0,fontsize = 28)\r\n",
        "plt.xticks(rotation=0,fontsize = 28)\r\n",
        "plt.show()\r\n",
        "#plt.savefig(r\"./author_bar.png\")"
      ],
      "execution_count": 119,
      "outputs": [
        {
          "output_type": "display_data",
          "data": {
            "image/png": "[encoded data removed]",
            "text/plain": [
              "<Figure size 1800x1296 with 1 Axes>"
            ]
          },
          "metadata": {
            "tags": [],
            "needs_background": "light"
          }
        }
      ]
    },
    {
      "cell_type": "markdown",
      "metadata": {
        "id": "nh-AAjuo_7np"
      },
      "source": [
        "## Model training with out category balancing"
      ]
    },
    {
      "cell_type": "code",
      "metadata": {
        "colab": {
          "base_uri": "https://localhost:8080/"
        },
        "id": "U2VR4ieY-Mdr",
        "outputId": "75f385ac-cfb6-41f5-c10d-8ab8d1cf9c4d"
      },
      "source": [
        "# train the model with out data balancing\r\n",
        "X = data_lavel1['combined_text']\r\n",
        "y = data_lavel1['level1_labels']\r\n",
        "print('The lenth of the dataset',len(X))\r\n",
        "print()\r\n",
        "print()\r\n",
        "print('-'*50)\r\n",
        "print('Spliting and Vectorizing the dataset')\r\n",
        "X_train,X_test,y_train,y_test,vecto_level1 = split_and_tfidfVectorization(X,y , max_df = 0.99 , min_df = 8)\r\n",
        "\r\n",
        "#train and eveluate the model\r\n",
        "print('-'*50)\r\n",
        "print(\"Training the model.......................\")\r\n",
        "log_reg_level1 = logistricRegression(X_train,X_test,y_train,y_test)"
      ],
      "execution_count": 120,
      "outputs": [
        {
          "output_type": "stream",
          "text": [
            "The lenth of the dataset 9647\n",
            "\n",
            "\n",
            "--------------------------------------------------\n",
            "Spliting and Vectorizing the dataset\n",
            "The shape of the X train-----------> (7717, 5000)\n",
            "The shape of the y train-----------> (7717,)\n",
            "The shape of the X test------------> (1930, 5000)\n",
            "The shape of the y test------------> (1930,)\n",
            "--------------------------------------------------\n",
            "Training the model.......................\n"
          ],
          "name": "stdout"
        },
        {
          "output_type": "stream",
          "text": [
            "/usr/local/lib/python3.6/dist-packages/sklearn/linear_model/_logistic.py:940: ConvergenceWarning: lbfgs failed to converge (status=1):\n",
            "STOP: TOTAL NO. of ITERATIONS REACHED LIMIT.\n",
            "\n",
            "Increase the number of iterations (max_iter) or scale the data as shown in:\n",
            "    https://scikit-learn.org/stable/modules/preprocessing.html\n",
            "Please also refer to the documentation for alternative solver options:\n",
            "    https://scikit-learn.org/stable/modules/linear_model.html#logistic-regression\n",
            "  extra_warning_msg=_LOGISTIC_SOLVER_CONVERGENCE_MSG)\n"
          ],
          "name": "stderr"
        },
        {
          "output_type": "stream",
          "text": [
            "\n",
            "Train data accuracy score:  0.8960736037320202\n",
            "Test data accuracy score:  0.7772020725388601\n",
            "\n",
            "Recall score on train data:  0.8169409681167947\n",
            "Recall score on test data:  0.6408217519903738\n",
            "\n",
            "Precision score on train data:  0.9427309456765781\n",
            "Precision score on test data:  0.866525294651324\n",
            "\n",
            "F1 score on train data:  0.8689008605995892\n",
            "F1 score on test data:  0.7194082611612839\n"
          ],
          "name": "stdout"
        }
      ]
    },
    {
      "cell_type": "markdown",
      "metadata": {
        "id": "ZVMvE2mFABJ_"
      },
      "source": [
        "## Model trainig with category balancing"
      ]
    },
    {
      "cell_type": "code",
      "metadata": {
        "colab": {
          "base_uri": "https://localhost:8080/"
        },
        "id": "eBPHczRl_Guo",
        "outputId": "202d71b4-5349-4a67-c285-4b43f388d9bc"
      },
      "source": [
        "#balace the dataset according to 'level1_labels' column\r\n",
        "print('-'*50)\r\n",
        "print(\"Balancing the data------\")\r\n",
        "data_query = balace_category(data = data_lavel1 , category_column= 'level1_labels' , downsample_value= 237)\r\n",
        "\r\n",
        "#split and Vectorize\r\n",
        "print('-'*50)\r\n",
        "print('Spliting and Vectorizing the dataset')\r\n",
        "X_train,X_test,y_train,y_test,vecto_level1 = split_and_tfidfVectorization(X,y , max_df = 0.99 , min_df = 7)\r\n",
        "\r\n",
        "#train and eveluate the model\r\n",
        "print('-'*50)\r\n",
        "print(\"Training the model.......................\")\r\n",
        "log_reg_level1_balanced = logistricRegression(X_train,X_test,y_train,y_test)"
      ],
      "execution_count": 121,
      "outputs": [
        {
          "output_type": "stream",
          "text": [
            "--------------------------------------------------\n",
            "Balancing the data------\n",
            "The shape before deletion------------------------------------------> (9647, 2)\n",
            "\n",
            "The number of category in the level1_labels column------------------------->17\n",
            "The number of category need to be deleted in the level1_labels column------>5\n",
            "The number of category after deletion------------------------------> 12\n",
            "\n",
            "The shape after deletion-------------------------------------------> (8811, 2)\n",
            "\n",
            "--------------------------------------------------\n",
            "Spliting and Vectorizing the dataset\n"
          ],
          "name": "stdout"
        },
        {
          "output_type": "stream",
          "text": [
            "/usr/local/lib/python3.6/dist-packages/ipykernel_launcher.py:10: SettingWithCopyWarning: \n",
            "A value is trying to be set on a copy of a slice from a DataFrame.\n",
            "Try using .loc[row_indexer,col_indexer] = value instead\n",
            "\n",
            "See the caveats in the documentation: https://pandas.pydata.org/pandas-docs/stable/user_guide/indexing.html#returning-a-view-versus-a-copy\n",
            "  # Remove the CWD from sys.path while we load stuff.\n",
            "/usr/local/lib/python3.6/dist-packages/ipykernel_launcher.py:22: SettingWithCopyWarning: \n",
            "A value is trying to be set on a copy of a slice from a DataFrame.\n",
            "Try using .loc[row_indexer,col_indexer] = value instead\n",
            "\n",
            "See the caveats in the documentation: https://pandas.pydata.org/pandas-docs/stable/user_guide/indexing.html#returning-a-view-versus-a-copy\n",
            "/usr/local/lib/python3.6/dist-packages/ipykernel_launcher.py:23: SettingWithCopyWarning: \n",
            "A value is trying to be set on a copy of a slice from a DataFrame\n",
            "\n",
            "See the caveats in the documentation: https://pandas.pydata.org/pandas-docs/stable/user_guide/indexing.html#returning-a-view-versus-a-copy\n"
          ],
          "name": "stderr"
        },
        {
          "output_type": "stream",
          "text": [
            "The shape of the X train-----------> (7717, 5000)\n",
            "The shape of the y train-----------> (7717,)\n",
            "The shape of the X test------------> (1930, 5000)\n",
            "The shape of the y test------------> (1930,)\n",
            "--------------------------------------------------\n",
            "Training the model.......................\n",
            "\n",
            "Train data accuracy score:  0.9013865491771413\n",
            "Test data accuracy score:  0.7818652849740932\n",
            "\n",
            "Recall score on train data:  0.8231215451332111\n",
            "Recall score on test data:  0.6485010283248824\n",
            "\n",
            "Precision score on train data:  0.9457057391716359\n",
            "Precision score on test data:  0.8698027272027391\n",
            "\n",
            "F1 score on train data:  0.8739776044146459\n",
            "F1 score on test data:  0.7258931022448721\n"
          ],
          "name": "stdout"
        }
      ]
    },
    {
      "cell_type": "markdown",
      "metadata": {
        "id": "afT9iMzvCFPR"
      },
      "source": [
        "# 'level2_labels' category"
      ]
    },
    {
      "cell_type": "code",
      "metadata": {
        "colab": {
          "base_uri": "https://localhost:8080/"
        },
        "id": "8ddiB_MwBYbA",
        "outputId": "e2597be9-c456-4270-e051-abeee0ee6ae1"
      },
      "source": [
        "# set the dataset\r\n",
        "data_lavel2 = data[['combined_text' , 'level2_labels']].copy()\r\n",
        "\r\n",
        "#check fot the downsample value\r\n",
        "data_lavel2['level2_labels'].value_counts()"
      ],
      "execution_count": 122,
      "outputs": [
        {
          "output_type": "execute_result",
          "data": {
            "text/plain": [
              "competition discipline                        2213\n",
              "economic sector                               1183\n",
              "arts and entertainment                         425\n",
              "economy                                        343\n",
              "leisure                                        305\n",
              "                                              ... \n",
              "non-governmental organisation                    5\n",
              "bodybuilding                                     4\n",
              "sport industry                                   4\n",
              "religious institutions and state relations       4\n",
              "religious education                              4\n",
              "Name: level2_labels, Length: 109, dtype: int64"
            ]
          },
          "metadata": {
            "tags": []
          },
          "execution_count": 122
        }
      ]
    },
    {
      "cell_type": "code",
      "metadata": {
        "colab": {
          "base_uri": "https://localhost:8080/"
        },
        "id": "FkT1iuEKCeCY",
        "outputId": "304ff752-df45-4091-b76a-4dd59f985027"
      },
      "source": [
        "# handling the null values\r\n",
        "data_lavel2.isnull().sum()"
      ],
      "execution_count": 123,
      "outputs": [
        {
          "output_type": "execute_result",
          "data": {
            "text/plain": [
              "combined_text      0\n",
              "level2_labels    133\n",
              "dtype: int64"
            ]
          },
          "metadata": {
            "tags": []
          },
          "execution_count": 123
        }
      ]
    },
    {
      "cell_type": "code",
      "metadata": {
        "colab": {
          "base_uri": "https://localhost:8080/"
        },
        "id": "M7-AK2W-CnWS",
        "outputId": "5e809ba0-69b4-4ced-f40a-2c39f99a62fe"
      },
      "source": [
        "data_lavel2.dropna(axis=0 ,inplace =True , how ='any')\r\n",
        "print('The shape of the dataset-------------->',data_lavel2.shape)"
      ],
      "execution_count": 124,
      "outputs": [
        {
          "output_type": "stream",
          "text": [
            "The shape of the dataset--------------> (9514, 2)\n"
          ],
          "name": "stdout"
        }
      ]
    },
    {
      "cell_type": "code",
      "metadata": {
        "id": "328feLZmC4f0"
      },
      "source": [
        "category_count = list(data_lavel2['level2_labels'].value_counts().values)\r\n",
        "#category_count  # 2213 --->206-->121--->90-->83--->67--->54-->44--->39--->20....>10...11...6..7..5..4.."
      ],
      "execution_count": 125,
      "outputs": []
    },
    {
      "cell_type": "markdown",
      "metadata": {
        "id": "x6aF1htBEEqU"
      },
      "source": [
        "## Model training without data balancing"
      ]
    },
    {
      "cell_type": "code",
      "metadata": {
        "colab": {
          "base_uri": "https://localhost:8080/"
        },
        "id": "Iu-cBCfSDXti",
        "outputId": "01026967-84d4-4234-b7af-8481219b41d6"
      },
      "source": [
        "# train the model with out data balancing\r\n",
        "X = data_lavel2['combined_text']\r\n",
        "y = data_lavel2['level2_labels']\r\n",
        "print('The lenth of the dataset',len(X))\r\n",
        "print()\r\n",
        "print()\r\n",
        "print('-'*50)\r\n",
        "print('Spliting and Vectorizing the dataset')\r\n",
        "X_train,X_test,y_train,y_test,vecto_level2 = split_and_tfidfVectorization(X,y , max_df = 0.99 , min_df = 8)\r\n",
        "\r\n",
        "#train and eveluate the model\r\n",
        "print('-'*50)\r\n",
        "print(\"Training the model.......................\")\r\n",
        "log_reg_level2 = logistricRegression(X_train,X_test,y_train,y_test)"
      ],
      "execution_count": 126,
      "outputs": [
        {
          "output_type": "stream",
          "text": [
            "The lenth of the dataset 9514\n",
            "\n",
            "\n",
            "--------------------------------------------------\n",
            "Spliting and Vectorizing the dataset\n",
            "The shape of the X train-----------> (7611, 4962)\n",
            "The shape of the y train-----------> (7611,)\n",
            "The shape of the X test------------> (1903, 4962)\n",
            "The shape of the y test------------> (1903,)\n",
            "--------------------------------------------------\n",
            "Training the model.......................\n"
          ],
          "name": "stdout"
        },
        {
          "output_type": "stream",
          "text": [
            "/usr/local/lib/python3.6/dist-packages/sklearn/linear_model/_logistic.py:940: ConvergenceWarning: lbfgs failed to converge (status=1):\n",
            "STOP: TOTAL NO. of ITERATIONS REACHED LIMIT.\n",
            "\n",
            "Increase the number of iterations (max_iter) or scale the data as shown in:\n",
            "    https://scikit-learn.org/stable/modules/preprocessing.html\n",
            "Please also refer to the documentation for alternative solver options:\n",
            "    https://scikit-learn.org/stable/modules/linear_model.html#logistic-regression\n",
            "  extra_warning_msg=_LOGISTIC_SOLVER_CONVERGENCE_MSG)\n"
          ],
          "name": "stderr"
        },
        {
          "output_type": "stream",
          "text": [
            "\n",
            "Train data accuracy score:  0.7658651951123374\n",
            "Test data accuracy score:  0.6111403047819233\n",
            "\n",
            "Recall score on train data:  0.3510001526213705\n",
            "Recall score on test data:  0.2526907948997323\n",
            "\n",
            "Precision score on train data:  0.5757070328752937\n",
            "Precision score on test data:  0.4641971674788409\n",
            "\n",
            "F1 score on train data:  0.41073756701095104\n",
            "F1 score on test data:  0.302060511496685\n"
          ],
          "name": "stdout"
        },
        {
          "output_type": "stream",
          "text": [
            "/usr/local/lib/python3.6/dist-packages/sklearn/metrics/_classification.py:1272: UndefinedMetricWarning: Precision is ill-defined and being set to 0.0 in labels with no predicted samples. Use `zero_division` parameter to control this behavior.\n",
            "  _warn_prf(average, modifier, msg_start, len(result))\n"
          ],
          "name": "stderr"
        }
      ]
    },
    {
      "cell_type": "markdown",
      "metadata": {
        "id": "nCMc8hCOEz52"
      },
      "source": [
        "## Model training with Data Balancing\r\n"
      ]
    },
    {
      "cell_type": "code",
      "metadata": {
        "colab": {
          "base_uri": "https://localhost:8080/"
        },
        "id": "LrFgK-jiEXIU",
        "outputId": "876ee40c-b63a-4a50-9506-60427d3413f7"
      },
      "source": [
        "#balace the dataset according to 'level1_labels' column\r\n",
        "print('-'*100)\r\n",
        "print(\"Balancing the data------\")\r\n",
        "data_query = balace_category(data = data_lavel2 , category_column= 'level2_labels' , downsample_value= 39)\r\n",
        "\r\n",
        "#split and Vectorize\r\n",
        "print('-'*100)\r\n",
        "print('Spliting and Vectorizing the dataset')\r\n",
        "X_train,X_test,y_train,y_test,vecto_level2_balanced = split_and_tfidfVectorization(X,y , max_df = 0.99 , min_df = 7)\r\n",
        "\r\n",
        "#train and eveluate the model\r\n",
        "print('-'*100)\r\n",
        "print(\"Training the model.......................\")\r\n",
        "log_reg_level2_balanced = logistricRegression(X_train,X_test,y_train,y_test)"
      ],
      "execution_count": 127,
      "outputs": [
        {
          "output_type": "stream",
          "text": [
            "--------------------------------------------------\n",
            "Balancing the data------\n",
            "The shape before deletion------------------------------------------> (9514, 2)\n",
            "\n",
            "The number of category in the level2_labels column------------------------->109\n",
            "The number of category need to be deleted in the level2_labels column------>58\n",
            "The number of category after deletion------------------------------> 51\n",
            "\n",
            "The shape after deletion-------------------------------------------> (8798, 2)\n",
            "\n",
            "--------------------------------------------------\n",
            "Spliting and Vectorizing the dataset\n",
            "The shape of the X train-----------> (7611, 5000)\n",
            "The shape of the y train-----------> (7611,)\n",
            "The shape of the X test------------> (1903, 5000)\n",
            "The shape of the y test------------> (1903,)\n",
            "--------------------------------------------------\n",
            "Training the model.......................\n",
            "\n",
            "Train data accuracy score:  0.7745368545526212\n",
            "Test data accuracy score:  0.6163951655281135\n",
            "\n",
            "Recall score on train data:  0.3620654645734757\n",
            "Recall score on test data:  0.2500599202555691\n",
            "\n",
            "Precision score on train data:  0.5777211273463867\n",
            "Precision score on test data:  0.4688839979473463\n",
            "\n",
            "F1 score on train data:  0.42208734307900786\n",
            "F1 score on test data:  0.3025173764376276\n"
          ],
          "name": "stdout"
        },
        {
          "output_type": "stream",
          "text": [
            "/usr/local/lib/python3.6/dist-packages/sklearn/metrics/_classification.py:1272: UndefinedMetricWarning: Precision is ill-defined and being set to 0.0 in labels with no predicted samples. Use `zero_division` parameter to control this behavior.\n",
            "  _warn_prf(average, modifier, msg_start, len(result))\n"
          ],
          "name": "stderr"
        }
      ]
    },
    {
      "cell_type": "code",
      "metadata": {
        "id": "JqqPih3nFJ6V"
      },
      "source": [
        ""
      ],
      "execution_count": 127,
      "outputs": []
    }
  ]
}
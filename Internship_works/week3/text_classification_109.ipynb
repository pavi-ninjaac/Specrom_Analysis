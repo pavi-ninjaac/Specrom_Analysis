{
  "nbformat": 4,
  "nbformat_minor": 0,
  "metadata": {
    "colab": {
      "name": "text_classification_109.ipynb",
      "provenance": [],
      "mount_file_id": "16_WhmHZ1sFycksezzQm97yYlFYxEGI-3",
      "authorship_tag": "ABX9TyNxE2peEZsTaIa3sf3oiq/c",
      "include_colab_link": true
    },
    "kernelspec": {
      "name": "python3",
      "display_name": "Python 3"
    }
  },
  "cells": [
    {
      "cell_type": "markdown",
      "metadata": {
        "id": "view-in-github",
        "colab_type": "text"
      },
      "source": [
        "<a href=\"https://colab.research.google.com/github/pavi-ninjaac/Specrom_Analysis/blob/main/Internship_works/week3/text_classification_109.ipynb\" target=\"_parent\"><img src=\"https://colab.research.google.com/assets/colab-badge.svg\" alt=\"Open In Colab\"/></a>"
      ]
    },
    {
      "cell_type": "code",
      "metadata": {
        "id": "YtOPd0VM85pS"
      },
      "source": [
        "#get the libraries\r\n",
        "import numpy as np\r\n",
        "import pandas as pd\r\n",
        "import matplotlib.pyplot as plt\r\n",
        "import re\r\n",
        "\r\n",
        "#sklearn functions\r\n",
        "from sklearn.model_selection import  train_test_split\r\n",
        "from sklearn.preprocessing import LabelEncoder\r\n",
        "\r\n",
        "#sklearn vectorization packages\r\n",
        "from sklearn.feature_extraction.text import TfidfVectorizer"
      ],
      "execution_count": 1,
      "outputs": []
    },
    {
      "cell_type": "code",
      "metadata": {
        "colab": {
          "base_uri": "https://localhost:8080/",
          "height": 325
        },
        "id": "ziwndVPd9ktp",
        "outputId": "dcdf46cd-71ec-4f3b-8c27-5a654fd36668"
      },
      "source": [
        "data = pd.read_csv('/content/drive/MyDrive/Colab Notebooks/dataFiles/Text_classification_news_article/rishika_csv_different_computer_with_iptc.csv',index_col=0)\r\n",
        "\r\n",
        "shape = data.shape\r\n",
        "columns = list(data.columns)\r\n",
        "\r\n",
        "print(\"the shape of the dataset is--->\",shape)\r\n",
        "print('The features are-------------->',columns)\r\n",
        "\r\n",
        "data.head(4)\r\n"
      ],
      "execution_count": 37,
      "outputs": [
        {
          "output_type": "stream",
          "text": [
            "the shape of the dataset is---> (10761, 8)\n",
            "The features are--------------> ['position', 'query', 'url', 'title', 'snippet', 'combined_text', 'level1_labels', 'level2_labels']\n"
          ],
          "name": "stdout"
        },
        {
          "output_type": "execute_result",
          "data": {
            "text/html": [
              "<div>\n",
              "<style scoped>\n",
              "    .dataframe tbody tr th:only-of-type {\n",
              "        vertical-align: middle;\n",
              "    }\n",
              "\n",
              "    .dataframe tbody tr th {\n",
              "        vertical-align: top;\n",
              "    }\n",
              "\n",
              "    .dataframe thead th {\n",
              "        text-align: right;\n",
              "    }\n",
              "</style>\n",
              "<table border=\"1\" class=\"dataframe\">\n",
              "  <thead>\n",
              "    <tr style=\"text-align: right;\">\n",
              "      <th></th>\n",
              "      <th>position</th>\n",
              "      <th>query</th>\n",
              "      <th>url</th>\n",
              "      <th>title</th>\n",
              "      <th>snippet</th>\n",
              "      <th>combined_text</th>\n",
              "      <th>level1_labels</th>\n",
              "      <th>level2_labels</th>\n",
              "    </tr>\n",
              "  </thead>\n",
              "  <tbody>\n",
              "    <tr>\n",
              "      <th>0</th>\n",
              "      <td>1</td>\n",
              "      <td>arts, culture, entertainment and media</td>\n",
              "      <td>https://www.bbc.com/news/entertainment_and_arts</td>\n",
              "      <td>Entertainment &amp; Arts - BBC News</td>\n",
              "      <td>Get the latest BBC Entertainment and Arts news...</td>\n",
              "      <td>Entertainment &amp; Arts - BBC News Get the latest...</td>\n",
              "      <td>arts, culture, entertainment and media</td>\n",
              "      <td>NaN</td>\n",
              "    </tr>\n",
              "    <tr>\n",
              "      <th>1</th>\n",
              "      <td>2</td>\n",
              "      <td>arts, culture, entertainment and media</td>\n",
              "      <td>https://www.champaigncounty.org/list/ql/arts-c...</td>\n",
              "      <td>Arts, Culture &amp; Entertainment | Champaign Coun...</td>\n",
              "      <td>Champaign County Chamber of Commerce - IL 303 ...</td>\n",
              "      <td>Arts, Culture &amp; Entertainment | Champaign Coun...</td>\n",
              "      <td>arts, culture, entertainment and media</td>\n",
              "      <td>NaN</td>\n",
              "    </tr>\n",
              "    <tr>\n",
              "      <th>2</th>\n",
              "      <td>3</td>\n",
              "      <td>arts, culture, entertainment and media</td>\n",
              "      <td>https://www.bls.gov/oes/current/oes270000.htm</td>\n",
              "      <td>Arts, Design, Entertainment, Sports, and Media...</td>\n",
              "      <td>27-0000 Arts, Design, Entertainment, Sports, a...</td>\n",
              "      <td>Arts, Design, Entertainment, Sports, and Media...</td>\n",
              "      <td>arts, culture, entertainment and media</td>\n",
              "      <td>NaN</td>\n",
              "    </tr>\n",
              "    <tr>\n",
              "      <th>3</th>\n",
              "      <td>4</td>\n",
              "      <td>arts, culture, entertainment and media</td>\n",
              "      <td>https://www.smc.edu/academics/areas-of-interes...</td>\n",
              "      <td>Arts, Media, &amp; Entertainment - Santa Monica Co...</td>\n",
              "      <td>Let your imagination run wild and free — explo...</td>\n",
              "      <td>Arts, Media, &amp; Entertainment - Santa Monica Co...</td>\n",
              "      <td>arts, culture, entertainment and media</td>\n",
              "      <td>NaN</td>\n",
              "    </tr>\n",
              "  </tbody>\n",
              "</table>\n",
              "</div>"
            ],
            "text/plain": [
              "   position  ... level2_labels\n",
              "0         1  ...           NaN\n",
              "1         2  ...           NaN\n",
              "2         3  ...           NaN\n",
              "3         4  ...           NaN\n",
              "\n",
              "[4 rows x 8 columns]"
            ]
          },
          "metadata": {
            "tags": []
          },
          "execution_count": 37
        }
      ]
    },
    {
      "cell_type": "code",
      "metadata": {
        "colab": {
          "base_uri": "https://localhost:8080/"
        },
        "id": "o6vxKuLt99xF",
        "outputId": "10e88244-4712-4c36-fd17-c236cdaf6f79"
      },
      "source": [
        "print(\"The nunber of category----------->\",data['level1_labels'].nunique())\r\n",
        "print(\"The nunber of second category---->\",data['level2_labels'].nunique())"
      ],
      "execution_count": 38,
      "outputs": [
        {
          "output_type": "stream",
          "text": [
            "The nunber of category-----------> 17\n",
            "The nunber of second category----> 109\n"
          ],
          "name": "stdout"
        }
      ]
    },
    {
      "cell_type": "code",
      "metadata": {
        "colab": {
          "base_uri": "https://localhost:8080/"
        },
        "id": "8bjdxoJl-OFH",
        "outputId": "2c90c4a5-2285-41c5-c30f-df6463295505"
      },
      "source": [
        "print(\"The nunber of quieries---->\",data['query'].nunique())"
      ],
      "execution_count": 39,
      "outputs": [
        {
          "output_type": "stream",
          "text": [
            "The nunber of quieries----> 1296\n"
          ],
          "name": "stdout"
        }
      ]
    },
    {
      "cell_type": "code",
      "metadata": {
        "colab": {
          "base_uri": "https://localhost:8080/"
        },
        "id": "p0DnndimAUbd",
        "outputId": "a8c9d6ba-b8de-46d4-d559-37367cb958cd"
      },
      "source": [
        "data['position'].unique()"
      ],
      "execution_count": 40,
      "outputs": [
        {
          "output_type": "execute_result",
          "data": {
            "text/plain": [
              "array([ 1,  2,  3,  4,  5,  6,  7,  8,  9, 10])"
            ]
          },
          "metadata": {
            "tags": []
          },
          "execution_count": 40
        }
      ]
    },
    {
      "cell_type": "code",
      "metadata": {
        "colab": {
          "base_uri": "https://localhost:8080/",
          "height": 162
        },
        "id": "zhuGnZKzDFw7",
        "outputId": "dc8a622b-d8b4-43da-cec4-03c7b4d642a7"
      },
      "source": [
        "needed_columns = ['combined_text','query','level1_labels','level2_labels']\r\n",
        "data = data[needed_columns].copy()\r\n",
        "data.head(4)"
      ],
      "execution_count": 41,
      "outputs": [
        {
          "output_type": "execute_result",
          "data": {
            "text/html": [
              "<div>\n",
              "<style scoped>\n",
              "    .dataframe tbody tr th:only-of-type {\n",
              "        vertical-align: middle;\n",
              "    }\n",
              "\n",
              "    .dataframe tbody tr th {\n",
              "        vertical-align: top;\n",
              "    }\n",
              "\n",
              "    .dataframe thead th {\n",
              "        text-align: right;\n",
              "    }\n",
              "</style>\n",
              "<table border=\"1\" class=\"dataframe\">\n",
              "  <thead>\n",
              "    <tr style=\"text-align: right;\">\n",
              "      <th></th>\n",
              "      <th>combined_text</th>\n",
              "      <th>query</th>\n",
              "      <th>level1_labels</th>\n",
              "      <th>level2_labels</th>\n",
              "    </tr>\n",
              "  </thead>\n",
              "  <tbody>\n",
              "    <tr>\n",
              "      <th>0</th>\n",
              "      <td>Entertainment &amp; Arts - BBC News Get the latest...</td>\n",
              "      <td>arts, culture, entertainment and media</td>\n",
              "      <td>arts, culture, entertainment and media</td>\n",
              "      <td>NaN</td>\n",
              "    </tr>\n",
              "    <tr>\n",
              "      <th>1</th>\n",
              "      <td>Arts, Culture &amp; Entertainment | Champaign Coun...</td>\n",
              "      <td>arts, culture, entertainment and media</td>\n",
              "      <td>arts, culture, entertainment and media</td>\n",
              "      <td>NaN</td>\n",
              "    </tr>\n",
              "    <tr>\n",
              "      <th>2</th>\n",
              "      <td>Arts, Design, Entertainment, Sports, and Media...</td>\n",
              "      <td>arts, culture, entertainment and media</td>\n",
              "      <td>arts, culture, entertainment and media</td>\n",
              "      <td>NaN</td>\n",
              "    </tr>\n",
              "    <tr>\n",
              "      <th>3</th>\n",
              "      <td>Arts, Media, &amp; Entertainment - Santa Monica Co...</td>\n",
              "      <td>arts, culture, entertainment and media</td>\n",
              "      <td>arts, culture, entertainment and media</td>\n",
              "      <td>NaN</td>\n",
              "    </tr>\n",
              "  </tbody>\n",
              "</table>\n",
              "</div>"
            ],
            "text/plain": [
              "                                       combined_text  ... level2_labels\n",
              "0  Entertainment & Arts - BBC News Get the latest...  ...           NaN\n",
              "1  Arts, Culture & Entertainment | Champaign Coun...  ...           NaN\n",
              "2  Arts, Design, Entertainment, Sports, and Media...  ...           NaN\n",
              "3  Arts, Media, & Entertainment - Santa Monica Co...  ...           NaN\n",
              "\n",
              "[4 rows x 4 columns]"
            ]
          },
          "metadata": {
            "tags": []
          },
          "execution_count": 41
        }
      ]
    },
    {
      "cell_type": "markdown",
      "metadata": {
        "id": "2izCg83QIjX-"
      },
      "source": [
        "# Handling dublicate values"
      ]
    },
    {
      "cell_type": "code",
      "metadata": {
        "colab": {
          "base_uri": "https://localhost:8080/"
        },
        "id": "RvHs2z_oIA4D",
        "outputId": "66050560-e1fd-4179-d8c6-99d496ec3b0a"
      },
      "source": [
        "#delete the dublicate values\r\n",
        "data.duplicated().sum() # count the total duplicate samples"
      ],
      "execution_count": 42,
      "outputs": [
        {
          "output_type": "execute_result",
          "data": {
            "text/plain": [
              "362"
            ]
          },
          "metadata": {
            "tags": []
          },
          "execution_count": 42
        }
      ]
    },
    {
      "cell_type": "code",
      "metadata": {
        "id": "uXnm45LUIGP5"
      },
      "source": [
        "data.drop_duplicates(keep='last',inplace=True)"
      ],
      "execution_count": 43,
      "outputs": []
    },
    {
      "cell_type": "code",
      "metadata": {
        "colab": {
          "base_uri": "https://localhost:8080/"
        },
        "id": "I5DClpvOIKgR",
        "outputId": "5f96fc64-6da2-4804-f576-bee09a61bf18"
      },
      "source": [
        "\r\n",
        "#there can be dublicate of author names so check for the dublicate headline and short discription\r\n",
        "data.duplicated(subset=[ 'combined_text']).sum()"
      ],
      "execution_count": 44,
      "outputs": [
        {
          "output_type": "execute_result",
          "data": {
            "text/plain": [
              "751"
            ]
          },
          "metadata": {
            "tags": []
          },
          "execution_count": 44
        }
      ]
    },
    {
      "cell_type": "code",
      "metadata": {
        "id": "RZDo1KILIQ7y"
      },
      "source": [
        "data.drop_duplicates(subset='combined_text' , keep ='last' , inplace=True)"
      ],
      "execution_count": 45,
      "outputs": []
    },
    {
      "cell_type": "code",
      "metadata": {
        "colab": {
          "base_uri": "https://localhost:8080/"
        },
        "id": "Ot9SYJHrIfl6",
        "outputId": "f3be86f4-33f7-4279-9436-c788570cb94c"
      },
      "source": [
        "print(\"THe length of the datset after dublicate deletion------>\",data.shape)"
      ],
      "execution_count": 46,
      "outputs": [
        {
          "output_type": "stream",
          "text": [
            "THe length of the datset after dublicate deletion------> (9648, 4)\n"
          ],
          "name": "stdout"
        }
      ]
    },
    {
      "cell_type": "markdown",
      "metadata": {
        "id": "uvDauMSAIruC"
      },
      "source": [
        "# Handling null values"
      ]
    },
    {
      "cell_type": "code",
      "metadata": {
        "colab": {
          "base_uri": "https://localhost:8080/"
        },
        "id": "nyqV9PfmIqnM",
        "outputId": "a2d22305-4cdd-4853-8fbe-5a0abb212a42"
      },
      "source": [
        "data.isnull().sum()"
      ],
      "execution_count": 47,
      "outputs": [
        {
          "output_type": "execute_result",
          "data": {
            "text/plain": [
              "combined_text      1\n",
              "query              0\n",
              "level1_labels      0\n",
              "level2_labels    133\n",
              "dtype: int64"
            ]
          },
          "metadata": {
            "tags": []
          },
          "execution_count": 47
        }
      ]
    },
    {
      "cell_type": "code",
      "metadata": {
        "id": "DFQ1LNfBIzqb"
      },
      "source": [
        "data.dropna(axis=0 ,inplace=True , how='any')"
      ],
      "execution_count": 48,
      "outputs": []
    },
    {
      "cell_type": "code",
      "metadata": {
        "colab": {
          "base_uri": "https://localhost:8080/"
        },
        "id": "xnBqc7tDI97_",
        "outputId": "a49a52bd-99c5-459f-85d4-c8737e14d091"
      },
      "source": [
        "print(\"THe length of the datset after null values deletion------>\",data.shape)"
      ],
      "execution_count": 49,
      "outputs": [
        {
          "output_type": "stream",
          "text": [
            "THe length of the datset after null values deletion------> (9514, 4)\n"
          ],
          "name": "stdout"
        }
      ]
    },
    {
      "cell_type": "code",
      "metadata": {
        "colab": {
          "base_uri": "https://localhost:8080/",
          "height": 162
        },
        "id": "Tl2hhA7LJFz5",
        "outputId": "ab977cf7-f5a3-4a41-98e5-c5cf0a8cf2fa"
      },
      "source": [
        "data[data['combined_text'] == ' ']\r\n",
        "data = data.reset_index()\r\n",
        "data = data.drop('index',axis=1)\r\n",
        "data.head(4)"
      ],
      "execution_count": 50,
      "outputs": [
        {
          "output_type": "execute_result",
          "data": {
            "text/html": [
              "<div>\n",
              "<style scoped>\n",
              "    .dataframe tbody tr th:only-of-type {\n",
              "        vertical-align: middle;\n",
              "    }\n",
              "\n",
              "    .dataframe tbody tr th {\n",
              "        vertical-align: top;\n",
              "    }\n",
              "\n",
              "    .dataframe thead th {\n",
              "        text-align: right;\n",
              "    }\n",
              "</style>\n",
              "<table border=\"1\" class=\"dataframe\">\n",
              "  <thead>\n",
              "    <tr style=\"text-align: right;\">\n",
              "      <th></th>\n",
              "      <th>combined_text</th>\n",
              "      <th>query</th>\n",
              "      <th>level1_labels</th>\n",
              "      <th>level2_labels</th>\n",
              "    </tr>\n",
              "  </thead>\n",
              "  <tbody>\n",
              "    <tr>\n",
              "      <th>0</th>\n",
              "      <td>A&amp;E | Watch Full Episodes of Your Favorite Sho...</td>\n",
              "      <td>arts and entertainment</td>\n",
              "      <td>arts, culture, entertainment and media</td>\n",
              "      <td>arts and entertainment</td>\n",
              "    </tr>\n",
              "    <tr>\n",
              "      <th>1</th>\n",
              "      <td>A&amp;E TV Shows | A&amp;E Check out A&amp;E's shows lineu...</td>\n",
              "      <td>arts and entertainment</td>\n",
              "      <td>arts, culture, entertainment and media</td>\n",
              "      <td>arts and entertainment</td>\n",
              "    </tr>\n",
              "    <tr>\n",
              "      <th>2</th>\n",
              "      <td>Entertainment &amp; Arts - BBC News Get the latest...</td>\n",
              "      <td>arts and entertainment</td>\n",
              "      <td>arts, culture, entertainment and media</td>\n",
              "      <td>arts and entertainment</td>\n",
              "    </tr>\n",
              "    <tr>\n",
              "      <th>3</th>\n",
              "      <td>Arts &amp; Entertainment | news-gazette.com  · Clo...</td>\n",
              "      <td>arts and entertainment</td>\n",
              "      <td>arts, culture, entertainment and media</td>\n",
              "      <td>arts and entertainment</td>\n",
              "    </tr>\n",
              "  </tbody>\n",
              "</table>\n",
              "</div>"
            ],
            "text/plain": [
              "                                       combined_text  ...           level2_labels\n",
              "0  A&E | Watch Full Episodes of Your Favorite Sho...  ...  arts and entertainment\n",
              "1  A&E TV Shows | A&E Check out A&E's shows lineu...  ...  arts and entertainment\n",
              "2  Entertainment & Arts - BBC News Get the latest...  ...  arts and entertainment\n",
              "3  Arts & Entertainment | news-gazette.com  · Clo...  ...  arts and entertainment\n",
              "\n",
              "[4 rows x 4 columns]"
            ]
          },
          "metadata": {
            "tags": []
          },
          "execution_count": 50
        }
      ]
    },
    {
      "cell_type": "markdown",
      "metadata": {
        "id": "QaAKcrwCKgvY"
      },
      "source": [
        "# Cleaning the combined text"
      ]
    },
    {
      "cell_type": "code",
      "metadata": {
        "colab": {
          "base_uri": "https://localhost:8080/",
          "height": 162
        },
        "id": "CQemyRueKf4k",
        "outputId": "e7226a3a-8421-42fe-f3c4-dfc550c3d41f"
      },
      "source": [
        "def preprocessor_text(text):\r\n",
        "    if isinstance((text), (str)):\r\n",
        "        text = re.sub('<[^>]*>', ' ', text)\r\n",
        "        text = re.sub('[\\W]+', ' ', text.lower())\r\n",
        "        return text\r\n",
        "    if isinstance((text), (list)):\r\n",
        "        return_list = []\r\n",
        "        for i in range(len(text)):\r\n",
        "            temp_text = re.sub('<[^>]*>', '', text[i])\r\n",
        "            temp_text = re.sub('[\\W]+', '', temp_text.lower())\r\n",
        "            return_list.append(temp_text)\r\n",
        "        return(return_list)\r\n",
        "\r\n",
        "data['combined_text'] = data['combined_text'].apply(preprocessor_text)\r\n",
        "\r\n",
        "data.head(4)"
      ],
      "execution_count": 51,
      "outputs": [
        {
          "output_type": "execute_result",
          "data": {
            "text/html": [
              "<div>\n",
              "<style scoped>\n",
              "    .dataframe tbody tr th:only-of-type {\n",
              "        vertical-align: middle;\n",
              "    }\n",
              "\n",
              "    .dataframe tbody tr th {\n",
              "        vertical-align: top;\n",
              "    }\n",
              "\n",
              "    .dataframe thead th {\n",
              "        text-align: right;\n",
              "    }\n",
              "</style>\n",
              "<table border=\"1\" class=\"dataframe\">\n",
              "  <thead>\n",
              "    <tr style=\"text-align: right;\">\n",
              "      <th></th>\n",
              "      <th>combined_text</th>\n",
              "      <th>query</th>\n",
              "      <th>level1_labels</th>\n",
              "      <th>level2_labels</th>\n",
              "    </tr>\n",
              "  </thead>\n",
              "  <tbody>\n",
              "    <tr>\n",
              "      <th>0</th>\n",
              "      <td>a e watch full episodes of your favorite shows...</td>\n",
              "      <td>arts and entertainment</td>\n",
              "      <td>arts, culture, entertainment and media</td>\n",
              "      <td>arts and entertainment</td>\n",
              "    </tr>\n",
              "    <tr>\n",
              "      <th>1</th>\n",
              "      <td>a e tv shows a e check out a e s shows lineup ...</td>\n",
              "      <td>arts and entertainment</td>\n",
              "      <td>arts, culture, entertainment and media</td>\n",
              "      <td>arts and entertainment</td>\n",
              "    </tr>\n",
              "    <tr>\n",
              "      <th>2</th>\n",
              "      <td>entertainment arts bbc news get the latest bbc...</td>\n",
              "      <td>arts and entertainment</td>\n",
              "      <td>arts, culture, entertainment and media</td>\n",
              "      <td>arts and entertainment</td>\n",
              "    </tr>\n",
              "    <tr>\n",
              "      <th>3</th>\n",
              "      <td>arts entertainment news gazette com cloudy sno...</td>\n",
              "      <td>arts and entertainment</td>\n",
              "      <td>arts, culture, entertainment and media</td>\n",
              "      <td>arts and entertainment</td>\n",
              "    </tr>\n",
              "  </tbody>\n",
              "</table>\n",
              "</div>"
            ],
            "text/plain": [
              "                                       combined_text  ...           level2_labels\n",
              "0  a e watch full episodes of your favorite shows...  ...  arts and entertainment\n",
              "1  a e tv shows a e check out a e s shows lineup ...  ...  arts and entertainment\n",
              "2  entertainment arts bbc news get the latest bbc...  ...  arts and entertainment\n",
              "3  arts entertainment news gazette com cloudy sno...  ...  arts and entertainment\n",
              "\n",
              "[4 rows x 4 columns]"
            ]
          },
          "metadata": {
            "tags": []
          },
          "execution_count": 51
        }
      ]
    },
    {
      "cell_type": "markdown",
      "metadata": {
        "id": "mfto5IdGLNzZ"
      },
      "source": [
        "# Balance the dataset"
      ]
    },
    {
      "cell_type": "markdown",
      "metadata": {
        "id": "Ung4-HBwqk8E"
      },
      "source": [
        "### 'query' categories"
      ]
    },
    {
      "cell_type": "markdown",
      "metadata": {
        "id": "mX3ZAwz3kXhd"
      },
      "source": [
        "- When doing the balancing , we have to delete the categorie, which are having very few sample. Here by i am deleting the categories which are having less than 6 sample. \r\n",
        "- after deletion, we have to resample the data by select 6 samples randomly from each categories. "
      ]
    },
    {
      "cell_type": "code",
      "metadata": {
        "id": "g6u5IWUOK_uf"
      },
      "source": [
        "#copy the original data \r\n",
        "data = data.copy()\r\n",
        "data_query = data[['combined_text','query']].copy()"
      ],
      "execution_count": 52,
      "outputs": []
    },
    {
      "cell_type": "code",
      "metadata": {
        "id": "R7auqDcHJznT"
      },
      "source": [
        "#helper functions\r\n",
        "def downsample(df , label):\r\n",
        "  g = df.groupby(label , group_keys=False)\r\n",
        "  balaced_df = pd.DataFrame(g.apply(lambda x : x.sample(g.size().min()))).reset_index(drop=True)\r\n",
        "  return balaced_df\r\n",
        "\r\n",
        "\r\n",
        "def balace_category(data , category_column , downsample_value):\r\n",
        "  #to handle the categories easily, we have to change the dtype of the 'query' to category\r\n",
        "  data[category_column] = data[category_column].astype('category')\r\n",
        "\r\n",
        "  category = data[category_column].value_counts().index\r\n",
        "  print(\"The shape before deletion------------------------------------------>\",data.shape)\r\n",
        "  print()\r\n",
        "  print(\"The number of category in the query column------------------------->\",len(category))\r\n",
        "\r\n",
        "  #seperate the column which has to be delete\r\n",
        "  need_to_be_deleted = category[(data[category_column].value_counts() < downsample_value)]\r\n",
        "  print(\"The number of category need to be deleted in the query column------>\",len(need_to_be_deleted))\r\n",
        "\r\n",
        "  #delete the unwanted category\r\n",
        "  data[category_column] = data[category_column].cat.remove_categories(need_to_be_deleted) #set nan for the categories need to be deletd and then use dropna to delete those things\r\n",
        "  data.dropna(axis=0 , how='any',inplace=True) #delete the nan category\r\n",
        "\r\n",
        "  print(\"The number of category after deletion------------------------------>\",len(data[category_column].value_counts().index))\r\n",
        "  print()\r\n",
        "  print(\"The shape after deletion------------------------------------------->\",data.shape)\r\n",
        "  print()\r\n",
        "\r\n",
        "  #down sample the query category to its minimum value\r\n",
        "  data = downsample(data , category_column) #call the helper function\r\n",
        "  #data[category_column].value_counts()\r\n",
        "\r\n",
        "  return data"
      ],
      "execution_count": 53,
      "outputs": []
    },
    {
      "cell_type": "code",
      "metadata": {
        "id": "xA11PEOplfC3"
      },
      "source": [
        "#to handle the categories easily, we have to change the dtype of the 'query' to category\r\n",
        "data_query['query'] = data_query['query'].astype('category')\r\n",
        "\r\n",
        "\r\n",
        "\r\n"
      ],
      "execution_count": 54,
      "outputs": []
    },
    {
      "cell_type": "code",
      "metadata": {
        "colab": {
          "base_uri": "https://localhost:8080/"
        },
        "id": "E2EpYMniLQfV",
        "outputId": "adc44300-c6ac-42cd-e763-e2a0ede0f2ab"
      },
      "source": [
        "query_category = data_query['query'].value_counts().index\r\n",
        "print(\"The shape before deletion------------------------------------------>\",data_query.shape)\r\n",
        "print()\r\n",
        "print(\"The number of category in the query column------------------------->\",len(query_category))\r\n",
        "\r\n",
        "#seperate the column which has to be delete\r\n",
        "need_to_be_deleted = query_category[(data_query['query'].value_counts()<6)]\r\n",
        "print(\"The number of category need to be deleted in the query column------>\",len(need_to_be_deleted))\r\n",
        "\r\n",
        "#delete the unwanted category\r\n",
        "data_query['query'] = data_query['query'].cat.remove_categories(need_to_be_deleted) #set nan for the categories need to be deletd and then use dropna to delete those things\r\n",
        "data_query.dropna(axis=0 , how='any',inplace=True) #delete the nan category\r\n",
        "\r\n",
        "print(\"The number of category after deletion------------------------------>\",len(data_query['query'].value_counts().index))\r\n",
        "print()\r\n",
        "print(\"The shape after deletion------------------------------------------->\",data_query.shape)\r\n",
        "print()"
      ],
      "execution_count": 55,
      "outputs": [
        {
          "output_type": "stream",
          "text": [
            "The shape before deletion------------------------------------------> (9514, 2)\n",
            "\n",
            "The number of category in the query column-------------------------> 1279\n",
            "The number of category need to be deleted in the query column------> 252\n",
            "The number of category after deletion------------------------------> 1027\n",
            "\n",
            "The shape after deletion-------------------------------------------> (8446, 2)\n",
            "\n"
          ],
          "name": "stdout"
        }
      ]
    },
    {
      "cell_type": "code",
      "metadata": {
        "colab": {
          "base_uri": "https://localhost:8080/"
        },
        "id": "1f8xmmg9I4J4",
        "outputId": "fea518b3-02e5-4cf1-d6ae-78c4fd6796dc"
      },
      "source": [
        "#down sample the query category to its minimum value\r\n",
        "data_query = downsample(data_query , 'query')\r\n",
        "data_query['query'].value_counts()"
      ],
      "execution_count": 56,
      "outputs": [
        {
          "output_type": "execute_result",
          "data": {
            "text/plain": [
              "zoology                            6\n",
              "death and dying                    6\n",
              "extradition                        6\n",
              "extra lightweight (judo)           6\n",
              "exports                            6\n",
              "                                  ..\n",
              "paediatrics                        6\n",
              "oval track dog racing              6\n",
              "outsourcing                        6\n",
              "outdoor recreational activities    6\n",
              "All Saints Day                     6\n",
              "Name: query, Length: 1027, dtype: int64"
            ]
          },
          "metadata": {
            "tags": []
          },
          "execution_count": 56
        }
      ]
    },
    {
      "cell_type": "code",
      "metadata": {
        "colab": {
          "base_uri": "https://localhost:8080/"
        },
        "id": "XChVuA0BL2yH",
        "outputId": "b10d3465-06c9-49fb-d5db-de2bc3ffdf1c"
      },
      "source": [
        "d = 'query'\r\n",
        "data[d]"
      ],
      "execution_count": 58,
      "outputs": [
        {
          "output_type": "execute_result",
          "data": {
            "text/plain": [
              "0       arts and entertainment\n",
              "1       arts and entertainment\n",
              "2       arts and entertainment\n",
              "3       arts and entertainment\n",
              "4       arts and entertainment\n",
              "                 ...          \n",
              "9509           weather warning\n",
              "9510           weather warning\n",
              "9511           weather warning\n",
              "9512           weather warning\n",
              "9513           weather warning\n",
              "Name: query, Length: 9514, dtype: object"
            ]
          },
          "metadata": {
            "tags": []
          },
          "execution_count": 58
        }
      ]
    },
    {
      "cell_type": "code",
      "metadata": {
        "id": "ntq7Xwbrqsmg"
      },
      "source": [
        "#downsample the data to its lowest value\r\n",
        "g = data.groupby('query' , )"
      ],
      "execution_count": null,
      "outputs": []
    },
    {
      "cell_type": "code",
      "metadata": {
        "colab": {
          "base_uri": "https://localhost:8080/"
        },
        "id": "XCoeapnKhvGZ",
        "outputId": "3d69fcad-9d99-40e4-e6d6-d55eda704ec4"
      },
      "source": [
        "# checking the categori\r\n",
        "df = pd.DataFrame({'x' : [1,2,3,4,5,6,7,8] , 'label':[1,2,1,2,3,1,2,3]})\r\n",
        "df['label'] = df['label'].astype('category')\r\n",
        "df.label.cat.categories"
      ],
      "execution_count": 19,
      "outputs": [
        {
          "output_type": "execute_result",
          "data": {
            "text/plain": [
              "Int64Index([1, 2, 3], dtype='int64')"
            ]
          },
          "metadata": {
            "tags": []
          },
          "execution_count": 19
        }
      ]
    },
    {
      "cell_type": "code",
      "metadata": {
        "colab": {
          "base_uri": "https://localhost:8080/",
          "height": 220
        },
        "id": "o1T8BwVnivZH",
        "outputId": "9b07df8d-624b-4822-fd6a-5ffc275ba61e"
      },
      "source": [
        "g = df.groupby('label' , group_keys = False)\r\n",
        "balaced = pd.DataFrame(g.apply(lambda x: x.sample(g.size().min()))).reset_index(drop=True)\r\n",
        "balaced"
      ],
      "execution_count": 21,
      "outputs": [
        {
          "output_type": "execute_result",
          "data": {
            "text/html": [
              "<div>\n",
              "<style scoped>\n",
              "    .dataframe tbody tr th:only-of-type {\n",
              "        vertical-align: middle;\n",
              "    }\n",
              "\n",
              "    .dataframe tbody tr th {\n",
              "        vertical-align: top;\n",
              "    }\n",
              "\n",
              "    .dataframe thead th {\n",
              "        text-align: right;\n",
              "    }\n",
              "</style>\n",
              "<table border=\"1\" class=\"dataframe\">\n",
              "  <thead>\n",
              "    <tr style=\"text-align: right;\">\n",
              "      <th></th>\n",
              "      <th>x</th>\n",
              "      <th>label</th>\n",
              "    </tr>\n",
              "  </thead>\n",
              "  <tbody>\n",
              "    <tr>\n",
              "      <th>0</th>\n",
              "      <td>6</td>\n",
              "      <td>1</td>\n",
              "    </tr>\n",
              "    <tr>\n",
              "      <th>1</th>\n",
              "      <td>3</td>\n",
              "      <td>1</td>\n",
              "    </tr>\n",
              "    <tr>\n",
              "      <th>2</th>\n",
              "      <td>2</td>\n",
              "      <td>2</td>\n",
              "    </tr>\n",
              "    <tr>\n",
              "      <th>3</th>\n",
              "      <td>7</td>\n",
              "      <td>2</td>\n",
              "    </tr>\n",
              "    <tr>\n",
              "      <th>4</th>\n",
              "      <td>5</td>\n",
              "      <td>3</td>\n",
              "    </tr>\n",
              "    <tr>\n",
              "      <th>5</th>\n",
              "      <td>8</td>\n",
              "      <td>3</td>\n",
              "    </tr>\n",
              "  </tbody>\n",
              "</table>\n",
              "</div>"
            ],
            "text/plain": [
              "   x label\n",
              "0  6     1\n",
              "1  3     1\n",
              "2  2     2\n",
              "3  7     2\n",
              "4  5     3\n",
              "5  8     3"
            ]
          },
          "metadata": {
            "tags": []
          },
          "execution_count": 21
        }
      ]
    },
    {
      "cell_type": "code",
      "metadata": {
        "colab": {
          "base_uri": "https://localhost:8080/"
        },
        "id": "AOZW5qtJH6r4",
        "outputId": "d5d72d61-c9f8-4778-f79d-9669d7a429f3"
      },
      "source": [
        "g.size()"
      ],
      "execution_count": 23,
      "outputs": [
        {
          "output_type": "execute_result",
          "data": {
            "text/plain": [
              "label\n",
              "1    3\n",
              "2    3\n",
              "3    2\n",
              "dtype: int64"
            ]
          },
          "metadata": {
            "tags": []
          },
          "execution_count": 23
        }
      ]
    },
    {
      "cell_type": "code",
      "metadata": {
        "colab": {
          "base_uri": "https://localhost:8080/"
        },
        "id": "2DvEzp1HixH0",
        "outputId": "e653951d-9ac5-43af-f1b7-a901e7fcf144"
      },
      "source": [
        "df = df.label.cat.remove_categories(3)\r\n",
        "df"
      ],
      "execution_count": 63,
      "outputs": [
        {
          "output_type": "execute_result",
          "data": {
            "text/plain": [
              "0      1\n",
              "1      2\n",
              "2      1\n",
              "3      2\n",
              "4    NaN\n",
              "5      1\n",
              "6      2\n",
              "7    NaN\n",
              "Name: label, dtype: category\n",
              "Categories (2, int64): [1, 2]"
            ]
          },
          "metadata": {
            "tags": []
          },
          "execution_count": 63
        }
      ]
    },
    {
      "cell_type": "code",
      "metadata": {
        "id": "tmYQBa3YGTi_"
      },
      "source": [
        "X = data['combined_text']\r\n",
        "y = data['query']\r\n",
        "#label encode it for classification\r\n",
        "label = LabelEncoder()\r\n",
        "y = label.fit_transform(y)"
      ],
      "execution_count": 30,
      "outputs": []
    },
    {
      "cell_type": "code",
      "metadata": {
        "id": "UpDFbohXFHT2"
      },
      "source": [
        "X_train,y_train,X_test,y_test = train_test_split(X,y,test_size = 0.2,random_state = 42)"
      ],
      "execution_count": 31,
      "outputs": []
    },
    {
      "cell_type": "code",
      "metadata": {
        "colab": {
          "base_uri": "https://localhost:8080/"
        },
        "id": "zKVKyKPwGstv",
        "outputId": "14a32a9c-fa35-4099-d90d-a9a7c06c5947"
      },
      "source": [
        "print(\"The shape of the X train----------->\",X_train.shape)\r\n",
        "print(\"The shape of the y train----------->\",y_train.shape)\r\n",
        "print(\"The shape of the X test------------>\",X_test.shape)\r\n",
        "print(\"The shape of the y test------------>\",y_test.shape)"
      ],
      "execution_count": 32,
      "outputs": [
        {
          "output_type": "stream",
          "text": [
            "The shape of the X train-----------> (8608,)\n",
            "The shape of the y train-----------> (2153,)\n",
            "The shape of the X test------------> (8608,)\n",
            "The shape of the y test------------> (2153,)\n"
          ],
          "name": "stdout"
        }
      ]
    },
    {
      "cell_type": "code",
      "metadata": {
        "id": "iiO_Q-qxKU3C"
      },
      "source": [
        ""
      ],
      "execution_count": null,
      "outputs": []
    },
    {
      "cell_type": "markdown",
      "metadata": {
        "id": "CXmQR86_HHWj"
      },
      "source": [
        "# tfidf Vectorization"
      ]
    },
    {
      "cell_type": "code",
      "metadata": {
        "id": "9gqO_pd_HAVD"
      },
      "source": [
        ""
      ],
      "execution_count": null,
      "outputs": []
    }
  ]
}
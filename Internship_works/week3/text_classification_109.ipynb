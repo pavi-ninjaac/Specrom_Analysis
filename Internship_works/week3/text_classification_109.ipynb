{
  "nbformat": 4,
  "nbformat_minor": 0,
  "metadata": {
    "colab": {
      "name": "text_classification_109.ipynb",
      "provenance": [],
      "mount_file_id": "16_WhmHZ1sFycksezzQm97yYlFYxEGI-3",
      "authorship_tag": "ABX9TyMObJRfhsBdnXQ2/RYreXu0",
      "include_colab_link": true
    },
    "kernelspec": {
      "name": "python3",
      "display_name": "Python 3"
    }
  },
  "cells": [
    {
      "cell_type": "markdown",
      "metadata": {
        "id": "view-in-github",
        "colab_type": "text"
      },
      "source": [
        "<a href=\"https://colab.research.google.com/github/pavi-ninjaac/Specrom_Analysis/blob/main/Internship_works/week3/text_classification_109.ipynb\" target=\"_parent\"><img src=\"https://colab.research.google.com/assets/colab-badge.svg\" alt=\"Open In Colab\"/></a>"
      ]
    },
    {
      "cell_type": "code",
      "metadata": {
        "id": "YtOPd0VM85pS"
      },
      "source": [
        "#get the libraries\r\n",
        "import numpy as np\r\n",
        "import pandas as pd\r\n",
        "import matplotlib.pyplot as plt\r\n",
        "import re\r\n",
        "import seaborn as sns\r\n",
        "#sklearn functions\r\n",
        "from sklearn.model_selection import  train_test_split\r\n",
        "from sklearn.preprocessing import LabelEncoder\r\n",
        "from sklearn.utils import shuffle\r\n",
        "\r\n",
        "#sklearn vectorization packages\r\n",
        "from sklearn.feature_extraction.text import TfidfVectorizer\r\n",
        "\r\n",
        "#sklearn models\r\n",
        "from sklearn.linear_model import LogisticRegression\r\n",
        "\r\n",
        "#sklearn evaluation metrics\r\n",
        "from sklearn.metrics import f1_score,accuracy_score,precision_score,recall_score"
      ],
      "execution_count": 58,
      "outputs": []
    },
    {
      "cell_type": "code",
      "metadata": {
        "colab": {
          "base_uri": "https://localhost:8080/",
          "height": 325
        },
        "id": "ziwndVPd9ktp",
        "outputId": "c9802577-9bfc-4126-d026-9103de2f6cda"
      },
      "source": [
        "data = pd.read_csv('/content/drive/MyDrive/Colab Notebooks/dataFiles/Text_classification_news_article/rishika_csv_different_computer_with_iptc.csv',index_col=0)\r\n",
        "\r\n",
        "shape = data.shape\r\n",
        "columns = list(data.columns)\r\n",
        "\r\n",
        "print(\"the shape of the dataset is--->\",shape)\r\n",
        "print('The features are-------------->',columns)\r\n",
        "\r\n",
        "data.head(4)\r\n"
      ],
      "execution_count": 38,
      "outputs": [
        {
          "output_type": "stream",
          "text": [
            "the shape of the dataset is---> (10761, 8)\n",
            "The features are--------------> ['position', 'query', 'url', 'title', 'snippet', 'combined_text', 'level1_labels', 'level2_labels']\n"
          ],
          "name": "stdout"
        },
        {
          "output_type": "execute_result",
          "data": {
            "text/html": [
              "<div>\n",
              "<style scoped>\n",
              "    .dataframe tbody tr th:only-of-type {\n",
              "        vertical-align: middle;\n",
              "    }\n",
              "\n",
              "    .dataframe tbody tr th {\n",
              "        vertical-align: top;\n",
              "    }\n",
              "\n",
              "    .dataframe thead th {\n",
              "        text-align: right;\n",
              "    }\n",
              "</style>\n",
              "<table border=\"1\" class=\"dataframe\">\n",
              "  <thead>\n",
              "    <tr style=\"text-align: right;\">\n",
              "      <th></th>\n",
              "      <th>position</th>\n",
              "      <th>query</th>\n",
              "      <th>url</th>\n",
              "      <th>title</th>\n",
              "      <th>snippet</th>\n",
              "      <th>combined_text</th>\n",
              "      <th>level1_labels</th>\n",
              "      <th>level2_labels</th>\n",
              "    </tr>\n",
              "  </thead>\n",
              "  <tbody>\n",
              "    <tr>\n",
              "      <th>0</th>\n",
              "      <td>1</td>\n",
              "      <td>arts, culture, entertainment and media</td>\n",
              "      <td>https://www.bbc.com/news/entertainment_and_arts</td>\n",
              "      <td>Entertainment &amp; Arts - BBC News</td>\n",
              "      <td>Get the latest BBC Entertainment and Arts news...</td>\n",
              "      <td>Entertainment &amp; Arts - BBC News Get the latest...</td>\n",
              "      <td>arts, culture, entertainment and media</td>\n",
              "      <td>NaN</td>\n",
              "    </tr>\n",
              "    <tr>\n",
              "      <th>1</th>\n",
              "      <td>2</td>\n",
              "      <td>arts, culture, entertainment and media</td>\n",
              "      <td>https://www.champaigncounty.org/list/ql/arts-c...</td>\n",
              "      <td>Arts, Culture &amp; Entertainment | Champaign Coun...</td>\n",
              "      <td>Champaign County Chamber of Commerce - IL 303 ...</td>\n",
              "      <td>Arts, Culture &amp; Entertainment | Champaign Coun...</td>\n",
              "      <td>arts, culture, entertainment and media</td>\n",
              "      <td>NaN</td>\n",
              "    </tr>\n",
              "    <tr>\n",
              "      <th>2</th>\n",
              "      <td>3</td>\n",
              "      <td>arts, culture, entertainment and media</td>\n",
              "      <td>https://www.bls.gov/oes/current/oes270000.htm</td>\n",
              "      <td>Arts, Design, Entertainment, Sports, and Media...</td>\n",
              "      <td>27-0000 Arts, Design, Entertainment, Sports, a...</td>\n",
              "      <td>Arts, Design, Entertainment, Sports, and Media...</td>\n",
              "      <td>arts, culture, entertainment and media</td>\n",
              "      <td>NaN</td>\n",
              "    </tr>\n",
              "    <tr>\n",
              "      <th>3</th>\n",
              "      <td>4</td>\n",
              "      <td>arts, culture, entertainment and media</td>\n",
              "      <td>https://www.smc.edu/academics/areas-of-interes...</td>\n",
              "      <td>Arts, Media, &amp; Entertainment - Santa Monica Co...</td>\n",
              "      <td>Let your imagination run wild and free — explo...</td>\n",
              "      <td>Arts, Media, &amp; Entertainment - Santa Monica Co...</td>\n",
              "      <td>arts, culture, entertainment and media</td>\n",
              "      <td>NaN</td>\n",
              "    </tr>\n",
              "  </tbody>\n",
              "</table>\n",
              "</div>"
            ],
            "text/plain": [
              "   position  ... level2_labels\n",
              "0         1  ...           NaN\n",
              "1         2  ...           NaN\n",
              "2         3  ...           NaN\n",
              "3         4  ...           NaN\n",
              "\n",
              "[4 rows x 8 columns]"
            ]
          },
          "metadata": {
            "tags": []
          },
          "execution_count": 38
        }
      ]
    },
    {
      "cell_type": "code",
      "metadata": {
        "colab": {
          "base_uri": "https://localhost:8080/"
        },
        "id": "o6vxKuLt99xF",
        "outputId": "5ff5513e-38b6-458f-b2b4-f3b4a87638b1"
      },
      "source": [
        "print(\"The nunber of category----------->\",data['level1_labels'].nunique())\r\n",
        "print(\"The nunber of second category---->\",data['level2_labels'].nunique())"
      ],
      "execution_count": 39,
      "outputs": [
        {
          "output_type": "stream",
          "text": [
            "The nunber of category-----------> 17\n",
            "The nunber of second category----> 109\n"
          ],
          "name": "stdout"
        }
      ]
    },
    {
      "cell_type": "code",
      "metadata": {
        "colab": {
          "base_uri": "https://localhost:8080/"
        },
        "id": "8bjdxoJl-OFH",
        "outputId": "d373aa18-c6a1-4149-ba4c-5f96cf578fa4"
      },
      "source": [
        "print(\"The nunber of quieries---->\",data['query'].nunique())"
      ],
      "execution_count": 40,
      "outputs": [
        {
          "output_type": "stream",
          "text": [
            "The nunber of quieries----> 1296\n"
          ],
          "name": "stdout"
        }
      ]
    },
    {
      "cell_type": "code",
      "metadata": {
        "colab": {
          "base_uri": "https://localhost:8080/"
        },
        "id": "p0DnndimAUbd",
        "outputId": "120b7ee2-1645-45b1-a722-001c6fa37588"
      },
      "source": [
        "data['position'].unique()"
      ],
      "execution_count": 41,
      "outputs": [
        {
          "output_type": "execute_result",
          "data": {
            "text/plain": [
              "array([ 1,  2,  3,  4,  5,  6,  7,  8,  9, 10])"
            ]
          },
          "metadata": {
            "tags": []
          },
          "execution_count": 41
        }
      ]
    },
    {
      "cell_type": "code",
      "metadata": {
        "colab": {
          "base_uri": "https://localhost:8080/",
          "height": 162
        },
        "id": "zhuGnZKzDFw7",
        "outputId": "4a366253-3c8b-49f9-d6e9-a36d11ee82ef"
      },
      "source": [
        "needed_columns = ['combined_text','query','level1_labels','level2_labels']\r\n",
        "data = data[needed_columns].copy()\r\n",
        "data.head(4)"
      ],
      "execution_count": 42,
      "outputs": [
        {
          "output_type": "execute_result",
          "data": {
            "text/html": [
              "<div>\n",
              "<style scoped>\n",
              "    .dataframe tbody tr th:only-of-type {\n",
              "        vertical-align: middle;\n",
              "    }\n",
              "\n",
              "    .dataframe tbody tr th {\n",
              "        vertical-align: top;\n",
              "    }\n",
              "\n",
              "    .dataframe thead th {\n",
              "        text-align: right;\n",
              "    }\n",
              "</style>\n",
              "<table border=\"1\" class=\"dataframe\">\n",
              "  <thead>\n",
              "    <tr style=\"text-align: right;\">\n",
              "      <th></th>\n",
              "      <th>combined_text</th>\n",
              "      <th>query</th>\n",
              "      <th>level1_labels</th>\n",
              "      <th>level2_labels</th>\n",
              "    </tr>\n",
              "  </thead>\n",
              "  <tbody>\n",
              "    <tr>\n",
              "      <th>0</th>\n",
              "      <td>Entertainment &amp; Arts - BBC News Get the latest...</td>\n",
              "      <td>arts, culture, entertainment and media</td>\n",
              "      <td>arts, culture, entertainment and media</td>\n",
              "      <td>NaN</td>\n",
              "    </tr>\n",
              "    <tr>\n",
              "      <th>1</th>\n",
              "      <td>Arts, Culture &amp; Entertainment | Champaign Coun...</td>\n",
              "      <td>arts, culture, entertainment and media</td>\n",
              "      <td>arts, culture, entertainment and media</td>\n",
              "      <td>NaN</td>\n",
              "    </tr>\n",
              "    <tr>\n",
              "      <th>2</th>\n",
              "      <td>Arts, Design, Entertainment, Sports, and Media...</td>\n",
              "      <td>arts, culture, entertainment and media</td>\n",
              "      <td>arts, culture, entertainment and media</td>\n",
              "      <td>NaN</td>\n",
              "    </tr>\n",
              "    <tr>\n",
              "      <th>3</th>\n",
              "      <td>Arts, Media, &amp; Entertainment - Santa Monica Co...</td>\n",
              "      <td>arts, culture, entertainment and media</td>\n",
              "      <td>arts, culture, entertainment and media</td>\n",
              "      <td>NaN</td>\n",
              "    </tr>\n",
              "  </tbody>\n",
              "</table>\n",
              "</div>"
            ],
            "text/plain": [
              "                                       combined_text  ... level2_labels\n",
              "0  Entertainment & Arts - BBC News Get the latest...  ...           NaN\n",
              "1  Arts, Culture & Entertainment | Champaign Coun...  ...           NaN\n",
              "2  Arts, Design, Entertainment, Sports, and Media...  ...           NaN\n",
              "3  Arts, Media, & Entertainment - Santa Monica Co...  ...           NaN\n",
              "\n",
              "[4 rows x 4 columns]"
            ]
          },
          "metadata": {
            "tags": []
          },
          "execution_count": 42
        }
      ]
    },
    {
      "cell_type": "markdown",
      "metadata": {
        "id": "2izCg83QIjX-"
      },
      "source": [
        "# Handling dublicate values"
      ]
    },
    {
      "cell_type": "code",
      "metadata": {
        "colab": {
          "base_uri": "https://localhost:8080/"
        },
        "id": "RvHs2z_oIA4D",
        "outputId": "d6080936-0a76-4c73-adc5-d9a69c2bb868"
      },
      "source": [
        "#delete the dublicate values\r\n",
        "data.duplicated().sum() # count the total duplicate samples"
      ],
      "execution_count": 43,
      "outputs": [
        {
          "output_type": "execute_result",
          "data": {
            "text/plain": [
              "362"
            ]
          },
          "metadata": {
            "tags": []
          },
          "execution_count": 43
        }
      ]
    },
    {
      "cell_type": "code",
      "metadata": {
        "id": "uXnm45LUIGP5"
      },
      "source": [
        "data.drop_duplicates(keep='last',inplace=True)"
      ],
      "execution_count": 44,
      "outputs": []
    },
    {
      "cell_type": "code",
      "metadata": {
        "colab": {
          "base_uri": "https://localhost:8080/"
        },
        "id": "I5DClpvOIKgR",
        "outputId": "d621d857-0f51-4a2b-afbc-4b4e16f5f023"
      },
      "source": [
        "\r\n",
        "#there can be dublicate of author names so check for the dublicate headline and short discription\r\n",
        "data.duplicated(subset=[ 'combined_text']).sum()"
      ],
      "execution_count": 45,
      "outputs": [
        {
          "output_type": "execute_result",
          "data": {
            "text/plain": [
              "751"
            ]
          },
          "metadata": {
            "tags": []
          },
          "execution_count": 45
        }
      ]
    },
    {
      "cell_type": "code",
      "metadata": {
        "id": "RZDo1KILIQ7y"
      },
      "source": [
        "data.drop_duplicates(subset='combined_text' , keep ='last' , inplace=True)"
      ],
      "execution_count": 46,
      "outputs": []
    },
    {
      "cell_type": "code",
      "metadata": {
        "colab": {
          "base_uri": "https://localhost:8080/"
        },
        "id": "Ot9SYJHrIfl6",
        "outputId": "e68232f9-b0d5-4eef-82ce-9c74aaa74e37"
      },
      "source": [
        "print(\"THe length of the datset after dublicate deletion------>\",data.shape)"
      ],
      "execution_count": 47,
      "outputs": [
        {
          "output_type": "stream",
          "text": [
            "THe length of the datset after dublicate deletion------> (9648, 4)\n"
          ],
          "name": "stdout"
        }
      ]
    },
    {
      "cell_type": "markdown",
      "metadata": {
        "id": "uvDauMSAIruC"
      },
      "source": [
        "# Handling null values"
      ]
    },
    {
      "cell_type": "code",
      "metadata": {
        "colab": {
          "base_uri": "https://localhost:8080/"
        },
        "id": "nyqV9PfmIqnM",
        "outputId": "b8d2fbe8-dd77-44af-91aa-4af5120b3ae8"
      },
      "source": [
        "data.isnull().sum()"
      ],
      "execution_count": 48,
      "outputs": [
        {
          "output_type": "execute_result",
          "data": {
            "text/plain": [
              "combined_text      1\n",
              "query              0\n",
              "level1_labels      0\n",
              "level2_labels    133\n",
              "dtype: int64"
            ]
          },
          "metadata": {
            "tags": []
          },
          "execution_count": 48
        }
      ]
    },
    {
      "cell_type": "markdown",
      "metadata": {
        "id": "2HxWsIfO8J70"
      },
      "source": [
        " for now i am deleting only the null values in the 'combined_text' column, later when i am dealing with lavel2_labels, i will handle that null values"
      ]
    },
    {
      "cell_type": "code",
      "metadata": {
        "id": "DFQ1LNfBIzqb"
      },
      "source": [
        "data.dropna(subset =['combined_text'],axis=0 ,inplace=True , how='any')"
      ],
      "execution_count": 51,
      "outputs": []
    },
    {
      "cell_type": "code",
      "metadata": {
        "colab": {
          "base_uri": "https://localhost:8080/"
        },
        "id": "xnBqc7tDI97_",
        "outputId": "08398b32-4de1-42db-cadf-8e29df3b8205"
      },
      "source": [
        "print(\"THe length of the datset after null values deletion------>\",data.shape)"
      ],
      "execution_count": 52,
      "outputs": [
        {
          "output_type": "stream",
          "text": [
            "THe length of the datset after null values deletion------> (9647, 4)\n"
          ],
          "name": "stdout"
        }
      ]
    },
    {
      "cell_type": "code",
      "metadata": {
        "colab": {
          "base_uri": "https://localhost:8080/",
          "height": 162
        },
        "id": "Tl2hhA7LJFz5",
        "outputId": "37e9bc92-dfcd-448c-bafc-1f4f572c3d83"
      },
      "source": [
        "data[data['combined_text'] == ' ']\r\n",
        "data = data.reset_index()\r\n",
        "data = data.drop('index',axis=1)\r\n",
        "data.head(4)"
      ],
      "execution_count": 53,
      "outputs": [
        {
          "output_type": "execute_result",
          "data": {
            "text/html": [
              "<div>\n",
              "<style scoped>\n",
              "    .dataframe tbody tr th:only-of-type {\n",
              "        vertical-align: middle;\n",
              "    }\n",
              "\n",
              "    .dataframe tbody tr th {\n",
              "        vertical-align: top;\n",
              "    }\n",
              "\n",
              "    .dataframe thead th {\n",
              "        text-align: right;\n",
              "    }\n",
              "</style>\n",
              "<table border=\"1\" class=\"dataframe\">\n",
              "  <thead>\n",
              "    <tr style=\"text-align: right;\">\n",
              "      <th></th>\n",
              "      <th>combined_text</th>\n",
              "      <th>query</th>\n",
              "      <th>level1_labels</th>\n",
              "      <th>level2_labels</th>\n",
              "    </tr>\n",
              "  </thead>\n",
              "  <tbody>\n",
              "    <tr>\n",
              "      <th>0</th>\n",
              "      <td>Arts, Culture &amp; Entertainment | Champaign Coun...</td>\n",
              "      <td>arts, culture, entertainment and media</td>\n",
              "      <td>arts, culture, entertainment and media</td>\n",
              "      <td>NaN</td>\n",
              "    </tr>\n",
              "    <tr>\n",
              "      <th>1</th>\n",
              "      <td>Arts, Design, Entertainment, Sports, and Media...</td>\n",
              "      <td>arts, culture, entertainment and media</td>\n",
              "      <td>arts, culture, entertainment and media</td>\n",
              "      <td>NaN</td>\n",
              "    </tr>\n",
              "    <tr>\n",
              "      <th>2</th>\n",
              "      <td>Arts, Media, &amp; Entertainment - Santa Monica Co...</td>\n",
              "      <td>arts, culture, entertainment and media</td>\n",
              "      <td>arts, culture, entertainment and media</td>\n",
              "      <td>NaN</td>\n",
              "    </tr>\n",
              "    <tr>\n",
              "      <th>3</th>\n",
              "      <td>Arts and Entertainment Management College Degr...</td>\n",
              "      <td>arts, culture, entertainment and media</td>\n",
              "      <td>arts, culture, entertainment and media</td>\n",
              "      <td>NaN</td>\n",
              "    </tr>\n",
              "  </tbody>\n",
              "</table>\n",
              "</div>"
            ],
            "text/plain": [
              "                                       combined_text  ... level2_labels\n",
              "0  Arts, Culture & Entertainment | Champaign Coun...  ...           NaN\n",
              "1  Arts, Design, Entertainment, Sports, and Media...  ...           NaN\n",
              "2  Arts, Media, & Entertainment - Santa Monica Co...  ...           NaN\n",
              "3  Arts and Entertainment Management College Degr...  ...           NaN\n",
              "\n",
              "[4 rows x 4 columns]"
            ]
          },
          "metadata": {
            "tags": []
          },
          "execution_count": 53
        }
      ]
    },
    {
      "cell_type": "markdown",
      "metadata": {
        "id": "QaAKcrwCKgvY"
      },
      "source": [
        "# Cleaning the combined text"
      ]
    },
    {
      "cell_type": "code",
      "metadata": {
        "colab": {
          "base_uri": "https://localhost:8080/",
          "height": 162
        },
        "id": "CQemyRueKf4k",
        "outputId": "db907649-6f16-4846-851e-540aa8b93a1c"
      },
      "source": [
        "def preprocessor_text(text):\r\n",
        "    if isinstance((text), (str)):\r\n",
        "        text = re.sub('<[^>]*>', ' ', text)\r\n",
        "        text = re.sub('[\\W]+', ' ', text.lower())\r\n",
        "        return text\r\n",
        "    if isinstance((text), (list)):\r\n",
        "        return_list = []\r\n",
        "        for i in range(len(text)):\r\n",
        "            temp_text = re.sub('<[^>]*>', '', text[i])\r\n",
        "            temp_text = re.sub('[\\W]+', '', temp_text.lower())\r\n",
        "            return_list.append(temp_text)\r\n",
        "        return(return_list)\r\n",
        "\r\n",
        "data['combined_text'] = data['combined_text'].apply(preprocessor_text)\r\n",
        "\r\n",
        "data.head(4)"
      ],
      "execution_count": 54,
      "outputs": [
        {
          "output_type": "execute_result",
          "data": {
            "text/html": [
              "<div>\n",
              "<style scoped>\n",
              "    .dataframe tbody tr th:only-of-type {\n",
              "        vertical-align: middle;\n",
              "    }\n",
              "\n",
              "    .dataframe tbody tr th {\n",
              "        vertical-align: top;\n",
              "    }\n",
              "\n",
              "    .dataframe thead th {\n",
              "        text-align: right;\n",
              "    }\n",
              "</style>\n",
              "<table border=\"1\" class=\"dataframe\">\n",
              "  <thead>\n",
              "    <tr style=\"text-align: right;\">\n",
              "      <th></th>\n",
              "      <th>combined_text</th>\n",
              "      <th>query</th>\n",
              "      <th>level1_labels</th>\n",
              "      <th>level2_labels</th>\n",
              "    </tr>\n",
              "  </thead>\n",
              "  <tbody>\n",
              "    <tr>\n",
              "      <th>0</th>\n",
              "      <td>arts culture entertainment champaign county ch...</td>\n",
              "      <td>arts, culture, entertainment and media</td>\n",
              "      <td>arts, culture, entertainment and media</td>\n",
              "      <td>NaN</td>\n",
              "    </tr>\n",
              "    <tr>\n",
              "      <th>1</th>\n",
              "      <td>arts design entertainment sports and media occ...</td>\n",
              "      <td>arts, culture, entertainment and media</td>\n",
              "      <td>arts, culture, entertainment and media</td>\n",
              "      <td>NaN</td>\n",
              "    </tr>\n",
              "    <tr>\n",
              "      <th>2</th>\n",
              "      <td>arts media entertainment santa monica college ...</td>\n",
              "      <td>arts, culture, entertainment and media</td>\n",
              "      <td>arts, culture, entertainment and media</td>\n",
              "      <td>NaN</td>\n",
              "    </tr>\n",
              "    <tr>\n",
              "      <th>3</th>\n",
              "      <td>arts and entertainment management college degr...</td>\n",
              "      <td>arts, culture, entertainment and media</td>\n",
              "      <td>arts, culture, entertainment and media</td>\n",
              "      <td>NaN</td>\n",
              "    </tr>\n",
              "  </tbody>\n",
              "</table>\n",
              "</div>"
            ],
            "text/plain": [
              "                                       combined_text  ... level2_labels\n",
              "0  arts culture entertainment champaign county ch...  ...           NaN\n",
              "1  arts design entertainment sports and media occ...  ...           NaN\n",
              "2  arts media entertainment santa monica college ...  ...           NaN\n",
              "3  arts and entertainment management college degr...  ...           NaN\n",
              "\n",
              "[4 rows x 4 columns]"
            ]
          },
          "metadata": {
            "tags": []
          },
          "execution_count": 54
        }
      ]
    },
    {
      "cell_type": "markdown",
      "metadata": {
        "id": "mfto5IdGLNzZ"
      },
      "source": [
        "# Balance the dataset"
      ]
    },
    {
      "cell_type": "code",
      "metadata": {
        "id": "srfoCrVVO30k"
      },
      "source": [
        "#helper functions\r\n",
        "def downsample(df , label):\r\n",
        "  g = df.groupby(label , group_keys=False)\r\n",
        "  balaced_df = pd.DataFrame(g.apply(lambda x : x.sample(g.size().min()))).reset_index(drop=True)\r\n",
        "  return balaced_df\r\n",
        "\r\n",
        "\r\n",
        "def balace_category(data , category_column , downsample_value):\r\n",
        "  #to handle the categories easily, we have to change the dtype of the 'query' to category\r\n",
        "  data[category_column] = data[category_column].astype('category')\r\n",
        "\r\n",
        "  category = data[category_column].value_counts().index\r\n",
        "  print(\"The shape before deletion------------------------------------------>\",data.shape)\r\n",
        "  print()\r\n",
        "  print(\"The number of category in the {} column------------------------->{}\".format(category_column , len(category)))\r\n",
        "\r\n",
        "  #seperate the column which has to be delete\r\n",
        "  need_to_be_deleted = category[(data[category_column].value_counts() < downsample_value)]\r\n",
        "  print(\"The number of category need to be deleted in the {} column------>{}\".format(category_column , len(need_to_be_deleted)))\r\n",
        "\r\n",
        "  #delete the unwanted category\r\n",
        "  data[category_column] = data[category_column].cat.remove_categories(need_to_be_deleted) #set nan for the categories need to be deletd and then use dropna to delete those things\r\n",
        "  data.dropna(axis=0 , how='any',inplace=True) #delete the nan category\r\n",
        "\r\n",
        "  print(\"The number of category after deletion------------------------------>\",len(data[category_column].value_counts().index))\r\n",
        "  print()\r\n",
        "  print(\"The shape after deletion------------------------------------------->\",data.shape)\r\n",
        "  print()\r\n",
        "\r\n",
        "  #down sample the query category to its minimum value\r\n",
        "  data = downsample(data , category_column) #call the helper function\r\n",
        "  #data[category_column].value_counts()\r\n",
        "\r\n",
        "  #saffule the dataset\r\n",
        "  data = shuffle(data)\r\n",
        "  data.reset_index(inplace=True, drop=True) \r\n",
        "  \r\n",
        "\r\n",
        "  return data"
      ],
      "execution_count": 17,
      "outputs": []
    },
    {
      "cell_type": "code",
      "metadata": {
        "colab": {
          "base_uri": "https://localhost:8080/",
          "height": 132
        },
        "id": "m-0dMreXO6kq",
        "outputId": "ebfc1b5c-83c0-4b87-ffb2-88055eac2b10"
      },
      "source": [
        "#for my understanding- if you cant understand the healper function , uncommend this and try each parts seperately, you will get a clear idea of what is happening\r\n",
        "\"\"\"\r\n",
        "#part-1\r\n",
        "#to handle the categories easily, we have to change the dtype of the 'query' to category\r\n",
        "data_query['query'] = data_query['query'].astype('category')\r\n",
        "\r\n",
        "#part-2\r\n",
        "query_category = data_query['query'].value_counts().index\r\n",
        "print(\"The shape before deletion------------------------------------------>\",data_query.shape)\r\n",
        "print()\r\n",
        "print(\"The number of category in the query column------------------------->\",len(query_category))\r\n",
        "\r\n",
        "#seperate the column which has to be delete\r\n",
        "need_to_be_deleted = query_category[(data_query['query'].value_counts()<6)]\r\n",
        "print(\"The number of category need to be deleted in the query column------>\",len(need_to_be_deleted))\r\n",
        "\r\n",
        "#delete the unwanted category\r\n",
        "data_query['query'] = data_query['query'].cat.remove_categories(need_to_be_deleted) #set nan for the categories need to be deletd and then use dropna to delete those things\r\n",
        "data_query.dropna(axis=0 , how='any',inplace=True) #delete the nan category\r\n",
        "\r\n",
        "print(\"The number of category after deletion------------------------------>\",len(data_query['query'].value_counts().index))\r\n",
        "print()\r\n",
        "print(\"The shape after deletion------------------------------------------->\",data_query.shape)\r\n",
        "print()\r\n",
        "\r\n",
        "#part-3\r\n",
        "#down sample the query category to its minimum value\r\n",
        "data_query = downsample(data_query , 'query')\r\n",
        "data_query['query'].value_counts()\"\"\"\r\n"
      ],
      "execution_count": 18,
      "outputs": [
        {
          "output_type": "execute_result",
          "data": {
            "application/vnd.google.colaboratory.intrinsic+json": {
              "type": "string"
            },
            "text/plain": [
              "'\\n#part-1\\n#to handle the categories easily, we have to change the dtype of the \\'query\\' to category\\ndata_query[\\'query\\'] = data_query[\\'query\\'].astype(\\'category\\')\\n\\n#part-2\\nquery_category = data_query[\\'query\\'].value_counts().index\\nprint(\"The shape before deletion------------------------------------------>\",data_query.shape)\\nprint()\\nprint(\"The number of category in the query column------------------------->\",len(query_category))\\n\\n#seperate the column which has to be delete\\nneed_to_be_deleted = query_category[(data_query[\\'query\\'].value_counts()<6)]\\nprint(\"The number of category need to be deleted in the query column------>\",len(need_to_be_deleted))\\n\\n#delete the unwanted category\\ndata_query[\\'query\\'] = data_query[\\'query\\'].cat.remove_categories(need_to_be_deleted) #set nan for the categories need to be deletd and then use dropna to delete those things\\ndata_query.dropna(axis=0 , how=\\'any\\',inplace=True) #delete the nan category\\n\\nprint(\"The number of category after deletion------------------------------>\",len(data_query[\\'query\\'].value_counts().index))\\nprint()\\nprint(\"The shape after deletion------------------------------------------->\",data_query.shape)\\nprint()\\n\\n#part-3\\n#down sample the query category to its minimum value\\ndata_query = downsample(data_query , \\'query\\')\\ndata_query[\\'query\\'].value_counts()'"
            ]
          },
          "metadata": {
            "tags": []
          },
          "execution_count": 18
        }
      ]
    },
    {
      "cell_type": "code",
      "metadata": {
        "id": "SMYY44-50okY"
      },
      "source": [
        "#healper function\r\n",
        "label = LabelEncoder()\r\n",
        "\r\n",
        "def split_and_tfidfVectorization(X , y , max_df , min_df):\r\n",
        "\r\n",
        "  #label the y value\r\n",
        "  y = label.fit_transform(y)\r\n",
        "  #split the dataset\r\n",
        "  X_train,X_test,y_train,y_test = train_test_split(X,y,test_size = 0.2,random_state = 42)\r\n",
        "\r\n",
        "  #tfidf\r\n",
        "  vecto =  TfidfVectorizer(stop_words='english',max_df = max_df ,min_df= min_df,\r\n",
        "                                   ngram_range=(1, 2),lowercase=True, max_features=5000)\r\n",
        "  vecto = vecto.fit(X_train)\r\n",
        "\r\n",
        "  X_train = vecto.transform(X_train).toarray()\r\n",
        "  X_test = vecto.transform(X_test).toarray()\r\n",
        "\r\n",
        "  #print the shapes\r\n",
        "  print(\"The shape of the X train----------->\",X_train.shape)\r\n",
        "  print(\"The shape of the y train----------->\",y_train.shape)\r\n",
        "  print(\"The shape of the X test------------>\",X_test.shape)\r\n",
        "  print(\"The shape of the y test------------>\",y_test.shape)\r\n",
        "\r\n",
        "  return X_train,X_test,y_train,y_test,vecto"
      ],
      "execution_count": 71,
      "outputs": []
    },
    {
      "cell_type": "markdown",
      "metadata": {
        "id": "lhkmBhAi5Vj4"
      },
      "source": [
        "# Model training"
      ]
    },
    {
      "cell_type": "code",
      "metadata": {
        "id": "Ksv6XLteQH-0"
      },
      "source": [
        "def classifier_scores(y_train,y_test, pred_train, pred_test):\r\n",
        "    \r\n",
        "    print()\r\n",
        "    print(\"Train data accuracy score: \", accuracy_score(y_train,pred_train))    \r\n",
        "    print(\"Test data accuracy score: \", accuracy_score(y_test,pred_test))\r\n",
        "    print()\r\n",
        "    print(\"Recall score on train data: \", recall_score(y_train,pred_train, average='macro'))\r\n",
        "    print(\"Recall score on test data: \",recall_score( y_test,pred_test, average='macro'))\r\n",
        "    print()\r\n",
        "    \r\n",
        "    print(\"Precision score on train data: \",precision_score(y_train,pred_train, average='macro'))\r\n",
        "    print(\"Precision score on test data: \",precision_score(y_test,pred_test, average='macro'))\r\n",
        "    print()\r\n",
        "    print(\"F1 score on train data: \",f1_score(y_train,pred_train, average='macro'))\r\n",
        "    print(\"F1 score on test data: \",f1_score(y_test,pred_test, average='macro'))"
      ],
      "execution_count": 32,
      "outputs": []
    },
    {
      "cell_type": "markdown",
      "metadata": {
        "id": "5pxTJCvl55kX"
      },
      "source": [
        "# Logistric Regression"
      ]
    },
    {
      "cell_type": "code",
      "metadata": {
        "id": "OePdG_S45aV7"
      },
      "source": [
        "def logistricRegression( X_train,X_test,y_train,y_test):\r\n",
        "  log_reg = LogisticRegression()\r\n",
        "\r\n",
        "  log_reg.fit(X_train , y_train)\r\n",
        "\r\n",
        "  y_train_pred = log_reg.predict(X_train)\r\n",
        "  y_test_pred = log_reg.predict(X_test)\r\n",
        "\r\n",
        "  classifier_scores(y_train,y_test,y_train_pred,y_test_pred) #call the healper function\r\n",
        "\r\n",
        "  return log_reg"
      ],
      "execution_count": 33,
      "outputs": []
    },
    {
      "cell_type": "markdown",
      "metadata": {
        "id": "Ung4-HBwqk8E"
      },
      "source": [
        "### 'query' categories"
      ]
    },
    {
      "cell_type": "markdown",
      "metadata": {
        "id": "mX3ZAwz3kXhd"
      },
      "source": [
        "- When doing the balancing , we have to delete the categorie, which are having very few sample. Here by i am deleting the categories which are having less than 6 sample. \r\n",
        "- after deletion, we have to resample the data by select 6 samples randomly from each categories. "
      ]
    },
    {
      "cell_type": "code",
      "metadata": {
        "colab": {
          "base_uri": "https://localhost:8080/"
        },
        "id": "g6u5IWUOK_uf",
        "outputId": "8bd9a638-554e-4862-f0fe-f52cc9972451"
      },
      "source": [
        "#copy the original data \r\n",
        "data2 = data.copy()\r\n",
        "data_query = data[['combined_text' , 'query']].copy()\r\n",
        "\r\n",
        "#balace the dataset according to 'query' column\r\n",
        "data_query = balace_category(data = data_query , category_column= 'query' , downsample_value= 6)"
      ],
      "execution_count": 55,
      "outputs": [
        {
          "output_type": "stream",
          "text": [
            "The shape before deletion------------------------------------------> (9647, 2)\n",
            "\n",
            "The number of category in the query column------------------------->1296\n",
            "The number of category need to be deleted in the query column------>254\n",
            "The number of category after deletion------------------------------> 1042\n",
            "\n",
            "The shape after deletion-------------------------------------------> (8570, 2)\n",
            "\n"
          ],
          "name": "stdout"
        }
      ]
    },
    {
      "cell_type": "code",
      "metadata": {
        "colab": {
          "base_uri": "https://localhost:8080/"
        },
        "id": "R7auqDcHJznT",
        "outputId": "7ac30d39-f58a-4f38-e50e-a317673d5a52"
      },
      "source": [
        "X = data_query['combined_text']\r\n",
        "y = data_query['query']\r\n",
        "\r\n",
        "X_train,X_test,y_train,y_test,vecto_query = split_and_tfidfVectorization(X,y , max_df = 0.99 , min_df = 6)"
      ],
      "execution_count": 56,
      "outputs": [
        {
          "output_type": "stream",
          "text": [
            "The shape of the X train-----------> (5001, 4608)\n",
            "The shape of the y train-----------> (5001,)\n",
            "The shape of the X test------------> (1251, 4608)\n",
            "The shape of the y test------------> (1251,)\n"
          ],
          "name": "stdout"
        }
      ]
    },
    {
      "cell_type": "code",
      "metadata": {
        "colab": {
          "base_uri": "https://localhost:8080/"
        },
        "id": "xA11PEOplfC3",
        "outputId": "a3166843-14eb-4f23-8b01-d2b27fd03cea"
      },
      "source": [
        "# train the logistric regression model\r\n",
        "log_reg_query = logistricRegression(X_train,X_test,y_train,y_test)"
      ],
      "execution_count": 57,
      "outputs": [
        {
          "output_type": "stream",
          "text": [
            "\n",
            "Train data accuracy score:  0.8862227554489103\n",
            "Test data accuracy score:  0.35251798561151076\n",
            "\n",
            "Recall score on train data:  0.8506078055022394\n",
            "Recall score on test data:  0.3589477327795085\n",
            "\n",
            "Precision score on train data:  0.8760905095118148\n",
            "Precision score on test data:  0.3281325718241606\n",
            "\n",
            "F1 score on train data:  0.8439925001277009\n",
            "F1 score on test data:  0.3224579274423511\n"
          ],
          "name": "stdout"
        },
        {
          "output_type": "stream",
          "text": [
            "/usr/local/lib/python3.6/dist-packages/sklearn/metrics/_classification.py:1272: UndefinedMetricWarning: Recall is ill-defined and being set to 0.0 in labels with no true samples. Use `zero_division` parameter to control this behavior.\n",
            "  _warn_prf(average, modifier, msg_start, len(result))\n",
            "/usr/local/lib/python3.6/dist-packages/sklearn/metrics/_classification.py:1272: UndefinedMetricWarning: Precision is ill-defined and being set to 0.0 in labels with no predicted samples. Use `zero_division` parameter to control this behavior.\n",
            "  _warn_prf(average, modifier, msg_start, len(result))\n"
          ],
          "name": "stderr"
        }
      ]
    },
    {
      "cell_type": "markdown",
      "metadata": {
        "id": "WfMS5Vu77MSi"
      },
      "source": [
        "# Level1_label classification"
      ]
    },
    {
      "cell_type": "code",
      "metadata": {
        "colab": {
          "base_uri": "https://localhost:8080/"
        },
        "id": "9gqO_pd_HAVD",
        "outputId": "5b2fc24a-898d-4b20-f471-cde962671b36"
      },
      "source": [
        "# set the dataset\r\n",
        "data_lavel1 = data[['combined_text' , 'level1_labels']]\r\n",
        "\r\n",
        "#check fot the downsample value\r\n",
        "data_lavel1['level1_labels'].value_counts()"
      ],
      "execution_count": 36,
      "outputs": [
        {
          "output_type": "execute_result",
          "data": {
            "text/plain": [
              "sport                                        2416\n",
              "economy, business and finance                1940\n",
              "politics                                      757\n",
              "arts, culture, entertainment and media        536\n",
              "crime, law and justice                        477\n",
              "health                                        452\n",
              "science and technology                        427\n",
              "religion and belief                           422\n",
              "society                                       403\n",
              "lifestyle and leisure                         396\n",
              "labour                                        259\n",
              "disaster, accident and emergency incident     237\n",
              "conflict, war and peace                       221\n",
              "environment                                   215\n",
              "education                                     188\n",
              "human interest                                135\n",
              "weather                                        33\n",
              "Name: level1_labels, dtype: int64"
            ]
          },
          "metadata": {
            "tags": []
          },
          "execution_count": 36
        }
      ]
    },
    {
      "cell_type": "code",
      "metadata": {
        "colab": {
          "base_uri": "https://localhost:8080/",
          "height": 682
        },
        "id": "7ttpR8ve7tXa",
        "outputId": "03b3455f-118b-4f97-b0f2-63743642e323"
      },
      "source": [
        "data_labbel1_category = data_lavel1['level1_labels'].value_counts()\r\n",
        "\r\n",
        "plt.figure(figsize=(25,18)) \r\n",
        "\r\n",
        "sns.barplot(y = data_labbel1_category.index , x=data_labbel1_category.values , )\r\n",
        "\r\n",
        "plt.title(\"The distribution of level1_labels\")\r\n",
        "plt.xlabel(\"labels\")\r\n",
        "plt.ylabel(\"The number of samples\")\r\n",
        "\r\n",
        "plt.yticks(rotation=0,fontsize = 28)\r\n",
        "plt.xticks(rotation=0,fontsize = 28)\r\n",
        "plt.show()\r\n",
        "#plt.savefig(r\"./author_bar.png\")"
      ],
      "execution_count": 66,
      "outputs": [
        {
          "output_type": "display_data",
          "data": {
            "image/png": "[encoded data removed]",
            "text/plain": [
              "<Figure size 1800x1296 with 1 Axes>"
            ]
          },
          "metadata": {
            "tags": [],
            "needs_background": "light"
          }
        }
      ]
    },
    {
      "cell_type": "markdown",
      "metadata": {
        "id": "nh-AAjuo_7np"
      },
      "source": [
        "## Model training with out category balancing"
      ]
    },
    {
      "cell_type": "code",
      "metadata": {
        "colab": {
          "base_uri": "https://localhost:8080/"
        },
        "id": "U2VR4ieY-Mdr",
        "outputId": "fd043f4c-9a11-41d0-c82d-636b4e9b30ac"
      },
      "source": [
        "# train the model with out data balancing\r\n",
        "X = data_lavel1['combined_text']\r\n",
        "y = data_lavel1['level1_labels']\r\n",
        "print('The lenth of the dataset',len(X))\r\n",
        "print()\r\n",
        "print()\r\n",
        "X_train,X_test,y_train,y_test,vecto_level1 = split_and_tfidfVectorization(X,y , max_df = 0.99 , min_df = 8)\r\n",
        "\r\n",
        "#train and eveluate the model\r\n",
        "print('-'*50)\r\n",
        "print(\"Training the model.......................\")\r\n",
        "log_reg_level1 = logistricRegression(X_train,X_test,y_train,y_test)"
      ],
      "execution_count": 72,
      "outputs": [
        {
          "output_type": "stream",
          "text": [
            "The shape of the X train-----------> (7611, 4962)\n",
            "The shape of the y train-----------> (7611,)\n",
            "The shape of the X test------------> (1903, 4962)\n",
            "The shape of the y test------------> (1903,)\n",
            "--------------------------------------------------\n",
            "Training the model.......................\n"
          ],
          "name": "stdout"
        },
        {
          "output_type": "stream",
          "text": [
            "/usr/local/lib/python3.6/dist-packages/sklearn/linear_model/_logistic.py:940: ConvergenceWarning: lbfgs failed to converge (status=1):\n",
            "STOP: TOTAL NO. of ITERATIONS REACHED LIMIT.\n",
            "\n",
            "Increase the number of iterations (max_iter) or scale the data as shown in:\n",
            "    https://scikit-learn.org/stable/modules/preprocessing.html\n",
            "Please also refer to the documentation for alternative solver options:\n",
            "    https://scikit-learn.org/stable/modules/linear_model.html#logistic-regression\n",
            "  extra_warning_msg=_LOGISTIC_SOLVER_CONVERGENCE_MSG)\n"
          ],
          "name": "stderr"
        },
        {
          "output_type": "stream",
          "text": [
            "\n",
            "Train data accuracy score:  0.8943634213638155\n",
            "Test data accuracy score:  0.7877036258539148\n",
            "\n",
            "Recall score on train data:  0.8048973647277359\n",
            "Recall score on test data:  0.644989746876928\n",
            "\n",
            "Precision score on train data:  0.9439816233427616\n",
            "Precision score on test data:  0.8656009716166131\n",
            "\n",
            "F1 score on train data:  0.861307373106428\n",
            "F1 score on test data:  0.7189245779250539\n"
          ],
          "name": "stdout"
        }
      ]
    },
    {
      "cell_type": "markdown",
      "metadata": {
        "id": "ZVMvE2mFABJ_"
      },
      "source": [
        "## Model trainig with category balancing"
      ]
    },
    {
      "cell_type": "code",
      "metadata": {
        "colab": {
          "base_uri": "https://localhost:8080/"
        },
        "id": "eBPHczRl_Guo",
        "outputId": "a86190e8-4208-4662-ba92-7c1b0e9683eb"
      },
      "source": [
        "#balace the dataset according to 'level1_labels' column\r\n",
        "data_query = balace_category(data = data_lavel1 , category_column= 'level1_labels' , downsample_value= 237)\r\n",
        "\r\n",
        "#split and Vectorize\r\n",
        "X_train,X_test,y_train,y_test,vecto_level1 = split_and_tfidfVectorization(X,y , max_df = 0.99 , min_df = 7)\r\n",
        "\r\n",
        "#train and eveluate the model\r\n",
        "print('-'*50)\r\n",
        "print(\"Training the model.......................\")\r\n",
        "log_reg_level1_balanced = logistricRegression(X_train,X_test,y_train,y_test)"
      ],
      "execution_count": 79,
      "outputs": [
        {
          "output_type": "stream",
          "text": [
            "The shape before deletion------------------------------------------> (8722, 2)\n",
            "\n",
            "The number of category in the level1_labels column------------------------->12\n",
            "The number of category need to be deleted in the level1_labels column------>0\n",
            "The number of category after deletion------------------------------> 12\n",
            "\n",
            "The shape after deletion-------------------------------------------> (8722, 2)\n",
            "\n",
            "The shape of the X train-----------> (7611, 5000)\n",
            "The shape of the y train-----------> (7611,)\n",
            "The shape of the X test------------> (1903, 5000)\n",
            "The shape of the y test------------> (1903,)\n",
            "--------------------------------------------------\n",
            "Training the model.......................\n"
          ],
          "name": "stdout"
        },
        {
          "output_type": "stream",
          "text": [
            "/usr/local/lib/python3.6/dist-packages/sklearn/linear_model/_logistic.py:940: ConvergenceWarning: lbfgs failed to converge (status=1):\n",
            "STOP: TOTAL NO. of ITERATIONS REACHED LIMIT.\n",
            "\n",
            "Increase the number of iterations (max_iter) or scale the data as shown in:\n",
            "    https://scikit-learn.org/stable/modules/preprocessing.html\n",
            "Please also refer to the documentation for alternative solver options:\n",
            "    https://scikit-learn.org/stable/modules/linear_model.html#logistic-regression\n",
            "  extra_warning_msg=_LOGISTIC_SOLVER_CONVERGENCE_MSG)\n"
          ],
          "name": "stderr"
        },
        {
          "output_type": "stream",
          "text": [
            "\n",
            "Train data accuracy score:  0.9001445276573381\n",
            "Test data accuracy score:  0.7987388334209143\n",
            "\n",
            "Recall score on train data:  0.8110551077302022\n",
            "Recall score on test data:  0.6623331428931523\n",
            "\n",
            "Precision score on train data:  0.9467909509545718\n",
            "Precision score on test data:  0.8726574248634961\n",
            "\n",
            "F1 score on train data:  0.8661498387410589\n",
            "F1 score on test data:  0.7351249837506348\n"
          ],
          "name": "stdout"
        }
      ]
    },
    {
      "cell_type": "markdown",
      "metadata": {
        "id": "afT9iMzvCFPR"
      },
      "source": [
        "# 'level2_labels' category"
      ]
    },
    {
      "cell_type": "code",
      "metadata": {
        "colab": {
          "base_uri": "https://localhost:8080/"
        },
        "id": "8ddiB_MwBYbA",
        "outputId": "ab343cf2-4471-4d60-b6ff-e0cae7b5dfa3"
      },
      "source": [
        "# set the dataset\r\n",
        "data_lavel2 = data[['combined_text' , 'level2_labels']].copy()\r\n",
        "\r\n",
        "#check fot the downsample value\r\n",
        "data_lavel2['level2_labels'].value_counts()"
      ],
      "execution_count": 86,
      "outputs": [
        {
          "output_type": "execute_result",
          "data": {
            "text/plain": [
              "competition discipline                        2213\n",
              "economic sector                               1183\n",
              "arts and entertainment                         425\n",
              "economy                                        343\n",
              "leisure                                        305\n",
              "                                              ... \n",
              "non-governmental organisation                    5\n",
              "bodybuilding                                     4\n",
              "sport industry                                   4\n",
              "religious institutions and state relations       4\n",
              "religious education                              4\n",
              "Name: level2_labels, Length: 109, dtype: int64"
            ]
          },
          "metadata": {
            "tags": []
          },
          "execution_count": 86
        }
      ]
    },
    {
      "cell_type": "code",
      "metadata": {
        "colab": {
          "base_uri": "https://localhost:8080/"
        },
        "id": "FkT1iuEKCeCY",
        "outputId": "604ebc0c-d3b6-4402-9828-09c2a4eaf995"
      },
      "source": [
        "# handling the null values\r\n",
        "data_lavel2.isnull().sum()"
      ],
      "execution_count": 81,
      "outputs": [
        {
          "output_type": "execute_result",
          "data": {
            "text/plain": [
              "combined_text      0\n",
              "level2_labels    133\n",
              "dtype: int64"
            ]
          },
          "metadata": {
            "tags": []
          },
          "execution_count": 81
        }
      ]
    },
    {
      "cell_type": "code",
      "metadata": {
        "colab": {
          "base_uri": "https://localhost:8080/"
        },
        "id": "M7-AK2W-CnWS",
        "outputId": "ca10e86b-acd8-49cc-ba68-59febda4630a"
      },
      "source": [
        "data_lavel2.dropna(axis=0 ,inplace =True , how ='any')\r\n",
        "print('The shape of the dataset-------------->',data_lavel2.shape)"
      ],
      "execution_count": 87,
      "outputs": [
        {
          "output_type": "stream",
          "text": [
            "The shape of the dataset--------------> (9514, 2)\n"
          ],
          "name": "stdout"
        }
      ]
    },
    {
      "cell_type": "code",
      "metadata": {
        "id": "328feLZmC4f0"
      },
      "source": [
        ""
      ],
      "execution_count": null,
      "outputs": []
    }
  ]
}
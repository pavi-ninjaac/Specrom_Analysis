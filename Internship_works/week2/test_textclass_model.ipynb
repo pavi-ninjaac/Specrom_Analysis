{
  "nbformat": 4,
  "nbformat_minor": 0,
  "metadata": {
    "colab": {
      "name": "test_textclass_model",
      "provenance": [],
      "mount_file_id": "1R1HRRJSAHOjcrVASIgD2u8GMbVGidmUh",
      "authorship_tag": "ABX9TyNyLQMAK2Wn5L1YpEVeogMG",
      "include_colab_link": true
    },
    "kernelspec": {
      "name": "python3",
      "display_name": "Python 3"
    }
  },
  "cells": [
    {
      "cell_type": "markdown",
      "metadata": {
        "id": "view-in-github",
        "colab_type": "text"
      },
      "source": [
        "<a href=\"https://colab.research.google.com/github/pavi-ninjaac/Specrom_Analysis/blob/main/Internship_works/week2/test_textclass_model.ipynb\" target=\"_parent\"><img src=\"https://colab.research.google.com/assets/colab-badge.svg\" alt=\"Open In Colab\"/></a>"
      ]
    },
    {
      "cell_type": "code",
      "metadata": {
        "id": "d7lXPNw8AQHW"
      },
      "source": [
        "#import the libraries\r\n",
        "import numpy as np\r\n",
        "import pandas as pd\r\n",
        "import matplotlib.pyplot as plt\r\n",
        "import seaborn as sns\r\n",
        "import pickle\r\n",
        "#sklearn \r\n",
        "from sklearn.feature_extraction.text import TfidfVectorizer\r\n",
        "from sklearn. preprocessing import LabelEncoder\r\n",
        "from sklearn.metrics import accuracy_score,f1_score,recall_score,precision_score"
      ],
      "execution_count": 36,
      "outputs": []
    },
    {
      "cell_type": "code",
      "metadata": {
        "colab": {
          "base_uri": "https://localhost:8080/"
        },
        "id": "ZX4hV1OsAwlk",
        "outputId": "0d7b7792-9bc8-4757-86f1-2c3cf50720bc"
      },
      "source": [
        "data = pd.read_csv('/content/drive/MyDrive/Colab Notebooks/dataFiles/Text_classification_news_article/data_news_cleaned.csv')\r\n",
        "print(\"the shape of the dataset----->\",data.shape)"
      ],
      "execution_count": 75,
      "outputs": [
        {
          "output_type": "stream",
          "text": [
            "the shape of the dataset-----> (5722, 16)\n"
          ],
          "name": "stdout"
        }
      ]
    },
    {
      "cell_type": "code",
      "metadata": {
        "colab": {
          "base_uri": "https://localhost:8080/"
        },
        "id": "L_KrXQ5WDf22",
        "outputId": "bd1a7ccd-6ea5-452b-c535-b072879ce855"
      },
      "source": [
        "#keep only needed columns\r\n",
        "column_keep = ['author','description','full_text','title','topic']\r\n",
        "data = data[column_keep]\r\n",
        "data['topic'].value_counts()"
      ],
      "execution_count": 72,
      "outputs": [
        {
          "output_type": "execute_result",
          "data": {
            "text/plain": [
              "business         1387\n",
              "tech             1331\n",
              "entertainment    1182\n",
              "sport            1118\n",
              "politics          704\n",
              "Name: topic, dtype: int64"
            ]
          },
          "metadata": {
            "tags": []
          },
          "execution_count": 72
        }
      ]
    },
    {
      "cell_type": "code",
      "metadata": {
        "colab": {
          "base_uri": "https://localhost:8080/",
          "height": 162
        },
        "id": "4kct-X_5EcU8",
        "outputId": "a99ca48c-56bf-4d34-da85-7ea5ca7f28f8"
      },
      "source": [
        "data['text'] = data['description'] + '-' + data['full_text']\r\n",
        "data = data[['text','topic']]\r\n",
        "data.dropna(axis=0,how='any',inplace=True)\r\n",
        "data.head(4)"
      ],
      "execution_count": 76,
      "outputs": [
        {
          "output_type": "execute_result",
          "data": {
            "text/html": [
              "<div>\n",
              "<style scoped>\n",
              "    .dataframe tbody tr th:only-of-type {\n",
              "        vertical-align: middle;\n",
              "    }\n",
              "\n",
              "    .dataframe tbody tr th {\n",
              "        vertical-align: top;\n",
              "    }\n",
              "\n",
              "    .dataframe thead th {\n",
              "        text-align: right;\n",
              "    }\n",
              "</style>\n",
              "<table border=\"1\" class=\"dataframe\">\n",
              "  <thead>\n",
              "    <tr style=\"text-align: right;\">\n",
              "      <th></th>\n",
              "      <th>text</th>\n",
              "      <th>topic</th>\n",
              "    </tr>\n",
              "  </thead>\n",
              "  <tbody>\n",
              "    <tr>\n",
              "      <th>0</th>\n",
              "      <td>The Food and Drug Administration has offered a...</td>\n",
              "      <td>politics</td>\n",
              "    </tr>\n",
              "    <tr>\n",
              "      <th>1</th>\n",
              "      <td>The billâs gifts to the wealthy underscore t...</td>\n",
              "      <td>politics</td>\n",
              "    </tr>\n",
              "    <tr>\n",
              "      <th>2</th>\n",
              "      <td>It is naive to think that either party is free...</td>\n",
              "      <td>tech</td>\n",
              "    </tr>\n",
              "    <tr>\n",
              "      <th>3</th>\n",
              "      <td>Much of the loudest opposition to the $600 che...</td>\n",
              "      <td>business</td>\n",
              "    </tr>\n",
              "  </tbody>\n",
              "</table>\n",
              "</div>"
            ],
            "text/plain": [
              "                                                text     topic\n",
              "0  The Food and Drug Administration has offered a...  politics\n",
              "1  The billâs gifts to the wealthy underscore t...  politics\n",
              "2  It is naive to think that either party is free...      tech\n",
              "3  Much of the loudest opposition to the $600 che...  business"
            ]
          },
          "metadata": {
            "tags": []
          },
          "execution_count": 76
        }
      ]
    },
    {
      "cell_type": "markdown",
      "metadata": {
        "id": "uADFpOq5FQIB"
      },
      "source": [
        "# Vectorization "
      ]
    },
    {
      "cell_type": "code",
      "metadata": {
        "id": "Q1L41LxsDjar"
      },
      "source": [
        "X_test , y_test = data['text'] , data['topic']\r\n",
        "# label ecode the terget value\r\n",
        "label = LabelEncoder()\r\n",
        "y_test = label.fit_transform(y_test)"
      ],
      "execution_count": 30,
      "outputs": []
    },
    {
      "cell_type": "code",
      "metadata": {
        "colab": {
          "base_uri": "https://localhost:8080/"
        },
        "id": "AX-Ci4wdE_vV",
        "outputId": "a82a3964-c190-4090-d114-f8d6271eaf79"
      },
      "source": [
        "#ifidf vectorizer\r\n",
        "\r\n",
        "vecto =  TfidfVectorizer(stop_words='english',max_df = 0.99,min_df=10,\r\n",
        "                                   ngram_range=(1, 2),lowercase=True, max_features=5000)\r\n",
        "vecto = vecto.fit(X_test)\r\n",
        "\r\n",
        "X_test = vecto.transform(X_test).toarray()\r\n",
        "X_test.shape"
      ],
      "execution_count": 31,
      "outputs": [
        {
          "output_type": "execute_result",
          "data": {
            "text/plain": [
              "(5707, 5000)"
            ]
          },
          "metadata": {
            "tags": []
          },
          "execution_count": 31
        }
      ]
    },
    {
      "cell_type": "markdown",
      "metadata": {
        "id": "AgwXGxPfIAi7"
      },
      "source": [
        "#predict the labels using the pretrained logistric Regression model"
      ]
    },
    {
      "cell_type": "code",
      "metadata": {
        "id": "Kfjd8UigP_I3"
      },
      "source": [
        "def classifier_scores(X,y, y_pred):\r\n",
        "    \r\n",
        "    print()\r\n",
        "       \r\n",
        "    print(\"Test data accuracy score: \", accuracy_score(y,y_pred))\r\n",
        "    print()\r\n",
        "    print(\"Recall score on test data: \",recall_score( y,y_pred, average='macro'))\r\n",
        "    print()\r\n",
        "    print(\"Precision score on test data: \",precision_score(y,y_pred, average='macro'))\r\n",
        "    print()\r\n",
        "    print(\"F1 score on test data: \",f1_score(y,y_pred, average='macro'))"
      ],
      "execution_count": 34,
      "outputs": []
    },
    {
      "cell_type": "code",
      "metadata": {
        "colab": {
          "base_uri": "https://localhost:8080/"
        },
        "id": "A8wZ9vAKHNK3",
        "outputId": "d245c525-964b-4b18-b177-a5f9877cf4d4"
      },
      "source": [
        "#load the model \r\n",
        "file_path = '/content/drive/MyDrive/Colab Notebooks/dataFiles/Text_classification_news_article/logistricRegression_text_classi.sav'\r\n",
        "log_reg = pickle.load(open(file_path , 'rb'))\r\n",
        "y_pred = log_reg.predict(X_test)\r\n",
        "classifier_scores(X_test , y_test , y_pred)"
      ],
      "execution_count": 53,
      "outputs": [
        {
          "output_type": "stream",
          "text": [
            "\n",
            "Test data accuracy score:  0.08077799193972315\n",
            "\n",
            "Recall score on test data:  0.026904737605972815\n",
            "\n",
            "Precision score on test data:  0.0628267853311363\n",
            "\n",
            "F1 score on test data:  0.03626773332591833\n"
          ],
          "name": "stdout"
        },
        {
          "output_type": "stream",
          "text": [
            "/usr/local/lib/python3.6/dist-packages/sklearn/base.py:318: UserWarning: Trying to unpickle estimator LogisticRegression from version 0.23.2 when using version 0.22.2.post1. This might lead to breaking code or invalid results. Use at your own risk.\n",
            "  UserWarning)\n",
            "/usr/local/lib/python3.6/dist-packages/sklearn/metrics/_classification.py:1272: UndefinedMetricWarning: Recall is ill-defined and being set to 0.0 in labels with no true samples. Use `zero_division` parameter to control this behavior.\n",
            "  _warn_prf(average, modifier, msg_start, len(result))\n"
          ],
          "name": "stderr"
        }
      ]
    },
    {
      "cell_type": "code",
      "metadata": {
        "id": "V_6j2v6iP6EM"
      },
      "source": [
        "#label the dataset \r\n",
        "classes = ['POLITICS',\r\n",
        " 'WELLNESS',\r\n",
        " 'ENTERTAINMENT',\r\n",
        " 'TRAVEL',\r\n",
        " 'STYLE & BEAUTY',\r\n",
        " 'PARENTING',\r\n",
        " 'HEALTHY LIVING',\r\n",
        " 'QUEER VOICES',\r\n",
        " 'FOOD & DRINK',\r\n",
        " 'BUSINESS',\r\n",
        " 'COMEDY',\r\n",
        " 'PARENTS',\r\n",
        " 'SPORTS',\r\n",
        " 'HOME & LIVING',\r\n",
        " 'BLACK VOICES',]\r\n",
        "\r\n",
        "def num_label(row):\r\n",
        "  \r\n",
        "  return classes[row[0]]\r\n",
        "y_pred = pd.DataFrame(y_pred)\r\n",
        "y_pred['label'] = y_pred.apply(lambda row: num_label(row) , axis=1)\r\n",
        "\r\n",
        "#data_labeled = pd.concat(data['text'],[])"
      ],
      "execution_count": 54,
      "outputs": []
    },
    {
      "cell_type": "code",
      "metadata": {
        "colab": {
          "base_uri": "https://localhost:8080/",
          "height": 335
        },
        "id": "JgHk7vS9RuVp",
        "outputId": "75f56e9f-dda2-4475-d7c0-1c8ca4ea7345"
      },
      "source": [
        "data['predicted_label'] = y_pred['label']\r\n",
        "data.head(10)"
      ],
      "execution_count": 80,
      "outputs": [
        {
          "output_type": "execute_result",
          "data": {
            "text/html": [
              "<div>\n",
              "<style scoped>\n",
              "    .dataframe tbody tr th:only-of-type {\n",
              "        vertical-align: middle;\n",
              "    }\n",
              "\n",
              "    .dataframe tbody tr th {\n",
              "        vertical-align: top;\n",
              "    }\n",
              "\n",
              "    .dataframe thead th {\n",
              "        text-align: right;\n",
              "    }\n",
              "</style>\n",
              "<table border=\"1\" class=\"dataframe\">\n",
              "  <thead>\n",
              "    <tr style=\"text-align: right;\">\n",
              "      <th></th>\n",
              "      <th>text</th>\n",
              "      <th>topic</th>\n",
              "      <th>predicted_label</th>\n",
              "    </tr>\n",
              "  </thead>\n",
              "  <tbody>\n",
              "    <tr>\n",
              "      <th>0</th>\n",
              "      <td>The Food and Drug Administration has offered a...</td>\n",
              "      <td>politics</td>\n",
              "      <td>ENTERTAINMENT</td>\n",
              "    </tr>\n",
              "    <tr>\n",
              "      <th>1</th>\n",
              "      <td>The billâs gifts to the wealthy underscore t...</td>\n",
              "      <td>politics</td>\n",
              "      <td>PARENTS</td>\n",
              "    </tr>\n",
              "    <tr>\n",
              "      <th>2</th>\n",
              "      <td>It is naive to think that either party is free...</td>\n",
              "      <td>tech</td>\n",
              "      <td>HOME &amp; LIVING</td>\n",
              "    </tr>\n",
              "    <tr>\n",
              "      <th>3</th>\n",
              "      <td>Much of the loudest opposition to the $600 che...</td>\n",
              "      <td>business</td>\n",
              "      <td>BLACK VOICES</td>\n",
              "    </tr>\n",
              "    <tr>\n",
              "      <th>4</th>\n",
              "      <td>Reprising its 2016 and 2018 prison strikes, Fr...</td>\n",
              "      <td>tech</td>\n",
              "      <td>WELLNESS</td>\n",
              "    </tr>\n",
              "    <tr>\n",
              "      <th>5</th>\n",
              "      <td>The county of Los Angeles is perilously close ...</td>\n",
              "      <td>business</td>\n",
              "      <td>WELLNESS</td>\n",
              "    </tr>\n",
              "    <tr>\n",
              "      <th>6</th>\n",
              "      <td>What Trump may do in his waning days is only u...</td>\n",
              "      <td>politics</td>\n",
              "      <td>COMEDY</td>\n",
              "    </tr>\n",
              "    <tr>\n",
              "      <th>7</th>\n",
              "      <td>Critics say the $900 billion relief package do...</td>\n",
              "      <td>business</td>\n",
              "      <td>COMEDY</td>\n",
              "    </tr>\n",
              "    <tr>\n",
              "      <th>8</th>\n",
              "      <td>All the fashion, design, and art books that tr...</td>\n",
              "      <td>entertainment</td>\n",
              "      <td>SPORTS</td>\n",
              "    </tr>\n",
              "    <tr>\n",
              "      <th>9</th>\n",
              "      <td>Modeling is a physical business. So what happe...</td>\n",
              "      <td>entertainment</td>\n",
              "      <td>POLITICS</td>\n",
              "    </tr>\n",
              "  </tbody>\n",
              "</table>\n",
              "</div>"
            ],
            "text/plain": [
              "                                                text  ... predicted_label\n",
              "0  The Food and Drug Administration has offered a...  ...   ENTERTAINMENT\n",
              "1  The billâs gifts to the wealthy underscore t...  ...         PARENTS\n",
              "2  It is naive to think that either party is free...  ...   HOME & LIVING\n",
              "3  Much of the loudest opposition to the $600 che...  ...    BLACK VOICES\n",
              "4  Reprising its 2016 and 2018 prison strikes, Fr...  ...        WELLNESS\n",
              "5  The county of Los Angeles is perilously close ...  ...        WELLNESS\n",
              "6  What Trump may do in his waning days is only u...  ...          COMEDY\n",
              "7  Critics say the $900 billion relief package do...  ...          COMEDY\n",
              "8  All the fashion, design, and art books that tr...  ...          SPORTS\n",
              "9  Modeling is a physical business. So what happe...  ...        POLITICS\n",
              "\n",
              "[10 rows x 3 columns]"
            ]
          },
          "metadata": {
            "tags": []
          },
          "execution_count": 80
        }
      ]
    },
    {
      "cell_type": "code",
      "metadata": {
        "id": "_F4e0-KmUjzn"
      },
      "source": [
        ""
      ],
      "execution_count": null,
      "outputs": []
    }
  ]
}
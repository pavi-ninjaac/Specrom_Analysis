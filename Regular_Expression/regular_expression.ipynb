{
 "cells": [
  {
   "cell_type": "code",
   "execution_count": 6,
   "metadata": {},
   "outputs": [],
   "source": [
    "import re"
   ]
  },
  {
   "cell_type": "markdown",
   "metadata": {},
   "source": [
    "MetaCharacters\n",
    "Metacharacters are characters that are interpreted in a special way by a RegEx engine. Here's a list of metacharacters:\n",
    "\n",
    "[] . ^ $ * + ? {} () \\ |"
   ]
  },
  {
   "cell_type": "code",
   "execution_count": 19,
   "metadata": {},
   "outputs": [
    {
     "name": "stdout",
     "output_type": "stream",
     "text": [
      "['a', 'a']\n",
      "['m', 'y', ' ', 'f', 'i', 'r', 's', 't', ' ', 's', 't', 'p', ' ', 't', 'o', 'w', 'r', 's', ' ', 'r', 'g', 'u', 'l', 'r', ' ', 'x', 'p', 'r', 's', 's', 'i', 'o', 'n']\n"
     ]
    }
   ],
   "source": [
    "string = 'my first step towards regular expression'\n",
    "pattern = '[abc]'  # find a or b or c\n",
    "pattern2 = '[^a-e]' # find except abcde\n",
    "print(re.findall(pattern , string))\n",
    "print(re.findall(pattern2 , string))"
   ]
  },
  {
   "cell_type": "code",
   "execution_count": 22,
   "metadata": {},
   "outputs": [
    {
     "name": "stdout",
     "output_type": "stream",
     "text": [
      "['ab', 'as']\n",
      "['a', 'b', 'a', 's', 'd']\n"
     ]
    }
   ],
   "source": [
    "# use of .(period)\n",
    "###find the any single charecter\n",
    "\n",
    "string = 'abasd'\n",
    "pattern = '..'  # find a or b or c\n",
    "pattern2 = '.' # find except abcde\n",
    "print(re.findall(pattern , string))\n",
    "print(re.findall(pattern2 , string))"
   ]
  },
  {
   "cell_type": "code",
   "execution_count": 44,
   "metadata": {},
   "outputs": [
    {
     "name": "stdout",
     "output_type": "stream",
     "text": [
      "['abasd']\n",
      "[]\n"
     ]
    }
   ],
   "source": [
    "# use of ^ and $\n",
    "# find the string starts with(^) find the wirds ends with ($)\n",
    "string = 'abasd'\n",
    "pattern = '^a...d$'  \n",
    "pattern2 = '^i'\n",
    "print(re.findall(pattern , string))\n",
    "print(re.findall(pattern2 , string))"
   ]
  },
  {
   "cell_type": "markdown",
   "metadata": {},
   "source": [
    "## The plus symbol + matches one or more occurrences of the pattern left to it. (+)"
   ]
  },
  {
   "cell_type": "code",
   "execution_count": 49,
   "metadata": {},
   "outputs": [
    {
     "name": "stdout",
     "output_type": "stream",
     "text": [
      "['hat', 'haaat', 'haaat', 'hat']\n"
     ]
    }
   ],
   "source": [
    "# use of + and ?\n",
    "string = 'that can be so easy for us i think at aat haaat hhaaat hhat'\n",
    "pattern = 'ha+t'  # pattern is ---->'h (one or more number of 'a') t'\n",
    "\n",
    "print(re.findall(pattern , string))\n"
   ]
  },
  {
   "cell_type": "markdown",
   "metadata": {},
   "source": [
    "# The question mark symbol ? matches zero or one occurrence of the pattern left to it."
   ]
  },
  {
   "cell_type": "code",
   "execution_count": 50,
   "metadata": {},
   "outputs": [
    {
     "name": "stdout",
     "output_type": "stream",
     "text": [
      "['hat', 'hat', 'ht']\n"
     ]
    }
   ],
   "source": [
    "# use of + and ?\n",
    "string = 'that can be so easy for us i think at aat haaat hhaaat hhat ht'\n",
    "pattern = 'ha?t'  # pattern is ---->'h (one or zero number of 'a') t'\n",
    "\n",
    "print(re.findall(pattern , string))\n"
   ]
  },
  {
   "cell_type": "markdown",
   "metadata": {},
   "source": [
    "## Consider this code: {n,m}. This means at least n, and at most m repetitions of the pattern left to it.\n",
    "\n"
   ]
  },
  {
   "cell_type": "code",
   "execution_count": 53,
   "metadata": {},
   "outputs": [
    {
     "name": "stdout",
     "output_type": "stream",
     "text": [
      "12\n",
      "123\n",
      "123456\n"
     ]
    }
   ],
   "source": [
    "string = '12 123 1 2 123456'\n",
    "pattern = '[0-9]{2,4}'\n",
    "for s in string.split():\n",
    "    if re.match(pattern , s):\n",
    "        print(s)\n",
    "\n"
   ]
  },
  {
   "cell_type": "markdown",
   "metadata": {},
   "source": [
    "## use of the '|' it is for or operation"
   ]
  },
  {
   "cell_type": "code",
   "execution_count": 54,
   "metadata": {},
   "outputs": [
    {
     "name": "stdout",
     "output_type": "stream",
     "text": [
      "abutha\n",
      "be\n",
      "best\n"
     ]
    }
   ],
   "source": [
    "string = 'abutha be the best on'\n",
    "pattern = '^a|b' \n",
    "for s in string.split():\n",
    "    if re.match(pattern , s):\n",
    "        print(s)"
   ]
  },
  {
   "cell_type": "markdown",
   "metadata": {},
   "source": [
    "### use of the ()---> used to group the sub-patterns\n",
    "### use of the \\ ---> used to make the meta or specific charecter to normal string"
   ]
  },
  {
   "cell_type": "code",
   "execution_count": 56,
   "metadata": {},
   "outputs": [
    {
     "name": "stdout",
     "output_type": "stream",
     "text": [
      "$be\n",
      "^the\n",
      "on\n"
     ]
    }
   ],
   "source": [
    "string = 'abutha $be ^the best on'\n",
    "pattern = '^[\\$\\^o]' \n",
    "for s in string.split():\n",
    "    if re.match(pattern , s):\n",
    "        print(s)"
   ]
  },
  {
   "cell_type": "markdown",
   "metadata": {},
   "source": [
    "# Methods"
   ]
  },
  {
   "cell_type": "code",
   "execution_count": 57,
   "metadata": {},
   "outputs": [
    {
     "name": "stdout",
     "output_type": "stream",
     "text": [
      "['12', '89', '34']\n"
     ]
    }
   ],
   "source": [
    "\"\"\"re.findall()\n",
    "The re.findall() method returns a list of strings containing all matches.\n",
    "\n",
    "Example 1: re.findall()\n",
    "\n",
    "# Program to extract numbers from a string\n",
    "\n",
    "import re\"\"\"\n",
    "\n",
    "string = 'hello 12 hi 89. Howdy 34'\n",
    "pattern = '\\d+'\n",
    "\n",
    "result = re.findall(pattern, string) \n",
    "print(result)"
   ]
  },
  {
   "cell_type": "markdown",
   "metadata": {},
   "source": [
    "The re.split method splits the string where there is a match and returns a list of strings where the splits have occurred."
   ]
  },
  {
   "cell_type": "code",
   "execution_count": 58,
   "metadata": {},
   "outputs": [
    {
     "name": "stdout",
     "output_type": "stream",
     "text": [
      "['Twelve:', ' Eighty nine:', '.']\n"
     ]
    }
   ],
   "source": [
    "\"\"\"Example 2: re.split()\n",
    "\n",
    "import re\n",
    "\"\"\"\n",
    "string = 'Twelve:12 Eighty nine:89.'\n",
    "pattern = '\\d+'\n",
    "\n",
    "result = re.split(pattern, string) \n",
    "print(result)"
   ]
  },
  {
   "cell_type": "code",
   "execution_count": 59,
   "metadata": {},
   "outputs": [
    {
     "name": "stdout",
     "output_type": "stream",
     "text": [
      "['Twelve:', ' Eighty nine:89 Nine:9.']\n"
     ]
    }
   ],
   "source": [
    "# use of the max argument in split\n",
    "string = 'Twelve:12 Eighty nine:89 Nine:9.'\n",
    "pattern = '\\d+'\n",
    "\n",
    "# maxsplit = 1\n",
    "# split only at the first occurrence\n",
    "result = re.split(pattern, string, 1) \n",
    "print(result)"
   ]
  },
  {
   "cell_type": "markdown",
   "metadata": {},
   "source": [
    "The syntax of re.sub() is:\n",
    "\n",
    "re.sub(pattern, replace, string)\n",
    "The method returns a string where matched occurrences are replaced with the content of replace variable.\n",
    "\n"
   ]
  },
  {
   "cell_type": "code",
   "execution_count": 61,
   "metadata": {},
   "outputs": [
    {
     "name": "stdout",
     "output_type": "stream",
     "text": [
      "abc12de23f456\n"
     ]
    }
   ],
   "source": [
    "\n",
    "# Program to remove all whitespaces\n",
    "import re\n",
    "\n",
    "# multiline string\n",
    "string = 'abc 12\\\n",
    "de 23 \\n f45    6'\n",
    "\n",
    "# matches all whitespace characters\n",
    "pattern = '\\s+'\n",
    "\n",
    "# empty string\n",
    "replace = ''\n",
    "\n",
    "new_string = re.sub(pattern, replace, string) \n",
    "print(new_string)"
   ]
  },
  {
   "cell_type": "code",
   "execution_count": null,
   "metadata": {},
   "outputs": [],
   "source": [
    "\"\"\"Example 5: re.search()\n",
    "\n",
    "import re\"\"\"\n",
    "\n",
    "string = \"Python is fun\"\n",
    "\n",
    "# check if 'Python' is at the beginning\n",
    "match = re.search('\\APython', string)\n",
    "\n",
    "if match:\n",
    "  print(\"pattern found inside the string\")\n",
    "else:\n",
    "  print(\"pattern not found\")  \n"
   ]
  }
 ],
 "metadata": {
  "kernelspec": {
   "display_name": "Python 3.6 (tensorflow)",
   "language": "python",
   "name": "tensorflow"
  },
  "language_info": {
   "codemirror_mode": {
    "name": "ipython",
    "version": 3
   },
   "file_extension": ".py",
   "mimetype": "text/x-python",
   "name": "python",
   "nbconvert_exporter": "python",
   "pygments_lexer": "ipython3",
   "version": "3.7.6"
  }
 },
 "nbformat": 4,
 "nbformat_minor": 4
}

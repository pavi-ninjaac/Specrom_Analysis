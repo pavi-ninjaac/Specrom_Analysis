{
  "nbformat": 4,
  "nbformat_minor": 0,
  "metadata": {
    "colab": {
      "name": "Language_Detection_Using_Fasttext",
      "provenance": [],
      "mount_file_id": "1bFEa43rcqvJmJIhlGeSA8O1GURYUBOeX",
      "authorship_tag": "ABX9TyMG6T2Q8VO3x4BBgRrwF75j",
      "include_colab_link": true
    },
    "kernelspec": {
      "name": "python3",
      "display_name": "Python 3"
    }
  },
  "cells": [
    {
      "cell_type": "markdown",
      "metadata": {
        "id": "view-in-github",
        "colab_type": "text"
      },
      "source": [
        "<a href=\"https://colab.research.google.com/github/pavi-ninjaac/Specrom_Analysis/blob/main/Language_Detection_Using_Fasttext.ipynb\" target=\"_parent\"><img src=\"https://colab.research.google.com/assets/colab-badge.svg\" alt=\"Open In Colab\"/></a>"
      ]
    },
    {
      "cell_type": "code",
      "metadata": {
        "colab": {
          "base_uri": "https://localhost:8080/"
        },
        "id": "QHaLPEDEETIe",
        "outputId": "71209c86-a6e8-405c-f365-60e86e5165e9"
      },
      "source": [
        "!pip install fasttext\r\n",
        "!pip install pycountry"
      ],
      "execution_count": 5,
      "outputs": [
        {
          "output_type": "stream",
          "text": [
            "Collecting fasttext\n",
            "\u001b[?25l  Downloading https://files.pythonhosted.org/packages/f8/85/e2b368ab6d3528827b147fdb814f8189acc981a4bc2f99ab894650e05c40/fasttext-0.9.2.tar.gz (68kB)\n",
            "\r\u001b[K     |████▊                           | 10kB 17.0MB/s eta 0:00:01\r\u001b[K     |█████████▌                      | 20kB 20.3MB/s eta 0:00:01\r\u001b[K     |██████████████▎                 | 30kB 11.2MB/s eta 0:00:01\r\u001b[K     |███████████████████             | 40kB 8.6MB/s eta 0:00:01\r\u001b[K     |███████████████████████▉        | 51kB 4.4MB/s eta 0:00:01\r\u001b[K     |████████████████████████████▋   | 61kB 4.8MB/s eta 0:00:01\r\u001b[K     |████████████████████████████████| 71kB 3.2MB/s \n",
            "\u001b[?25hRequirement already satisfied: pybind11>=2.2 in /usr/local/lib/python3.6/dist-packages (from fasttext) (2.6.1)\n",
            "Requirement already satisfied: setuptools>=0.7.0 in /usr/local/lib/python3.6/dist-packages (from fasttext) (51.0.0)\n",
            "Requirement already satisfied: numpy in /usr/local/lib/python3.6/dist-packages (from fasttext) (1.19.4)\n",
            "Building wheels for collected packages: fasttext\n",
            "  Building wheel for fasttext (setup.py) ... \u001b[?25l\u001b[?25hdone\n",
            "  Created wheel for fasttext: filename=fasttext-0.9.2-cp36-cp36m-linux_x86_64.whl size=3041042 sha256=6a318f4b60ce98969cb7959322b32b86b6f28ded9635f18abe7c5055caab3a5e\n",
            "  Stored in directory: /root/.cache/pip/wheels/98/ba/7f/b154944a1cf5a8cee91c154b75231136cc3a3321ab0e30f592\n",
            "Successfully built fasttext\n",
            "Installing collected packages: fasttext\n",
            "Successfully installed fasttext-0.9.2\n",
            "Collecting pycountry\n",
            "\u001b[?25l  Downloading https://files.pythonhosted.org/packages/76/73/6f1a412f14f68c273feea29a6ea9b9f1e268177d32e0e69ad6790d306312/pycountry-20.7.3.tar.gz (10.1MB)\n",
            "\u001b[K     |████████████████████████████████| 10.1MB 4.0MB/s \n",
            "\u001b[?25hBuilding wheels for collected packages: pycountry\n",
            "  Building wheel for pycountry (setup.py) ... \u001b[?25l\u001b[?25hdone\n",
            "  Created wheel for pycountry: filename=pycountry-20.7.3-py2.py3-none-any.whl size=10746863 sha256=e55376467a4635a80db9f3b7e79fdc0f85b653a6273d4a5e6032c150f9728cdc\n",
            "  Stored in directory: /root/.cache/pip/wheels/33/4e/a6/be297e6b83567e537bed9df4a93f8590ec01c1acfbcd405348\n",
            "Successfully built pycountry\n",
            "Installing collected packages: pycountry\n",
            "Successfully installed pycountry-20.7.3\n"
          ],
          "name": "stdout"
        }
      ]
    },
    {
      "cell_type": "code",
      "metadata": {
        "colab": {
          "base_uri": "https://localhost:8080/"
        },
        "id": "6B8UlyeUD-jP",
        "outputId": "94bbdd0d-e9d0-41f7-d84e-3c27ad3b8808"
      },
      "source": [
        "#fasttext from fackbook having pretrained models to detect the language\r\n",
        "import fasttext\r\n",
        "\r\n",
        "class LanguageDetection:\r\n",
        "  def __init__(self):\r\n",
        "    pretrained_model_facebook_path = '/content/drive/MyDrive/Colab Notebooks/dataFiles/lid.176.bin' #store some where in your local machine and use it\r\n",
        "    self.model = fasttext.load_model(pretrained_model_facebook_path)\r\n",
        "  \r\n",
        "  def predict(self,text):\r\n",
        "    result = self.model.predict(text , 2) # return top 2 match languages\r\n",
        "    return result\r\n",
        "\r\n",
        "lan_dete = LanguageDetection() #initialize the class\r\n",
        "lang_name = lan_dete.predict('Hello everyone')# predict the text\r\n",
        "print(lang_name)"
      ],
      "execution_count": 8,
      "outputs": [
        {
          "output_type": "stream",
          "text": [
            "(('__label__en', '__label__sv'), array([0.89449024, 0.01162744]))\n"
          ],
          "name": "stdout"
        },
        {
          "output_type": "stream",
          "text": [
            "Warning : `load_model` does not return WordVectorModel or SupervisedModel any more, but a `FastText` object which is very similar.\n"
          ],
          "name": "stderr"
        }
      ]
    },
    {
      "cell_type": "code",
      "metadata": {
        "colab": {
          "base_uri": "https://localhost:8080/",
          "height": 35
        },
        "id": "zns9AK9ZEOyc",
        "outputId": "25210513-35a9-4d83-da6a-4d29ef618644"
      },
      "source": [
        "lang_name[0][0][-2:]"
      ],
      "execution_count": 9,
      "outputs": [
        {
          "output_type": "execute_result",
          "data": {
            "application/vnd.google.colaboratory.intrinsic+json": {
              "type": "string"
            },
            "text/plain": [
              "'en'"
            ]
          },
          "metadata": {
            "tags": []
          },
          "execution_count": 9
        }
      ]
    },
    {
      "cell_type": "markdown",
      "metadata": {
        "id": "C0-U6RbnFVDS"
      },
      "source": [
        "## Using pycountry to get the full language name"
      ]
    },
    {
      "cell_type": "code",
      "metadata": {
        "colab": {
          "base_uri": "https://localhost:8080/"
        },
        "id": "auZrbBJMEZLV",
        "outputId": "0d531b79-a5b1-4bcc-e293-185c9242700c"
      },
      "source": [
        "#use pycounter to find the full language name that was returned from fasttest\r\n",
        "from pycountry import languages\r\n",
        "lang_name = languages.get(alpha_2='en').name\r\n",
        "print(lang_name)"
      ],
      "execution_count": 10,
      "outputs": [
        {
          "output_type": "stream",
          "text": [
            "English\n"
          ],
          "name": "stdout"
        }
      ]
    },
    {
      "cell_type": "code",
      "metadata": {
        "id": "2Rk35D-yFTq6"
      },
      "source": [
        ""
      ],
      "execution_count": null,
      "outputs": []
    }
  ]
}